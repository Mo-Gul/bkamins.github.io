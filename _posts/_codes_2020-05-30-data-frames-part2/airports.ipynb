{
 "cells": [
  {
   "cell_type": "markdown",
   "metadata": {},
   "source": [
    "# Working with DataFrames.jl v0.21.1\n",
    "\n",
    "# Part 1\n",
    "\n",
    "## Bogumił Kamiński"
   ]
  },
  {
   "cell_type": "markdown",
   "metadata": {},
   "source": [
    "In this part of the tutorial we will use the *airports2.csv* file that is available for download here: https://www.kaggle.com/flashgordon/usa-airport-dataset. Therefore before starting it please be sure to download it and and have it un-zipped in your working directory.\n",
    "\n",
    "Our objective is to show the new features of v0.21.1 release of the DataFrames.jl package.\n",
    "\n",
    "This tutorial is not meant to be a replacement of a documentation - it just shows some practical application examples. If you want to know all the details of the discussed functionalities please refer to docstrings of the functions we show."
   ]
  },
  {
   "cell_type": "markdown",
   "metadata": {},
   "source": [
    "As usual in Julia, for every project you should have *Project.toml* and *Manifest.toml* files that specify the dependencies. They are bundled with this file in a GitHub gist.\n",
    "\n",
    "If you do not have much experience with project dependencies and want to understand more about managing them I recommend you to read https://bkamins.github.io/julialang/2020/05/18/project-workflow.html.\n",
    "\n",
    "This tutorial was developed under Julia 1.4.1."
   ]
  },
  {
   "cell_type": "markdown",
   "metadata": {},
   "source": [
    "Before we start let us make sure that you have the right versions of packages installed.\n",
    "\n",
    "The output of the command below should be:\n",
    "```\n",
    "  [6e4b80f9] BenchmarkTools v0.5.0\n",
    "  [336ed68f] CSV v0.6.2\n",
    "  [a93c6f00] DataFrames v0.21.1\n",
    "  [7073ff75] IJulia v1.21.2\n",
    "  [0f8b85d8] JSON3 v1.0.2\n",
    "  [b98c9c47] Pipe v1.2.0\n",
    "  [91a5bcdd] Plots v1.3.5\n",
    " ```"
   ]
  },
  {
   "cell_type": "code",
   "execution_count": 1,
   "metadata": {},
   "outputs": [
    {
     "name": "stdout",
     "output_type": "stream",
     "text": [
      "\u001b[32m\u001b[1mStatus\u001b[22m\u001b[39m `~/Desktop/bkamins.github.io/_posts/poczekalnia/airports/Project.toml`\n",
      " \u001b[90m [6e4b80f9]\u001b[39m\u001b[37m BenchmarkTools v0.5.0\u001b[39m\n",
      " \u001b[90m [336ed68f]\u001b[39m\u001b[37m CSV v0.6.2\u001b[39m\n",
      " \u001b[90m [a93c6f00]\u001b[39m\u001b[37m DataFrames v0.21.1\u001b[39m\n",
      " \u001b[90m [7073ff75]\u001b[39m\u001b[37m IJulia v1.21.2\u001b[39m\n",
      " \u001b[90m [0f8b85d8]\u001b[39m\u001b[37m JSON3 v1.0.2\u001b[39m\n",
      " \u001b[90m [b98c9c47]\u001b[39m\u001b[37m Pipe v1.2.0\u001b[39m\n",
      " \u001b[90m [91a5bcdd]\u001b[39m\u001b[37m Plots v1.3.5\u001b[39m\n"
     ]
    }
   ],
   "source": [
    "] status"
   ]
  },
  {
   "cell_type": "markdown",
   "metadata": {},
   "source": [
    "We start with loading the required packages and reading in the CSV file to a `DataFrame`:"
   ]
  },
  {
   "cell_type": "code",
   "execution_count": 2,
   "metadata": {},
   "outputs": [],
   "source": [
    "using BenchmarkTools\n",
    "using CSV\n",
    "using DataFrames\n",
    "using Dates\n",
    "using Pipe\n",
    "using Plots"
   ]
  },
  {
   "cell_type": "code",
   "execution_count": 3,
   "metadata": {
    "scrolled": true
   },
   "outputs": [
    {
     "data": {
      "text/html": [
       "<table class=\"data-frame\"><thead><tr><th></th><th>Origin_airport</th><th>Destination_airport</th><th>Origin_city</th><th>Destination_city</th><th>Passengers</th></tr><tr><th></th><th>String</th><th>String</th><th>String</th><th>String</th><th>Int64</th></tr></thead><tbody><p>3,606,803 rows × 15 columns (omitted printing of 10 columns)</p><tr><th>1</th><td>MHK</td><td>AMW</td><td>Manhattan, KS</td><td>Ames, IA</td><td>21</td></tr><tr><th>2</th><td>EUG</td><td>RDM</td><td>Eugene, OR</td><td>Bend, OR</td><td>41</td></tr><tr><th>3</th><td>EUG</td><td>RDM</td><td>Eugene, OR</td><td>Bend, OR</td><td>88</td></tr><tr><th>4</th><td>EUG</td><td>RDM</td><td>Eugene, OR</td><td>Bend, OR</td><td>11</td></tr><tr><th>5</th><td>MFR</td><td>RDM</td><td>Medford, OR</td><td>Bend, OR</td><td>0</td></tr><tr><th>6</th><td>MFR</td><td>RDM</td><td>Medford, OR</td><td>Bend, OR</td><td>11</td></tr><tr><th>7</th><td>MFR</td><td>RDM</td><td>Medford, OR</td><td>Bend, OR</td><td>2</td></tr><tr><th>8</th><td>MFR</td><td>RDM</td><td>Medford, OR</td><td>Bend, OR</td><td>7</td></tr><tr><th>9</th><td>MFR</td><td>RDM</td><td>Medford, OR</td><td>Bend, OR</td><td>7</td></tr><tr><th>10</th><td>SEA</td><td>RDM</td><td>Seattle, WA</td><td>Bend, OR</td><td>8</td></tr><tr><th>11</th><td>SEA</td><td>RDM</td><td>Seattle, WA</td><td>Bend, OR</td><td>453</td></tr><tr><th>12</th><td>SEA</td><td>RDM</td><td>Seattle, WA</td><td>Bend, OR</td><td>784</td></tr><tr><th>13</th><td>SEA</td><td>RDM</td><td>Seattle, WA</td><td>Bend, OR</td><td>749</td></tr><tr><th>14</th><td>SEA</td><td>RDM</td><td>Seattle, WA</td><td>Bend, OR</td><td>11</td></tr><tr><th>15</th><td>PDX</td><td>RDM</td><td>Portland, OR</td><td>Bend, OR</td><td>349</td></tr><tr><th>16</th><td>PDX</td><td>RDM</td><td>Portland, OR</td><td>Bend, OR</td><td>1376</td></tr><tr><th>17</th><td>PDX</td><td>RDM</td><td>Portland, OR</td><td>Bend, OR</td><td>444</td></tr><tr><th>18</th><td>PDX</td><td>RDM</td><td>Portland, OR</td><td>Bend, OR</td><td>1949</td></tr><tr><th>19</th><td>PDX</td><td>RDM</td><td>Portland, OR</td><td>Bend, OR</td><td>381</td></tr><tr><th>20</th><td>PDX</td><td>RDM</td><td>Portland, OR</td><td>Bend, OR</td><td>1559</td></tr><tr><th>21</th><td>PDX</td><td>RDM</td><td>Portland, OR</td><td>Bend, OR</td><td>1852</td></tr><tr><th>22</th><td>PDX</td><td>RDM</td><td>Portland, OR</td><td>Bend, OR</td><td>483</td></tr><tr><th>23</th><td>PDX</td><td>RDM</td><td>Portland, OR</td><td>Bend, OR</td><td>1965</td></tr><tr><th>24</th><td>PDX</td><td>RDM</td><td>Portland, OR</td><td>Bend, OR</td><td>494</td></tr><tr><th>25</th><td>PDX</td><td>RDM</td><td>Portland, OR</td><td>Bend, OR</td><td>459</td></tr><tr><th>26</th><td>PDX</td><td>RDM</td><td>Portland, OR</td><td>Bend, OR</td><td>553</td></tr><tr><th>27</th><td>PDX</td><td>RDM</td><td>Portland, OR</td><td>Bend, OR</td><td>1887</td></tr><tr><th>28</th><td>PDX</td><td>RDM</td><td>Portland, OR</td><td>Bend, OR</td><td>773</td></tr><tr><th>29</th><td>PDX</td><td>RDM</td><td>Portland, OR</td><td>Bend, OR</td><td>1800</td></tr><tr><th>30</th><td>PDX</td><td>RDM</td><td>Portland, OR</td><td>Bend, OR</td><td>1173</td></tr><tr><th>&vellip;</th><td>&vellip;</td><td>&vellip;</td><td>&vellip;</td><td>&vellip;</td><td>&vellip;</td></tr></tbody></table>"
      ],
      "text/latex": [
       "\\begin{tabular}{r|cccccc}\n",
       "\t& Origin\\_airport & Destination\\_airport & Origin\\_city & Destination\\_city & Passengers & \\\\\n",
       "\t\\hline\n",
       "\t& String & String & String & String & Int64 & \\\\\n",
       "\t\\hline\n",
       "\t1 & MHK & AMW & Manhattan, KS & Ames, IA & 21 & $\\dots$ \\\\\n",
       "\t2 & EUG & RDM & Eugene, OR & Bend, OR & 41 & $\\dots$ \\\\\n",
       "\t3 & EUG & RDM & Eugene, OR & Bend, OR & 88 & $\\dots$ \\\\\n",
       "\t4 & EUG & RDM & Eugene, OR & Bend, OR & 11 & $\\dots$ \\\\\n",
       "\t5 & MFR & RDM & Medford, OR & Bend, OR & 0 & $\\dots$ \\\\\n",
       "\t6 & MFR & RDM & Medford, OR & Bend, OR & 11 & $\\dots$ \\\\\n",
       "\t7 & MFR & RDM & Medford, OR & Bend, OR & 2 & $\\dots$ \\\\\n",
       "\t8 & MFR & RDM & Medford, OR & Bend, OR & 7 & $\\dots$ \\\\\n",
       "\t9 & MFR & RDM & Medford, OR & Bend, OR & 7 & $\\dots$ \\\\\n",
       "\t10 & SEA & RDM & Seattle, WA & Bend, OR & 8 & $\\dots$ \\\\\n",
       "\t11 & SEA & RDM & Seattle, WA & Bend, OR & 453 & $\\dots$ \\\\\n",
       "\t12 & SEA & RDM & Seattle, WA & Bend, OR & 784 & $\\dots$ \\\\\n",
       "\t13 & SEA & RDM & Seattle, WA & Bend, OR & 749 & $\\dots$ \\\\\n",
       "\t14 & SEA & RDM & Seattle, WA & Bend, OR & 11 & $\\dots$ \\\\\n",
       "\t15 & PDX & RDM & Portland, OR & Bend, OR & 349 & $\\dots$ \\\\\n",
       "\t16 & PDX & RDM & Portland, OR & Bend, OR & 1376 & $\\dots$ \\\\\n",
       "\t17 & PDX & RDM & Portland, OR & Bend, OR & 444 & $\\dots$ \\\\\n",
       "\t18 & PDX & RDM & Portland, OR & Bend, OR & 1949 & $\\dots$ \\\\\n",
       "\t19 & PDX & RDM & Portland, OR & Bend, OR & 381 & $\\dots$ \\\\\n",
       "\t20 & PDX & RDM & Portland, OR & Bend, OR & 1559 & $\\dots$ \\\\\n",
       "\t21 & PDX & RDM & Portland, OR & Bend, OR & 1852 & $\\dots$ \\\\\n",
       "\t22 & PDX & RDM & Portland, OR & Bend, OR & 483 & $\\dots$ \\\\\n",
       "\t23 & PDX & RDM & Portland, OR & Bend, OR & 1965 & $\\dots$ \\\\\n",
       "\t24 & PDX & RDM & Portland, OR & Bend, OR & 494 & $\\dots$ \\\\\n",
       "\t25 & PDX & RDM & Portland, OR & Bend, OR & 459 & $\\dots$ \\\\\n",
       "\t26 & PDX & RDM & Portland, OR & Bend, OR & 553 & $\\dots$ \\\\\n",
       "\t27 & PDX & RDM & Portland, OR & Bend, OR & 1887 & $\\dots$ \\\\\n",
       "\t28 & PDX & RDM & Portland, OR & Bend, OR & 773 & $\\dots$ \\\\\n",
       "\t29 & PDX & RDM & Portland, OR & Bend, OR & 1800 & $\\dots$ \\\\\n",
       "\t30 & PDX & RDM & Portland, OR & Bend, OR & 1173 & $\\dots$ \\\\\n",
       "\t$\\dots$ & $\\dots$ & $\\dots$ & $\\dots$ & $\\dots$ & $\\dots$ &  \\\\\n",
       "\\end{tabular}\n"
      ],
      "text/plain": [
       "3606803×15 DataFrame. Omitted printing of 12 columns\n",
       "│ Row     │ Origin_airport │ Destination_airport │ Origin_city        │\n",
       "│         │ \u001b[90mString\u001b[39m         │ \u001b[90mString\u001b[39m              │ \u001b[90mString\u001b[39m             │\n",
       "├─────────┼────────────────┼─────────────────────┼────────────────────┤\n",
       "│ 1       │ MHK            │ AMW                 │ Manhattan, KS      │\n",
       "│ 2       │ EUG            │ RDM                 │ Eugene, OR         │\n",
       "│ 3       │ EUG            │ RDM                 │ Eugene, OR         │\n",
       "│ 4       │ EUG            │ RDM                 │ Eugene, OR         │\n",
       "│ 5       │ MFR            │ RDM                 │ Medford, OR        │\n",
       "│ 6       │ MFR            │ RDM                 │ Medford, OR        │\n",
       "│ 7       │ MFR            │ RDM                 │ Medford, OR        │\n",
       "│ 8       │ MFR            │ RDM                 │ Medford, OR        │\n",
       "│ 9       │ MFR            │ RDM                 │ Medford, OR        │\n",
       "│ 10      │ SEA            │ RDM                 │ Seattle, WA        │\n",
       "⋮\n",
       "│ 3606793 │ BRL            │ TBN                 │ Burlington, IA     │\n",
       "│ 3606794 │ STL            │ TBN                 │ St. Louis, MO      │\n",
       "│ 3606795 │ STL            │ TBN                 │ St. Louis, MO      │\n",
       "│ 3606796 │ STL            │ TBN                 │ St. Louis, MO      │\n",
       "│ 3606797 │ STL            │ TBN                 │ St. Louis, MO      │\n",
       "│ 3606798 │ STL            │ TBN                 │ St. Louis, MO      │\n",
       "│ 3606799 │ STL            │ TBN                 │ St. Louis, MO      │\n",
       "│ 3606800 │ STL            │ TBN                 │ St. Louis, MO      │\n",
       "│ 3606801 │ STL            │ TBN                 │ St. Louis, MO      │\n",
       "│ 3606802 │ CGI            │ TBN                 │ Cape Girardeau, MO │\n",
       "│ 3606803 │ FWA            │ OH1                 │ Fort Wayne, IN     │"
      ]
     },
     "execution_count": 3,
     "metadata": {},
     "output_type": "execute_result"
    }
   ],
   "source": [
    "df = CSV.File(\"Airports2.csv\") |> DataFrame"
   ]
  },
  {
   "cell_type": "markdown",
   "metadata": {},
   "source": [
    "Before we move on let us change the display settings to allow for printing wider outupt and reduce the numbe of lines printed."
   ]
  },
  {
   "cell_type": "code",
   "execution_count": 4,
   "metadata": {},
   "outputs": [
    {
     "data": {
      "text/plain": [
       "20"
      ]
     },
     "execution_count": 4,
     "metadata": {},
     "output_type": "execute_result"
    }
   ],
   "source": [
    "ENV[\"LINES\"] = 20 # lines are counted in number of rows printed"
   ]
  },
  {
   "cell_type": "code",
   "execution_count": 5,
   "metadata": {},
   "outputs": [
    {
     "data": {
      "text/plain": [
       "1000"
      ]
     },
     "execution_count": 5,
     "metadata": {},
     "output_type": "execute_result"
    }
   ],
   "source": [
    "ENV[\"COLUMNS\"] = 1000 # columns are counted in characters"
   ]
  },
  {
   "cell_type": "markdown",
   "metadata": {},
   "source": [
    "After these changes Jupyter Notebook shoud show us all columns of the data frame we have just loaded. Let us check it."
   ]
  },
  {
   "cell_type": "code",
   "execution_count": 6,
   "metadata": {
    "scrolled": true
   },
   "outputs": [
    {
     "data": {
      "text/html": [
       "<table class=\"data-frame\"><thead><tr><th></th><th>Origin_airport</th><th>Destination_airport</th><th>Origin_city</th><th>Destination_city</th><th>Passengers</th><th>Seats</th><th>Flights</th><th>Distance</th><th>Fly_date</th><th>Origin_population</th><th>Destination_population</th><th>Org_airport_lat</th><th>Org_airport_long</th><th>Dest_airport_lat</th><th>Dest_airport_long</th></tr><tr><th></th><th>String</th><th>String</th><th>String</th><th>String</th><th>Int64</th><th>Int64</th><th>Int64</th><th>Int64</th><th>Date</th><th>Int64</th><th>Int64</th><th>String</th><th>String</th><th>String</th><th>String</th></tr></thead><tbody><p>3,606,803 rows × 15 columns</p><tr><th>1</th><td>MHK</td><td>AMW</td><td>Manhattan, KS</td><td>Ames, IA</td><td>21</td><td>30</td><td>1</td><td>254</td><td>2008-10-01</td><td>122049</td><td>86219</td><td>39.140998840332</td><td>-96.6707992553711</td><td>NA</td><td>NA</td></tr><tr><th>2</th><td>EUG</td><td>RDM</td><td>Eugene, OR</td><td>Bend, OR</td><td>41</td><td>396</td><td>22</td><td>103</td><td>1990-11-01</td><td>284093</td><td>76034</td><td>44.1245994567871</td><td>-123.21199798584</td><td>44.2541008</td><td>-121.1500015</td></tr><tr><th>3</th><td>EUG</td><td>RDM</td><td>Eugene, OR</td><td>Bend, OR</td><td>88</td><td>342</td><td>19</td><td>103</td><td>1990-12-01</td><td>284093</td><td>76034</td><td>44.1245994567871</td><td>-123.21199798584</td><td>44.2541008</td><td>-121.1500015</td></tr><tr><th>4</th><td>EUG</td><td>RDM</td><td>Eugene, OR</td><td>Bend, OR</td><td>11</td><td>72</td><td>4</td><td>103</td><td>1990-10-01</td><td>284093</td><td>76034</td><td>44.1245994567871</td><td>-123.21199798584</td><td>44.2541008</td><td>-121.1500015</td></tr><tr><th>5</th><td>MFR</td><td>RDM</td><td>Medford, OR</td><td>Bend, OR</td><td>0</td><td>18</td><td>1</td><td>156</td><td>1990-02-01</td><td>147300</td><td>76034</td><td>42.3741989135742</td><td>-122.873001098633</td><td>44.2541008</td><td>-121.1500015</td></tr><tr><th>6</th><td>MFR</td><td>RDM</td><td>Medford, OR</td><td>Bend, OR</td><td>11</td><td>18</td><td>1</td><td>156</td><td>1990-03-01</td><td>147300</td><td>76034</td><td>42.3741989135742</td><td>-122.873001098633</td><td>44.2541008</td><td>-121.1500015</td></tr><tr><th>7</th><td>MFR</td><td>RDM</td><td>Medford, OR</td><td>Bend, OR</td><td>2</td><td>72</td><td>4</td><td>156</td><td>1990-01-01</td><td>147300</td><td>76034</td><td>42.3741989135742</td><td>-122.873001098633</td><td>44.2541008</td><td>-121.1500015</td></tr><tr><th>8</th><td>MFR</td><td>RDM</td><td>Medford, OR</td><td>Bend, OR</td><td>7</td><td>18</td><td>1</td><td>156</td><td>1990-09-01</td><td>147300</td><td>76034</td><td>42.3741989135742</td><td>-122.873001098633</td><td>44.2541008</td><td>-121.1500015</td></tr><tr><th>9</th><td>MFR</td><td>RDM</td><td>Medford, OR</td><td>Bend, OR</td><td>7</td><td>36</td><td>2</td><td>156</td><td>1990-11-01</td><td>147300</td><td>76034</td><td>42.3741989135742</td><td>-122.873001098633</td><td>44.2541008</td><td>-121.1500015</td></tr><tr><th>10</th><td>SEA</td><td>RDM</td><td>Seattle, WA</td><td>Bend, OR</td><td>8</td><td>18</td><td>1</td><td>228</td><td>1990-02-01</td><td>5154164</td><td>76034</td><td>47.4490013122559</td><td>-122.30899810791</td><td>44.2541008</td><td>-121.1500015</td></tr><tr><th>11</th><td>SEA</td><td>RDM</td><td>Seattle, WA</td><td>Bend, OR</td><td>453</td><td>3128</td><td>23</td><td>228</td><td>1990-01-01</td><td>5154164</td><td>76034</td><td>47.4490013122559</td><td>-122.30899810791</td><td>44.2541008</td><td>-121.1500015</td></tr><tr><th>12</th><td>SEA</td><td>RDM</td><td>Seattle, WA</td><td>Bend, OR</td><td>784</td><td>2720</td><td>20</td><td>228</td><td>1990-02-01</td><td>5154164</td><td>76034</td><td>47.4490013122559</td><td>-122.30899810791</td><td>44.2541008</td><td>-121.1500015</td></tr><tr><th>13</th><td>SEA</td><td>RDM</td><td>Seattle, WA</td><td>Bend, OR</td><td>749</td><td>2992</td><td>22</td><td>228</td><td>1990-03-01</td><td>5154164</td><td>76034</td><td>47.4490013122559</td><td>-122.30899810791</td><td>44.2541008</td><td>-121.1500015</td></tr><tr><th>14</th><td>SEA</td><td>RDM</td><td>Seattle, WA</td><td>Bend, OR</td><td>11</td><td>18</td><td>1</td><td>228</td><td>1990-04-01</td><td>5154164</td><td>76034</td><td>47.4490013122559</td><td>-122.30899810791</td><td>44.2541008</td><td>-121.1500015</td></tr><tr><th>15</th><td>PDX</td><td>RDM</td><td>Portland, OR</td><td>Bend, OR</td><td>349</td><td>851</td><td>23</td><td>116</td><td>1990-01-01</td><td>1534762</td><td>76034</td><td>45.58869934</td><td>-122.5979996</td><td>44.2541008</td><td>-121.1500015</td></tr><tr><th>16</th><td>PDX</td><td>RDM</td><td>Portland, OR</td><td>Bend, OR</td><td>1376</td><td>2898</td><td>161</td><td>116</td><td>1990-01-01</td><td>1534762</td><td>76034</td><td>45.58869934</td><td>-122.5979996</td><td>44.2541008</td><td>-121.1500015</td></tr><tr><th>17</th><td>PDX</td><td>RDM</td><td>Portland, OR</td><td>Bend, OR</td><td>444</td><td>1110</td><td>30</td><td>116</td><td>1990-10-01</td><td>1534762</td><td>76034</td><td>45.58869934</td><td>-122.5979996</td><td>44.2541008</td><td>-121.1500015</td></tr><tr><th>18</th><td>PDX</td><td>RDM</td><td>Portland, OR</td><td>Bend, OR</td><td>1949</td><td>3261</td><td>187</td><td>116</td><td>1990-06-01</td><td>1534762</td><td>76034</td><td>45.58869934</td><td>-122.5979996</td><td>44.2541008</td><td>-121.1500015</td></tr><tr><th>19</th><td>PDX</td><td>RDM</td><td>Portland, OR</td><td>Bend, OR</td><td>381</td><td>814</td><td>22</td><td>116</td><td>1990-02-01</td><td>1534762</td><td>76034</td><td>45.58869934</td><td>-122.5979996</td><td>44.2541008</td><td>-121.1500015</td></tr><tr><th>20</th><td>PDX</td><td>RDM</td><td>Portland, OR</td><td>Bend, OR</td><td>1559</td><td>2772</td><td>154</td><td>116</td><td>1990-02-01</td><td>1534762</td><td>76034</td><td>45.58869934</td><td>-122.5979996</td><td>44.2541008</td><td>-121.1500015</td></tr><tr><th>&vellip;</th><td>&vellip;</td><td>&vellip;</td><td>&vellip;</td><td>&vellip;</td><td>&vellip;</td><td>&vellip;</td><td>&vellip;</td><td>&vellip;</td><td>&vellip;</td><td>&vellip;</td><td>&vellip;</td><td>&vellip;</td><td>&vellip;</td><td>&vellip;</td><td>&vellip;</td></tr></tbody></table>"
      ],
      "text/latex": [
       "\\begin{tabular}{r|ccccccccccccccc}\n",
       "\t& Origin\\_airport & Destination\\_airport & Origin\\_city & Destination\\_city & Passengers & Seats & Flights & Distance & Fly\\_date & Origin\\_population & Destination\\_population & Org\\_airport\\_lat & Org\\_airport\\_long & Dest\\_airport\\_lat & Dest\\_airport\\_long\\\\\n",
       "\t\\hline\n",
       "\t& String & String & String & String & Int64 & Int64 & Int64 & Int64 & Date & Int64 & Int64 & String & String & String & String\\\\\n",
       "\t\\hline\n",
       "\t1 & MHK & AMW & Manhattan, KS & Ames, IA & 21 & 30 & 1 & 254 & 2008-10-01 & 122049 & 86219 & 39.140998840332 & -96.6707992553711 & NA & NA \\\\\n",
       "\t2 & EUG & RDM & Eugene, OR & Bend, OR & 41 & 396 & 22 & 103 & 1990-11-01 & 284093 & 76034 & 44.1245994567871 & -123.21199798584 & 44.2541008 & -121.1500015 \\\\\n",
       "\t3 & EUG & RDM & Eugene, OR & Bend, OR & 88 & 342 & 19 & 103 & 1990-12-01 & 284093 & 76034 & 44.1245994567871 & -123.21199798584 & 44.2541008 & -121.1500015 \\\\\n",
       "\t4 & EUG & RDM & Eugene, OR & Bend, OR & 11 & 72 & 4 & 103 & 1990-10-01 & 284093 & 76034 & 44.1245994567871 & -123.21199798584 & 44.2541008 & -121.1500015 \\\\\n",
       "\t5 & MFR & RDM & Medford, OR & Bend, OR & 0 & 18 & 1 & 156 & 1990-02-01 & 147300 & 76034 & 42.3741989135742 & -122.873001098633 & 44.2541008 & -121.1500015 \\\\\n",
       "\t6 & MFR & RDM & Medford, OR & Bend, OR & 11 & 18 & 1 & 156 & 1990-03-01 & 147300 & 76034 & 42.3741989135742 & -122.873001098633 & 44.2541008 & -121.1500015 \\\\\n",
       "\t7 & MFR & RDM & Medford, OR & Bend, OR & 2 & 72 & 4 & 156 & 1990-01-01 & 147300 & 76034 & 42.3741989135742 & -122.873001098633 & 44.2541008 & -121.1500015 \\\\\n",
       "\t8 & MFR & RDM & Medford, OR & Bend, OR & 7 & 18 & 1 & 156 & 1990-09-01 & 147300 & 76034 & 42.3741989135742 & -122.873001098633 & 44.2541008 & -121.1500015 \\\\\n",
       "\t9 & MFR & RDM & Medford, OR & Bend, OR & 7 & 36 & 2 & 156 & 1990-11-01 & 147300 & 76034 & 42.3741989135742 & -122.873001098633 & 44.2541008 & -121.1500015 \\\\\n",
       "\t10 & SEA & RDM & Seattle, WA & Bend, OR & 8 & 18 & 1 & 228 & 1990-02-01 & 5154164 & 76034 & 47.4490013122559 & -122.30899810791 & 44.2541008 & -121.1500015 \\\\\n",
       "\t11 & SEA & RDM & Seattle, WA & Bend, OR & 453 & 3128 & 23 & 228 & 1990-01-01 & 5154164 & 76034 & 47.4490013122559 & -122.30899810791 & 44.2541008 & -121.1500015 \\\\\n",
       "\t12 & SEA & RDM & Seattle, WA & Bend, OR & 784 & 2720 & 20 & 228 & 1990-02-01 & 5154164 & 76034 & 47.4490013122559 & -122.30899810791 & 44.2541008 & -121.1500015 \\\\\n",
       "\t13 & SEA & RDM & Seattle, WA & Bend, OR & 749 & 2992 & 22 & 228 & 1990-03-01 & 5154164 & 76034 & 47.4490013122559 & -122.30899810791 & 44.2541008 & -121.1500015 \\\\\n",
       "\t14 & SEA & RDM & Seattle, WA & Bend, OR & 11 & 18 & 1 & 228 & 1990-04-01 & 5154164 & 76034 & 47.4490013122559 & -122.30899810791 & 44.2541008 & -121.1500015 \\\\\n",
       "\t15 & PDX & RDM & Portland, OR & Bend, OR & 349 & 851 & 23 & 116 & 1990-01-01 & 1534762 & 76034 & 45.58869934 & -122.5979996 & 44.2541008 & -121.1500015 \\\\\n",
       "\t16 & PDX & RDM & Portland, OR & Bend, OR & 1376 & 2898 & 161 & 116 & 1990-01-01 & 1534762 & 76034 & 45.58869934 & -122.5979996 & 44.2541008 & -121.1500015 \\\\\n",
       "\t17 & PDX & RDM & Portland, OR & Bend, OR & 444 & 1110 & 30 & 116 & 1990-10-01 & 1534762 & 76034 & 45.58869934 & -122.5979996 & 44.2541008 & -121.1500015 \\\\\n",
       "\t18 & PDX & RDM & Portland, OR & Bend, OR & 1949 & 3261 & 187 & 116 & 1990-06-01 & 1534762 & 76034 & 45.58869934 & -122.5979996 & 44.2541008 & -121.1500015 \\\\\n",
       "\t19 & PDX & RDM & Portland, OR & Bend, OR & 381 & 814 & 22 & 116 & 1990-02-01 & 1534762 & 76034 & 45.58869934 & -122.5979996 & 44.2541008 & -121.1500015 \\\\\n",
       "\t20 & PDX & RDM & Portland, OR & Bend, OR & 1559 & 2772 & 154 & 116 & 1990-02-01 & 1534762 & 76034 & 45.58869934 & -122.5979996 & 44.2541008 & -121.1500015 \\\\\n",
       "\t$\\dots$ & $\\dots$ & $\\dots$ & $\\dots$ & $\\dots$ & $\\dots$ & $\\dots$ & $\\dots$ & $\\dots$ & $\\dots$ & $\\dots$ & $\\dots$ & $\\dots$ & $\\dots$ & $\\dots$ & $\\dots$ \\\\\n",
       "\\end{tabular}\n"
      ],
      "text/plain": [
       "3606803×15 DataFrame\n",
       "│ Row     │ Origin_airport │ Destination_airport │ Origin_city        │ Destination_city           │ Passengers │ Seats │ Flights │ Distance │ Fly_date   │ Origin_population │ Destination_population │ Org_airport_lat  │ Org_airport_long  │ Dest_airport_lat │ Dest_airport_long │\n",
       "│         │ \u001b[90mString\u001b[39m         │ \u001b[90mString\u001b[39m              │ \u001b[90mString\u001b[39m             │ \u001b[90mString\u001b[39m                     │ \u001b[90mInt64\u001b[39m      │ \u001b[90mInt64\u001b[39m │ \u001b[90mInt64\u001b[39m   │ \u001b[90mInt64\u001b[39m    │ \u001b[90mDate\u001b[39m       │ \u001b[90mInt64\u001b[39m             │ \u001b[90mInt64\u001b[39m                  │ \u001b[90mString\u001b[39m           │ \u001b[90mString\u001b[39m            │ \u001b[90mString\u001b[39m           │ \u001b[90mString\u001b[39m            │\n",
       "├─────────┼────────────────┼─────────────────────┼────────────────────┼────────────────────────────┼────────────┼───────┼─────────┼──────────┼────────────┼───────────────────┼────────────────────────┼──────────────────┼───────────────────┼──────────────────┼───────────────────┤\n",
       "│ 1       │ MHK            │ AMW                 │ Manhattan, KS      │ Ames, IA                   │ 21         │ 30    │ 1       │ 254      │ 2008-10-01 │ 122049            │ 86219                  │ 39.140998840332  │ -96.6707992553711 │ NA               │ NA                │\n",
       "│ 2       │ EUG            │ RDM                 │ Eugene, OR         │ Bend, OR                   │ 41         │ 396   │ 22      │ 103      │ 1990-11-01 │ 284093            │ 76034                  │ 44.1245994567871 │ -123.21199798584  │ 44.2541008       │ -121.1500015      │\n",
       "│ 3       │ EUG            │ RDM                 │ Eugene, OR         │ Bend, OR                   │ 88         │ 342   │ 19      │ 103      │ 1990-12-01 │ 284093            │ 76034                  │ 44.1245994567871 │ -123.21199798584  │ 44.2541008       │ -121.1500015      │\n",
       "│ 4       │ EUG            │ RDM                 │ Eugene, OR         │ Bend, OR                   │ 11         │ 72    │ 4       │ 103      │ 1990-10-01 │ 284093            │ 76034                  │ 44.1245994567871 │ -123.21199798584  │ 44.2541008       │ -121.1500015      │\n",
       "│ 5       │ MFR            │ RDM                 │ Medford, OR        │ Bend, OR                   │ 0          │ 18    │ 1       │ 156      │ 1990-02-01 │ 147300            │ 76034                  │ 42.3741989135742 │ -122.873001098633 │ 44.2541008       │ -121.1500015      │\n",
       "⋮\n",
       "│ 3606798 │ STL            │ TBN                 │ St. Louis, MO      │ Fort Leonard Wood, MO      │ 292        │ 1311  │ 69      │ 119      │ 2009-06-01 │ 2828990           │ 46457                  │ 38.7486991882324 │ -90.370002746582  │ 37.74160004      │ -92.14070129      │\n",
       "│ 3606799 │ STL            │ TBN                 │ St. Louis, MO      │ Fort Leonard Wood, MO      │ 281        │ 969   │ 51      │ 119      │ 2009-02-01 │ 2828990           │ 46457                  │ 38.7486991882324 │ -90.370002746582  │ 37.74160004      │ -92.14070129      │\n",
       "│ 3606800 │ STL            │ TBN                 │ St. Louis, MO      │ Fort Leonard Wood, MO      │ 245        │ 1026  │ 54      │ 119      │ 2009-11-01 │ 2828990           │ 46457                  │ 38.7486991882324 │ -90.370002746582  │ 37.74160004      │ -92.14070129      │\n",
       "│ 3606801 │ STL            │ TBN                 │ St. Louis, MO      │ Fort Leonard Wood, MO      │ 363        │ 1273  │ 67      │ 119      │ 2009-08-01 │ 2828990           │ 46457                  │ 38.7486991882324 │ -90.370002746582  │ 37.74160004      │ -92.14070129      │\n",
       "│ 3606802 │ CGI            │ TBN                 │ Cape Girardeau, MO │ Fort Leonard Wood, MO      │ 2          │ 19    │ 1       │ 146      │ 2009-08-01 │ 93712             │ 46457                  │ 37.2252998352051 │ -89.57080078125   │ 37.74160004      │ -92.14070129      │\n",
       "│ 3606803 │ FWA            │ OH1                 │ Fort Wayne, IN     │ Washington Court House, OH │ 0          │ 0     │ 1       │ 135      │ 2003-09-01 │ 398574            │ 28133                  │ 40.97850037      │ -85.19509888      │ NA               │ NA                │"
      ]
     },
     "execution_count": 6,
     "metadata": {},
     "output_type": "execute_result"
    }
   ],
   "source": [
    "df"
   ]
  },
  {
   "cell_type": "markdown",
   "metadata": {},
   "source": [
    "Our data frame contains the following columns:\n",
    "\n",
    "1. `:Origin_airport`: Three letter airport code of the origin airport\n",
    "2. `:Destination_airport`: Three letter airport code of the destination airport\n",
    "3. `:Origin_city`: Origin city name\n",
    "4. `:Destination_city`: Destination city name\n",
    "5. `:Passengers`: Number of passengers transported from origin to destination\n",
    "6. `:Seats`: Number of seats available on flights from origin to destination\n",
    "7. `:Flights`: Number of flights between origin and destination (multiple records for one month, many with flights > 1)\n",
    "8. `:Distance`: Distance (to nearest mile) flown between origin and destination\n",
    "9. `:Fly_date`: The date (yyyymm) of flight\n",
    "10. `:Origin_population`: Origin city's population as reported by US Census\n",
    "11. `:Destination_population`: Destination city's population as reported by US Census\n",
    "\n",
    "Let us first investigate its metadata"
   ]
  },
  {
   "cell_type": "code",
   "execution_count": 7,
   "metadata": {},
   "outputs": [
    {
     "data": {
      "text/plain": [
       "(3606803, 15)"
      ]
     },
     "execution_count": 7,
     "metadata": {},
     "output_type": "execute_result"
    }
   ],
   "source": [
    "size(df)"
   ]
  },
  {
   "cell_type": "code",
   "execution_count": 8,
   "metadata": {},
   "outputs": [
    {
     "data": {
      "text/plain": [
       "3606803"
      ]
     },
     "execution_count": 8,
     "metadata": {},
     "output_type": "execute_result"
    }
   ],
   "source": [
    "nrow(df)"
   ]
  },
  {
   "cell_type": "code",
   "execution_count": 9,
   "metadata": {},
   "outputs": [
    {
     "data": {
      "text/plain": [
       "15"
      ]
     },
     "execution_count": 9,
     "metadata": {},
     "output_type": "execute_result"
    }
   ],
   "source": [
    "ncol(df)"
   ]
  },
  {
   "cell_type": "code",
   "execution_count": 10,
   "metadata": {},
   "outputs": [
    {
     "data": {
      "text/plain": [
       "15-element Array{String,1}:\n",
       " \"Origin_airport\"\n",
       " \"Destination_airport\"\n",
       " \"Origin_city\"\n",
       " \"Destination_city\"\n",
       " \"Passengers\"\n",
       " \"Seats\"\n",
       " \"Flights\"\n",
       " \"Distance\"\n",
       " \"Fly_date\"\n",
       " \"Origin_population\"\n",
       " \"Destination_population\"\n",
       " \"Org_airport_lat\"\n",
       " \"Org_airport_long\"\n",
       " \"Dest_airport_lat\"\n",
       " \"Dest_airport_long\""
      ]
     },
     "execution_count": 10,
     "metadata": {},
     "output_type": "execute_result"
    }
   ],
   "source": [
    "names(df)"
   ]
  },
  {
   "cell_type": "code",
   "execution_count": 11,
   "metadata": {},
   "outputs": [
    {
     "data": {
      "text/plain": [
       "15-element Array{Symbol,1}:\n",
       " :Origin_airport\n",
       " :Destination_airport\n",
       " :Origin_city\n",
       " :Destination_city\n",
       " :Passengers\n",
       " :Seats\n",
       " :Flights\n",
       " :Distance\n",
       " :Fly_date\n",
       " :Origin_population\n",
       " :Destination_population\n",
       " :Org_airport_lat\n",
       " :Org_airport_long\n",
       " :Dest_airport_lat\n",
       " :Dest_airport_long"
      ]
     },
     "execution_count": 11,
     "metadata": {},
     "output_type": "execute_result"
    }
   ],
   "source": [
    "propertynames(df)"
   ]
  },
  {
   "cell_type": "markdown",
   "metadata": {},
   "source": [
    "An important thing to note is that the `names` function returns a vector of `String`s and the `propertynames` function returns a vector of `Symbol`s.\n",
    "\n",
    "In DataFrames.jl both strings and `Symbol`s can be used for column indexing."
   ]
  },
  {
   "cell_type": "markdown",
   "metadata": {},
   "source": [
    "Let us now get some summary statistics of our data set using the `describe` function:"
   ]
  },
  {
   "cell_type": "code",
   "execution_count": 12,
   "metadata": {},
   "outputs": [
    {
     "data": {
      "text/html": [
       "<table class=\"data-frame\"><thead><tr><th></th><th>variable</th><th>mean</th><th>min</th><th>median</th><th>max</th><th>nunique</th><th>nmissing</th><th>eltype</th></tr><tr><th></th><th>Symbol</th><th>Union…</th><th>Any</th><th>Union…</th><th>Any</th><th>Union…</th><th>Nothing</th><th>DataType</th></tr></thead><tbody><p>15 rows × 8 columns</p><tr><th>1</th><td>Origin_airport</td><td></td><td>1B1</td><td></td><td>ZZV</td><td>683</td><td></td><td>String</td></tr><tr><th>2</th><td>Destination_airport</td><td></td><td>1B1</td><td></td><td>ZZV</td><td>708</td><td></td><td>String</td></tr><tr><th>3</th><td>Origin_city</td><td></td><td>Aberdeen, SD</td><td></td><td>Zanesville, OH</td><td>535</td><td></td><td>String</td></tr><tr><th>4</th><td>Destination_city</td><td></td><td>Aberdeen, SD</td><td></td><td>Zanesville, OH</td><td>548</td><td></td><td>String</td></tr><tr><th>5</th><td>Passengers</td><td>2688.91</td><td>0</td><td>1118.0</td><td>89597</td><td></td><td></td><td>Int64</td></tr><tr><th>6</th><td>Seats</td><td>4048.3</td><td>0</td><td>1998.0</td><td>147062</td><td></td><td></td><td>Int64</td></tr><tr><th>7</th><td>Flights</td><td>37.2289</td><td>0</td><td>25.0</td><td>1128</td><td></td><td></td><td>Int64</td></tr><tr><th>8</th><td>Distance</td><td>697.319</td><td>0</td><td>519.0</td><td>5095</td><td></td><td></td><td>Int64</td></tr><tr><th>9</th><td>Fly_date</td><td></td><td>1990-01-01</td><td></td><td>2009-12-01</td><td>240</td><td></td><td>Date</td></tr><tr><th>10</th><td>Origin_population</td><td>5.8715e6</td><td>13005</td><td>2.40019e6</td><td>38139592</td><td></td><td></td><td>Int64</td></tr><tr><th>11</th><td>Destination_population</td><td>5.89798e6</td><td>12887</td><td>2.40019e6</td><td>38139592</td><td></td><td></td><td>Int64</td></tr><tr><th>12</th><td>Org_airport_lat</td><td></td><td>19.721399307251</td><td></td><td>NA</td><td>478</td><td></td><td>String</td></tr><tr><th>13</th><td>Org_airport_long</td><td></td><td>-100.2860031</td><td></td><td>NA</td><td>478</td><td></td><td>String</td></tr><tr><th>14</th><td>Dest_airport_lat</td><td></td><td>19.721399307251</td><td></td><td>NA</td><td>485</td><td></td><td>String</td></tr><tr><th>15</th><td>Dest_airport_long</td><td></td><td>-100.2860031</td><td></td><td>NA</td><td>485</td><td></td><td>String</td></tr></tbody></table>"
      ],
      "text/latex": [
       "\\begin{tabular}{r|cccccccc}\n",
       "\t& variable & mean & min & median & max & nunique & nmissing & eltype\\\\\n",
       "\t\\hline\n",
       "\t& Symbol & Union… & Any & Union… & Any & Union… & Nothing & DataType\\\\\n",
       "\t\\hline\n",
       "\t1 & Origin\\_airport &  & 1B1 &  & ZZV & 683 &  & String \\\\\n",
       "\t2 & Destination\\_airport &  & 1B1 &  & ZZV & 708 &  & String \\\\\n",
       "\t3 & Origin\\_city &  & Aberdeen, SD &  & Zanesville, OH & 535 &  & String \\\\\n",
       "\t4 & Destination\\_city &  & Aberdeen, SD &  & Zanesville, OH & 548 &  & String \\\\\n",
       "\t5 & Passengers & 2688.91 & 0 & 1118.0 & 89597 &  &  & Int64 \\\\\n",
       "\t6 & Seats & 4048.3 & 0 & 1998.0 & 147062 &  &  & Int64 \\\\\n",
       "\t7 & Flights & 37.2289 & 0 & 25.0 & 1128 &  &  & Int64 \\\\\n",
       "\t8 & Distance & 697.319 & 0 & 519.0 & 5095 &  &  & Int64 \\\\\n",
       "\t9 & Fly\\_date &  & 1990-01-01 &  & 2009-12-01 & 240 &  & Date \\\\\n",
       "\t10 & Origin\\_population & 5.8715e6 & 13005 & 2.40019e6 & 38139592 &  &  & Int64 \\\\\n",
       "\t11 & Destination\\_population & 5.89798e6 & 12887 & 2.40019e6 & 38139592 &  &  & Int64 \\\\\n",
       "\t12 & Org\\_airport\\_lat &  & 19.721399307251 &  & NA & 478 &  & String \\\\\n",
       "\t13 & Org\\_airport\\_long &  & -100.2860031 &  & NA & 478 &  & String \\\\\n",
       "\t14 & Dest\\_airport\\_lat &  & 19.721399307251 &  & NA & 485 &  & String \\\\\n",
       "\t15 & Dest\\_airport\\_long &  & -100.2860031 &  & NA & 485 &  & String \\\\\n",
       "\\end{tabular}\n"
      ],
      "text/plain": [
       "15×8 DataFrame\n",
       "│ Row │ variable               │ mean      │ min             │ median    │ max            │ nunique │ nmissing │ eltype   │\n",
       "│     │ \u001b[90mSymbol\u001b[39m                 │ \u001b[90mUnion…\u001b[39m    │ \u001b[90mAny\u001b[39m             │ \u001b[90mUnion…\u001b[39m    │ \u001b[90mAny\u001b[39m            │ \u001b[90mUnion…\u001b[39m  │ \u001b[90mNothing\u001b[39m  │ \u001b[90mDataType\u001b[39m │\n",
       "├─────┼────────────────────────┼───────────┼─────────────────┼───────────┼────────────────┼─────────┼──────────┼──────────┤\n",
       "│ 1   │ Origin_airport         │           │ 1B1             │           │ ZZV            │ 683     │          │ String   │\n",
       "│ 2   │ Destination_airport    │           │ 1B1             │           │ ZZV            │ 708     │          │ String   │\n",
       "│ 3   │ Origin_city            │           │ Aberdeen, SD    │           │ Zanesville, OH │ 535     │          │ String   │\n",
       "│ 4   │ Destination_city       │           │ Aberdeen, SD    │           │ Zanesville, OH │ 548     │          │ String   │\n",
       "│ 5   │ Passengers             │ 2688.91   │ 0               │ 1118.0    │ 89597          │         │          │ Int64    │\n",
       "⋮\n",
       "│ 10  │ Origin_population      │ 5.8715e6  │ 13005           │ 2.40019e6 │ 38139592       │         │          │ Int64    │\n",
       "│ 11  │ Destination_population │ 5.89798e6 │ 12887           │ 2.40019e6 │ 38139592       │         │          │ Int64    │\n",
       "│ 12  │ Org_airport_lat        │           │ 19.721399307251 │           │ NA             │ 478     │          │ String   │\n",
       "│ 13  │ Org_airport_long       │           │ -100.2860031    │           │ NA             │ 478     │          │ String   │\n",
       "│ 14  │ Dest_airport_lat       │           │ 19.721399307251 │           │ NA             │ 485     │          │ String   │\n",
       "│ 15  │ Dest_airport_long      │           │ -100.2860031    │           │ NA             │ 485     │          │ String   │"
      ]
     },
     "execution_count": 12,
     "metadata": {},
     "output_type": "execute_result"
    }
   ],
   "source": [
    "describe(df)"
   ]
  },
  {
   "cell_type": "markdown",
   "metadata": {},
   "source": [
    "In particular note that CSV.jl correctly idenfitied `:Fly_date` column as being a `Date` type."
   ]
  },
  {
   "cell_type": "markdown",
   "metadata": {},
   "source": [
    "When we investigate the summary statistics we note that there are flights that potentially have `0` passengers, `0` seats, or `0` flights.\n",
    "\n",
    "In parctice if you get such data it is good to investigate it, as it shows some potential data quality issues.\n",
    "\n",
    "Let us investigate into it (with a first deep-dive into new features of DataFrames.jl 0.21 release)."
   ]
  },
  {
   "cell_type": "code",
   "execution_count": 13,
   "metadata": {},
   "outputs": [
    {
     "data": {
      "text/html": [
       "<table class=\"data-frame\"><thead><tr><th></th><th>Passengers</th><th>Seats</th><th>Flights</th><th>nrow</th></tr><tr><th></th><th>Bool</th><th>Bool</th><th>Bool</th><th>Int64</th></tr></thead><tbody><p>8 rows × 4 columns</p><tr><th>1</th><td>0</td><td>0</td><td>0</td><td>11239</td></tr><tr><th>2</th><td>0</td><td>0</td><td>1</td><td>322787</td></tr><tr><th>3</th><td>0</td><td>1</td><td>0</td><td>94</td></tr><tr><th>4</th><td>0</td><td>1</td><td>1</td><td>51772</td></tr><tr><th>5</th><td>1</td><td>0</td><td>0</td><td>7</td></tr><tr><th>6</th><td>1</td><td>0</td><td>1</td><td>3</td></tr><tr><th>7</th><td>1</td><td>1</td><td>0</td><td>56</td></tr><tr><th>8</th><td>1</td><td>1</td><td>1</td><td>3220845</td></tr></tbody></table>"
      ],
      "text/latex": [
       "\\begin{tabular}{r|cccc}\n",
       "\t& Passengers & Seats & Flights & nrow\\\\\n",
       "\t\\hline\n",
       "\t& Bool & Bool & Bool & Int64\\\\\n",
       "\t\\hline\n",
       "\t1 & 0 & 0 & 0 & 11239 \\\\\n",
       "\t2 & 0 & 0 & 1 & 322787 \\\\\n",
       "\t3 & 0 & 1 & 0 & 94 \\\\\n",
       "\t4 & 0 & 1 & 1 & 51772 \\\\\n",
       "\t5 & 1 & 0 & 0 & 7 \\\\\n",
       "\t6 & 1 & 0 & 1 & 3 \\\\\n",
       "\t7 & 1 & 1 & 0 & 56 \\\\\n",
       "\t8 & 1 & 1 & 1 & 3220845 \\\\\n",
       "\\end{tabular}\n"
      ],
      "text/plain": [
       "8×4 DataFrame\n",
       "│ Row │ Passengers │ Seats │ Flights │ nrow    │\n",
       "│     │ \u001b[90mBool\u001b[39m       │ \u001b[90mBool\u001b[39m  │ \u001b[90mBool\u001b[39m    │ \u001b[90mInt64\u001b[39m   │\n",
       "├─────┼────────────┼───────┼─────────┼─────────┤\n",
       "│ 1   │ 0          │ 0     │ 0       │ 11239   │\n",
       "│ 2   │ 0          │ 0     │ 1       │ 322787  │\n",
       "│ 3   │ 0          │ 1     │ 0       │ 94      │\n",
       "│ 4   │ 0          │ 1     │ 1       │ 51772   │\n",
       "│ 5   │ 1          │ 0     │ 0       │ 7       │\n",
       "│ 6   │ 1          │ 0     │ 1       │ 3       │\n",
       "│ 7   │ 1          │ 1     │ 0       │ 56      │\n",
       "│ 8   │ 1          │ 1     │ 1       │ 3220845 │"
      ]
     },
     "execution_count": 13,
     "metadata": {},
     "output_type": "execute_result"
    }
   ],
   "source": [
    "@pipe df |>\n",
    "      select(_, :Passengers, :Seats, :Flights) |>\n",
    "      mapcols(x -> x .> 0, _) |>\n",
    "      groupby(_, :, sort=true) |>\n",
    "      combine(_, nrow)"
   ]
  },
  {
   "cell_type": "markdown",
   "metadata": {},
   "source": [
    "Before interpreting the results let us dissect the code:\n",
    "1. `@pipe` is a macro from Pipe.jl package, that makes it easy to chain function calls and makes `_` a placeholder for a value returned by a function that was earlier in the chain (you can read about the details here: https://github.com/oxinabox/Pipe.jl)\n",
    "2. `select` creates a new data frame that keeps only three columns that we are interested in\n",
    "3. `mapcols` transforms each column of our data frame to have `Bool` element; it will have a value `true` if an entry is greater than `0` and `false` otherwise. In this way we are able to easily idenfity rows with `0` entries, as they are most interesting for us\n",
    "4. `groupby` groups our data frame by all columns and tells DataFrames.jl that the gorups should be sorted\n",
    "5. finally `combine` just counts the number of rows in each group"
   ]
  },
  {
   "cell_type": "markdown",
   "metadata": {},
   "source": [
    "Now going to our results - some of entries can be explained, like `0` passenges, but some seats and some flights (I guess it means that just no one took some flight).\n",
    "\n",
    "However cases like some passengers, but `0` seats and `0` flights are probably a mistake in data (we have 7 rows that have this combination of values).\n",
    "\n",
    "Let us try to find these 7 rows in two ways:"
   ]
  },
  {
   "cell_type": "code",
   "execution_count": 14,
   "metadata": {},
   "outputs": [
    {
     "data": {
      "text/html": [
       "<table class=\"data-frame\"><thead><tr><th></th><th>Origin_airport</th><th>Destination_airport</th><th>Origin_city</th><th>Destination_city</th><th>Passengers</th><th>Seats</th><th>Flights</th><th>Distance</th><th>Fly_date</th><th>Origin_population</th><th>Destination_population</th><th>Org_airport_lat</th><th>Org_airport_long</th><th>Dest_airport_lat</th><th>Dest_airport_long</th></tr><tr><th></th><th>String</th><th>String</th><th>String</th><th>String</th><th>Int64</th><th>Int64</th><th>Int64</th><th>Int64</th><th>Date</th><th>Int64</th><th>Int64</th><th>String</th><th>String</th><th>String</th><th>String</th></tr></thead><tbody><p>7 rows × 15 columns</p><tr><th>1</th><td>ABR</td><td>PIR</td><td>Aberdeen, SD</td><td>Pierre, SD</td><td>11</td><td>0</td><td>0</td><td>117</td><td>1997-11-01</td><td>39903</td><td>18289</td><td>45.4491004943848</td><td>-98.4217987060547</td><td>44.38270187</td><td>-100.2860031</td></tr><tr><th>2</th><td>IAD</td><td>BKW</td><td>Washington, DC</td><td>Beckley, WV</td><td>2</td><td>0</td><td>0</td><td>215</td><td>2002-12-01</td><td>10029142</td><td>78851</td><td>38.94449997</td><td>-77.45580292</td><td>37.7873001099</td><td>-81.1241989136</td></tr><tr><th>3</th><td>IAD</td><td>BKW</td><td>Washington, DC</td><td>Beckley, WV</td><td>1</td><td>0</td><td>0</td><td>215</td><td>2003-02-01</td><td>10172752</td><td>78587</td><td>38.94449997</td><td>-77.45580292</td><td>37.7873001099</td><td>-81.1241989136</td></tr><tr><th>4</th><td>IAD</td><td>BKW</td><td>Washington, DC</td><td>Beckley, WV</td><td>2</td><td>0</td><td>0</td><td>215</td><td>2003-03-01</td><td>10172752</td><td>78587</td><td>38.94449997</td><td>-77.45580292</td><td>37.7873001099</td><td>-81.1241989136</td></tr><tr><th>5</th><td>BOS</td><td>LAS</td><td>Boston, MA</td><td>Las Vegas, NV</td><td>9</td><td>0</td><td>0</td><td>2381</td><td>1993-06-01</td><td>8260582</td><td>877917</td><td>42.36429977</td><td>-71.00520325</td><td>36.08010101</td><td>-115.1520004</td></tr><tr><th>6</th><td>BKW</td><td>IAD</td><td>Beckley, WV</td><td>Washington, DC</td><td>7</td><td>0</td><td>0</td><td>215</td><td>2002-12-01</td><td>78851</td><td>10029142</td><td>37.7873001099</td><td>-81.1241989136</td><td>38.94449997</td><td>-77.45580292</td></tr><tr><th>7</th><td>CMI</td><td>BMI</td><td>Champaign, IL</td><td>Bloomington, IL</td><td>6</td><td>0</td><td>0</td><td>46</td><td>1997-11-01</td><td>201107</td><td>141699</td><td>40.03919983</td><td>-88.27809906</td><td>40.47710037</td><td>-88.91590118</td></tr></tbody></table>"
      ],
      "text/latex": [
       "\\begin{tabular}{r|ccccccccccccccc}\n",
       "\t& Origin\\_airport & Destination\\_airport & Origin\\_city & Destination\\_city & Passengers & Seats & Flights & Distance & Fly\\_date & Origin\\_population & Destination\\_population & Org\\_airport\\_lat & Org\\_airport\\_long & Dest\\_airport\\_lat & Dest\\_airport\\_long\\\\\n",
       "\t\\hline\n",
       "\t& String & String & String & String & Int64 & Int64 & Int64 & Int64 & Date & Int64 & Int64 & String & String & String & String\\\\\n",
       "\t\\hline\n",
       "\t1 & ABR & PIR & Aberdeen, SD & Pierre, SD & 11 & 0 & 0 & 117 & 1997-11-01 & 39903 & 18289 & 45.4491004943848 & -98.4217987060547 & 44.38270187 & -100.2860031 \\\\\n",
       "\t2 & IAD & BKW & Washington, DC & Beckley, WV & 2 & 0 & 0 & 215 & 2002-12-01 & 10029142 & 78851 & 38.94449997 & -77.45580292 & 37.7873001099 & -81.1241989136 \\\\\n",
       "\t3 & IAD & BKW & Washington, DC & Beckley, WV & 1 & 0 & 0 & 215 & 2003-02-01 & 10172752 & 78587 & 38.94449997 & -77.45580292 & 37.7873001099 & -81.1241989136 \\\\\n",
       "\t4 & IAD & BKW & Washington, DC & Beckley, WV & 2 & 0 & 0 & 215 & 2003-03-01 & 10172752 & 78587 & 38.94449997 & -77.45580292 & 37.7873001099 & -81.1241989136 \\\\\n",
       "\t5 & BOS & LAS & Boston, MA & Las Vegas, NV & 9 & 0 & 0 & 2381 & 1993-06-01 & 8260582 & 877917 & 42.36429977 & -71.00520325 & 36.08010101 & -115.1520004 \\\\\n",
       "\t6 & BKW & IAD & Beckley, WV & Washington, DC & 7 & 0 & 0 & 215 & 2002-12-01 & 78851 & 10029142 & 37.7873001099 & -81.1241989136 & 38.94449997 & -77.45580292 \\\\\n",
       "\t7 & CMI & BMI & Champaign, IL & Bloomington, IL & 6 & 0 & 0 & 46 & 1997-11-01 & 201107 & 141699 & 40.03919983 & -88.27809906 & 40.47710037 & -88.91590118 \\\\\n",
       "\\end{tabular}\n"
      ],
      "text/plain": [
       "7×15 DataFrame\n",
       "│ Row │ Origin_airport │ Destination_airport │ Origin_city    │ Destination_city │ Passengers │ Seats │ Flights │ Distance │ Fly_date   │ Origin_population │ Destination_population │ Org_airport_lat  │ Org_airport_long  │ Dest_airport_lat │ Dest_airport_long │\n",
       "│     │ \u001b[90mString\u001b[39m         │ \u001b[90mString\u001b[39m              │ \u001b[90mString\u001b[39m         │ \u001b[90mString\u001b[39m           │ \u001b[90mInt64\u001b[39m      │ \u001b[90mInt64\u001b[39m │ \u001b[90mInt64\u001b[39m   │ \u001b[90mInt64\u001b[39m    │ \u001b[90mDate\u001b[39m       │ \u001b[90mInt64\u001b[39m             │ \u001b[90mInt64\u001b[39m                  │ \u001b[90mString\u001b[39m           │ \u001b[90mString\u001b[39m            │ \u001b[90mString\u001b[39m           │ \u001b[90mString\u001b[39m            │\n",
       "├─────┼────────────────┼─────────────────────┼────────────────┼──────────────────┼────────────┼───────┼─────────┼──────────┼────────────┼───────────────────┼────────────────────────┼──────────────────┼───────────────────┼──────────────────┼───────────────────┤\n",
       "│ 1   │ ABR            │ PIR                 │ Aberdeen, SD   │ Pierre, SD       │ 11         │ 0     │ 0       │ 117      │ 1997-11-01 │ 39903             │ 18289                  │ 45.4491004943848 │ -98.4217987060547 │ 44.38270187      │ -100.2860031      │\n",
       "│ 2   │ IAD            │ BKW                 │ Washington, DC │ Beckley, WV      │ 2          │ 0     │ 0       │ 215      │ 2002-12-01 │ 10029142          │ 78851                  │ 38.94449997      │ -77.45580292      │ 37.7873001099    │ -81.1241989136    │\n",
       "│ 3   │ IAD            │ BKW                 │ Washington, DC │ Beckley, WV      │ 1          │ 0     │ 0       │ 215      │ 2003-02-01 │ 10172752          │ 78587                  │ 38.94449997      │ -77.45580292      │ 37.7873001099    │ -81.1241989136    │\n",
       "│ 4   │ IAD            │ BKW                 │ Washington, DC │ Beckley, WV      │ 2          │ 0     │ 0       │ 215      │ 2003-03-01 │ 10172752          │ 78587                  │ 38.94449997      │ -77.45580292      │ 37.7873001099    │ -81.1241989136    │\n",
       "│ 5   │ BOS            │ LAS                 │ Boston, MA     │ Las Vegas, NV    │ 9          │ 0     │ 0       │ 2381     │ 1993-06-01 │ 8260582           │ 877917                 │ 42.36429977      │ -71.00520325      │ 36.08010101      │ -115.1520004      │\n",
       "│ 6   │ BKW            │ IAD                 │ Beckley, WV    │ Washington, DC   │ 7          │ 0     │ 0       │ 215      │ 2002-12-01 │ 78851             │ 10029142               │ 37.7873001099    │ -81.1241989136    │ 38.94449997      │ -77.45580292      │\n",
       "│ 7   │ CMI            │ BMI                 │ Champaign, IL  │ Bloomington, IL  │ 6          │ 0     │ 0       │ 46       │ 1997-11-01 │ 201107            │ 141699                 │ 40.03919983      │ -88.27809906      │ 40.47710037      │ -88.91590118      │"
      ]
     },
     "execution_count": 14,
     "metadata": {},
     "output_type": "execute_result"
    }
   ],
   "source": [
    "filter(row -> row.Passengers > 0 && row.Seats == 0 && row.Flights == 0, df)"
   ]
  },
  {
   "cell_type": "code",
   "execution_count": 15,
   "metadata": {},
   "outputs": [
    {
     "data": {
      "text/html": [
       "<table class=\"data-frame\"><thead><tr><th></th><th>Origin_airport</th><th>Destination_airport</th><th>Origin_city</th><th>Destination_city</th><th>Passengers</th><th>Seats</th><th>Flights</th><th>Distance</th><th>Fly_date</th><th>Origin_population</th><th>Destination_population</th><th>Org_airport_lat</th><th>Org_airport_long</th><th>Dest_airport_lat</th><th>Dest_airport_long</th></tr><tr><th></th><th>String</th><th>String</th><th>String</th><th>String</th><th>Int64</th><th>Int64</th><th>Int64</th><th>Int64</th><th>Date</th><th>Int64</th><th>Int64</th><th>String</th><th>String</th><th>String</th><th>String</th></tr></thead><tbody><p>7 rows × 15 columns</p><tr><th>1</th><td>ABR</td><td>PIR</td><td>Aberdeen, SD</td><td>Pierre, SD</td><td>11</td><td>0</td><td>0</td><td>117</td><td>1997-11-01</td><td>39903</td><td>18289</td><td>45.4491004943848</td><td>-98.4217987060547</td><td>44.38270187</td><td>-100.2860031</td></tr><tr><th>2</th><td>IAD</td><td>BKW</td><td>Washington, DC</td><td>Beckley, WV</td><td>2</td><td>0</td><td>0</td><td>215</td><td>2002-12-01</td><td>10029142</td><td>78851</td><td>38.94449997</td><td>-77.45580292</td><td>37.7873001099</td><td>-81.1241989136</td></tr><tr><th>3</th><td>IAD</td><td>BKW</td><td>Washington, DC</td><td>Beckley, WV</td><td>1</td><td>0</td><td>0</td><td>215</td><td>2003-02-01</td><td>10172752</td><td>78587</td><td>38.94449997</td><td>-77.45580292</td><td>37.7873001099</td><td>-81.1241989136</td></tr><tr><th>4</th><td>IAD</td><td>BKW</td><td>Washington, DC</td><td>Beckley, WV</td><td>2</td><td>0</td><td>0</td><td>215</td><td>2003-03-01</td><td>10172752</td><td>78587</td><td>38.94449997</td><td>-77.45580292</td><td>37.7873001099</td><td>-81.1241989136</td></tr><tr><th>5</th><td>BOS</td><td>LAS</td><td>Boston, MA</td><td>Las Vegas, NV</td><td>9</td><td>0</td><td>0</td><td>2381</td><td>1993-06-01</td><td>8260582</td><td>877917</td><td>42.36429977</td><td>-71.00520325</td><td>36.08010101</td><td>-115.1520004</td></tr><tr><th>6</th><td>BKW</td><td>IAD</td><td>Beckley, WV</td><td>Washington, DC</td><td>7</td><td>0</td><td>0</td><td>215</td><td>2002-12-01</td><td>78851</td><td>10029142</td><td>37.7873001099</td><td>-81.1241989136</td><td>38.94449997</td><td>-77.45580292</td></tr><tr><th>7</th><td>CMI</td><td>BMI</td><td>Champaign, IL</td><td>Bloomington, IL</td><td>6</td><td>0</td><td>0</td><td>46</td><td>1997-11-01</td><td>201107</td><td>141699</td><td>40.03919983</td><td>-88.27809906</td><td>40.47710037</td><td>-88.91590118</td></tr></tbody></table>"
      ],
      "text/latex": [
       "\\begin{tabular}{r|ccccccccccccccc}\n",
       "\t& Origin\\_airport & Destination\\_airport & Origin\\_city & Destination\\_city & Passengers & Seats & Flights & Distance & Fly\\_date & Origin\\_population & Destination\\_population & Org\\_airport\\_lat & Org\\_airport\\_long & Dest\\_airport\\_lat & Dest\\_airport\\_long\\\\\n",
       "\t\\hline\n",
       "\t& String & String & String & String & Int64 & Int64 & Int64 & Int64 & Date & Int64 & Int64 & String & String & String & String\\\\\n",
       "\t\\hline\n",
       "\t1 & ABR & PIR & Aberdeen, SD & Pierre, SD & 11 & 0 & 0 & 117 & 1997-11-01 & 39903 & 18289 & 45.4491004943848 & -98.4217987060547 & 44.38270187 & -100.2860031 \\\\\n",
       "\t2 & IAD & BKW & Washington, DC & Beckley, WV & 2 & 0 & 0 & 215 & 2002-12-01 & 10029142 & 78851 & 38.94449997 & -77.45580292 & 37.7873001099 & -81.1241989136 \\\\\n",
       "\t3 & IAD & BKW & Washington, DC & Beckley, WV & 1 & 0 & 0 & 215 & 2003-02-01 & 10172752 & 78587 & 38.94449997 & -77.45580292 & 37.7873001099 & -81.1241989136 \\\\\n",
       "\t4 & IAD & BKW & Washington, DC & Beckley, WV & 2 & 0 & 0 & 215 & 2003-03-01 & 10172752 & 78587 & 38.94449997 & -77.45580292 & 37.7873001099 & -81.1241989136 \\\\\n",
       "\t5 & BOS & LAS & Boston, MA & Las Vegas, NV & 9 & 0 & 0 & 2381 & 1993-06-01 & 8260582 & 877917 & 42.36429977 & -71.00520325 & 36.08010101 & -115.1520004 \\\\\n",
       "\t6 & BKW & IAD & Beckley, WV & Washington, DC & 7 & 0 & 0 & 215 & 2002-12-01 & 78851 & 10029142 & 37.7873001099 & -81.1241989136 & 38.94449997 & -77.45580292 \\\\\n",
       "\t7 & CMI & BMI & Champaign, IL & Bloomington, IL & 6 & 0 & 0 & 46 & 1997-11-01 & 201107 & 141699 & 40.03919983 & -88.27809906 & 40.47710037 & -88.91590118 \\\\\n",
       "\\end{tabular}\n"
      ],
      "text/plain": [
       "7×15 DataFrame\n",
       "│ Row │ Origin_airport │ Destination_airport │ Origin_city    │ Destination_city │ Passengers │ Seats │ Flights │ Distance │ Fly_date   │ Origin_population │ Destination_population │ Org_airport_lat  │ Org_airport_long  │ Dest_airport_lat │ Dest_airport_long │\n",
       "│     │ \u001b[90mString\u001b[39m         │ \u001b[90mString\u001b[39m              │ \u001b[90mString\u001b[39m         │ \u001b[90mString\u001b[39m           │ \u001b[90mInt64\u001b[39m      │ \u001b[90mInt64\u001b[39m │ \u001b[90mInt64\u001b[39m   │ \u001b[90mInt64\u001b[39m    │ \u001b[90mDate\u001b[39m       │ \u001b[90mInt64\u001b[39m             │ \u001b[90mInt64\u001b[39m                  │ \u001b[90mString\u001b[39m           │ \u001b[90mString\u001b[39m            │ \u001b[90mString\u001b[39m           │ \u001b[90mString\u001b[39m            │\n",
       "├─────┼────────────────┼─────────────────────┼────────────────┼──────────────────┼────────────┼───────┼─────────┼──────────┼────────────┼───────────────────┼────────────────────────┼──────────────────┼───────────────────┼──────────────────┼───────────────────┤\n",
       "│ 1   │ ABR            │ PIR                 │ Aberdeen, SD   │ Pierre, SD       │ 11         │ 0     │ 0       │ 117      │ 1997-11-01 │ 39903             │ 18289                  │ 45.4491004943848 │ -98.4217987060547 │ 44.38270187      │ -100.2860031      │\n",
       "│ 2   │ IAD            │ BKW                 │ Washington, DC │ Beckley, WV      │ 2          │ 0     │ 0       │ 215      │ 2002-12-01 │ 10029142          │ 78851                  │ 38.94449997      │ -77.45580292      │ 37.7873001099    │ -81.1241989136    │\n",
       "│ 3   │ IAD            │ BKW                 │ Washington, DC │ Beckley, WV      │ 1          │ 0     │ 0       │ 215      │ 2003-02-01 │ 10172752          │ 78587                  │ 38.94449997      │ -77.45580292      │ 37.7873001099    │ -81.1241989136    │\n",
       "│ 4   │ IAD            │ BKW                 │ Washington, DC │ Beckley, WV      │ 2          │ 0     │ 0       │ 215      │ 2003-03-01 │ 10172752          │ 78587                  │ 38.94449997      │ -77.45580292      │ 37.7873001099    │ -81.1241989136    │\n",
       "│ 5   │ BOS            │ LAS                 │ Boston, MA     │ Las Vegas, NV    │ 9          │ 0     │ 0       │ 2381     │ 1993-06-01 │ 8260582           │ 877917                 │ 42.36429977      │ -71.00520325      │ 36.08010101      │ -115.1520004      │\n",
       "│ 6   │ BKW            │ IAD                 │ Beckley, WV    │ Washington, DC   │ 7          │ 0     │ 0       │ 215      │ 2002-12-01 │ 78851             │ 10029142               │ 37.7873001099    │ -81.1241989136    │ 38.94449997      │ -77.45580292      │\n",
       "│ 7   │ CMI            │ BMI                 │ Champaign, IL  │ Bloomington, IL  │ 6          │ 0     │ 0       │ 46       │ 1997-11-01 │ 201107            │ 141699                 │ 40.03919983      │ -88.27809906      │ 40.47710037      │ -88.91590118      │"
      ]
     },
     "execution_count": 15,
     "metadata": {},
     "output_type": "execute_result"
    }
   ],
   "source": [
    "filter([:Passengers, :Seats, :Flights] =>  (x...) -> x[1] > 0 && x[2] == 0 && x[3] == 0, df)"
   ]
  },
  {
   "cell_type": "code",
   "execution_count": 16,
   "metadata": {},
   "outputs": [
    {
     "data": {
      "text/html": [
       "<table class=\"data-frame\"><thead><tr><th></th><th>Origin_airport</th><th>Destination_airport</th><th>Origin_city</th><th>Destination_city</th><th>Passengers</th><th>Seats</th><th>Flights</th><th>Distance</th><th>Fly_date</th><th>Origin_population</th><th>Destination_population</th><th>Org_airport_lat</th><th>Org_airport_long</th><th>Dest_airport_lat</th><th>Dest_airport_long</th></tr><tr><th></th><th>String</th><th>String</th><th>String</th><th>String</th><th>Int64</th><th>Int64</th><th>Int64</th><th>Int64</th><th>Date</th><th>Int64</th><th>Int64</th><th>String</th><th>String</th><th>String</th><th>String</th></tr></thead><tbody><p>7 rows × 15 columns</p><tr><th>1</th><td>ABR</td><td>PIR</td><td>Aberdeen, SD</td><td>Pierre, SD</td><td>11</td><td>0</td><td>0</td><td>117</td><td>1997-11-01</td><td>39903</td><td>18289</td><td>45.4491004943848</td><td>-98.4217987060547</td><td>44.38270187</td><td>-100.2860031</td></tr><tr><th>2</th><td>IAD</td><td>BKW</td><td>Washington, DC</td><td>Beckley, WV</td><td>2</td><td>0</td><td>0</td><td>215</td><td>2002-12-01</td><td>10029142</td><td>78851</td><td>38.94449997</td><td>-77.45580292</td><td>37.7873001099</td><td>-81.1241989136</td></tr><tr><th>3</th><td>IAD</td><td>BKW</td><td>Washington, DC</td><td>Beckley, WV</td><td>1</td><td>0</td><td>0</td><td>215</td><td>2003-02-01</td><td>10172752</td><td>78587</td><td>38.94449997</td><td>-77.45580292</td><td>37.7873001099</td><td>-81.1241989136</td></tr><tr><th>4</th><td>IAD</td><td>BKW</td><td>Washington, DC</td><td>Beckley, WV</td><td>2</td><td>0</td><td>0</td><td>215</td><td>2003-03-01</td><td>10172752</td><td>78587</td><td>38.94449997</td><td>-77.45580292</td><td>37.7873001099</td><td>-81.1241989136</td></tr><tr><th>5</th><td>BOS</td><td>LAS</td><td>Boston, MA</td><td>Las Vegas, NV</td><td>9</td><td>0</td><td>0</td><td>2381</td><td>1993-06-01</td><td>8260582</td><td>877917</td><td>42.36429977</td><td>-71.00520325</td><td>36.08010101</td><td>-115.1520004</td></tr><tr><th>6</th><td>BKW</td><td>IAD</td><td>Beckley, WV</td><td>Washington, DC</td><td>7</td><td>0</td><td>0</td><td>215</td><td>2002-12-01</td><td>78851</td><td>10029142</td><td>37.7873001099</td><td>-81.1241989136</td><td>38.94449997</td><td>-77.45580292</td></tr><tr><th>7</th><td>CMI</td><td>BMI</td><td>Champaign, IL</td><td>Bloomington, IL</td><td>6</td><td>0</td><td>0</td><td>46</td><td>1997-11-01</td><td>201107</td><td>141699</td><td>40.03919983</td><td>-88.27809906</td><td>40.47710037</td><td>-88.91590118</td></tr></tbody></table>"
      ],
      "text/latex": [
       "\\begin{tabular}{r|ccccccccccccccc}\n",
       "\t& Origin\\_airport & Destination\\_airport & Origin\\_city & Destination\\_city & Passengers & Seats & Flights & Distance & Fly\\_date & Origin\\_population & Destination\\_population & Org\\_airport\\_lat & Org\\_airport\\_long & Dest\\_airport\\_lat & Dest\\_airport\\_long\\\\\n",
       "\t\\hline\n",
       "\t& String & String & String & String & Int64 & Int64 & Int64 & Int64 & Date & Int64 & Int64 & String & String & String & String\\\\\n",
       "\t\\hline\n",
       "\t1 & ABR & PIR & Aberdeen, SD & Pierre, SD & 11 & 0 & 0 & 117 & 1997-11-01 & 39903 & 18289 & 45.4491004943848 & -98.4217987060547 & 44.38270187 & -100.2860031 \\\\\n",
       "\t2 & IAD & BKW & Washington, DC & Beckley, WV & 2 & 0 & 0 & 215 & 2002-12-01 & 10029142 & 78851 & 38.94449997 & -77.45580292 & 37.7873001099 & -81.1241989136 \\\\\n",
       "\t3 & IAD & BKW & Washington, DC & Beckley, WV & 1 & 0 & 0 & 215 & 2003-02-01 & 10172752 & 78587 & 38.94449997 & -77.45580292 & 37.7873001099 & -81.1241989136 \\\\\n",
       "\t4 & IAD & BKW & Washington, DC & Beckley, WV & 2 & 0 & 0 & 215 & 2003-03-01 & 10172752 & 78587 & 38.94449997 & -77.45580292 & 37.7873001099 & -81.1241989136 \\\\\n",
       "\t5 & BOS & LAS & Boston, MA & Las Vegas, NV & 9 & 0 & 0 & 2381 & 1993-06-01 & 8260582 & 877917 & 42.36429977 & -71.00520325 & 36.08010101 & -115.1520004 \\\\\n",
       "\t6 & BKW & IAD & Beckley, WV & Washington, DC & 7 & 0 & 0 & 215 & 2002-12-01 & 78851 & 10029142 & 37.7873001099 & -81.1241989136 & 38.94449997 & -77.45580292 \\\\\n",
       "\t7 & CMI & BMI & Champaign, IL & Bloomington, IL & 6 & 0 & 0 & 46 & 1997-11-01 & 201107 & 141699 & 40.03919983 & -88.27809906 & 40.47710037 & -88.91590118 \\\\\n",
       "\\end{tabular}\n"
      ],
      "text/plain": [
       "7×15 DataFrame\n",
       "│ Row │ Origin_airport │ Destination_airport │ Origin_city    │ Destination_city │ Passengers │ Seats │ Flights │ Distance │ Fly_date   │ Origin_population │ Destination_population │ Org_airport_lat  │ Org_airport_long  │ Dest_airport_lat │ Dest_airport_long │\n",
       "│     │ \u001b[90mString\u001b[39m         │ \u001b[90mString\u001b[39m              │ \u001b[90mString\u001b[39m         │ \u001b[90mString\u001b[39m           │ \u001b[90mInt64\u001b[39m      │ \u001b[90mInt64\u001b[39m │ \u001b[90mInt64\u001b[39m   │ \u001b[90mInt64\u001b[39m    │ \u001b[90mDate\u001b[39m       │ \u001b[90mInt64\u001b[39m             │ \u001b[90mInt64\u001b[39m                  │ \u001b[90mString\u001b[39m           │ \u001b[90mString\u001b[39m            │ \u001b[90mString\u001b[39m           │ \u001b[90mString\u001b[39m            │\n",
       "├─────┼────────────────┼─────────────────────┼────────────────┼──────────────────┼────────────┼───────┼─────────┼──────────┼────────────┼───────────────────┼────────────────────────┼──────────────────┼───────────────────┼──────────────────┼───────────────────┤\n",
       "│ 1   │ ABR            │ PIR                 │ Aberdeen, SD   │ Pierre, SD       │ 11         │ 0     │ 0       │ 117      │ 1997-11-01 │ 39903             │ 18289                  │ 45.4491004943848 │ -98.4217987060547 │ 44.38270187      │ -100.2860031      │\n",
       "│ 2   │ IAD            │ BKW                 │ Washington, DC │ Beckley, WV      │ 2          │ 0     │ 0       │ 215      │ 2002-12-01 │ 10029142          │ 78851                  │ 38.94449997      │ -77.45580292      │ 37.7873001099    │ -81.1241989136    │\n",
       "│ 3   │ IAD            │ BKW                 │ Washington, DC │ Beckley, WV      │ 1          │ 0     │ 0       │ 215      │ 2003-02-01 │ 10172752          │ 78587                  │ 38.94449997      │ -77.45580292      │ 37.7873001099    │ -81.1241989136    │\n",
       "│ 4   │ IAD            │ BKW                 │ Washington, DC │ Beckley, WV      │ 2          │ 0     │ 0       │ 215      │ 2003-03-01 │ 10172752          │ 78587                  │ 38.94449997      │ -77.45580292      │ 37.7873001099    │ -81.1241989136    │\n",
       "│ 5   │ BOS            │ LAS                 │ Boston, MA     │ Las Vegas, NV    │ 9          │ 0     │ 0       │ 2381     │ 1993-06-01 │ 8260582           │ 877917                 │ 42.36429977      │ -71.00520325      │ 36.08010101      │ -115.1520004      │\n",
       "│ 6   │ BKW            │ IAD                 │ Beckley, WV    │ Washington, DC   │ 7          │ 0     │ 0       │ 215      │ 2002-12-01 │ 78851             │ 10029142               │ 37.7873001099    │ -81.1241989136    │ 38.94449997      │ -77.45580292      │\n",
       "│ 7   │ CMI            │ BMI                 │ Champaign, IL  │ Bloomington, IL  │ 6          │ 0     │ 0       │ 46       │ 1997-11-01 │ 201107            │ 141699                 │ 40.03919983      │ -88.27809906      │ 40.47710037      │ -88.91590118      │"
      ]
     },
     "execution_count": 16,
     "metadata": {},
     "output_type": "execute_result"
    }
   ],
   "source": [
    "filter(AsTable(:) => row -> row.Passengers > 0 && row.Seats == 0 && row.Flights == 0, df)"
   ]
  },
  {
   "cell_type": "markdown",
   "metadata": {},
   "source": [
    "The second form is a new feature of DataFrames.jl 0.21 release and it allows passing only selected columns to a predicate function. The benefit is that this operation is type stable.\n",
    "\n",
    "Let us compare the timing of both options:"
   ]
  },
  {
   "cell_type": "code",
   "execution_count": 17,
   "metadata": {},
   "outputs": [
    {
     "name": "stdout",
     "output_type": "stream",
     "text": [
      "  0.974341 seconds (22.44 M allocations: 420.740 MiB, 14.19% gc time)\n"
     ]
    }
   ],
   "source": [
    "@time filter(row -> row.Passengers > 0 && row.Seats == 0 && row.Flights == 0, df);"
   ]
  },
  {
   "cell_type": "code",
   "execution_count": 18,
   "metadata": {},
   "outputs": [
    {
     "name": "stdout",
     "output_type": "stream",
     "text": [
      "  0.172158 seconds (495.69 k allocations: 23.279 MiB)\n"
     ]
    }
   ],
   "source": [
    "@time filter([:Passengers, :Seats, :Flights] =>  (x...) -> x[1] > 0 && x[2] == 0 && x[3] == 0, df);"
   ]
  },
  {
   "cell_type": "markdown",
   "metadata": {},
   "source": [
    "Now let us move to another analysis.\n",
    "\n",
    "We want to get an information about the occupancy of each flight. It can be calculated as ratio of the number of passengers and number of seats time number of flights. The problem is that if there are `0` seats or flights we would be dividing by `0` and get a `NaN` result. We prefer to get a `missing` value in this case. Therefore first define a helper function:"
   ]
  },
  {
   "cell_type": "code",
   "execution_count": 19,
   "metadata": {},
   "outputs": [
    {
     "data": {
      "text/plain": [
       "get_occupied (generic function with 1 method)"
      ]
     },
     "execution_count": 19,
     "metadata": {},
     "output_type": "execute_result"
    }
   ],
   "source": [
    "function get_occupied(passengers, seats, flights)\n",
    "    if seats == 0 || flights == 0\n",
    "        return missing\n",
    "    else\n",
    "        return passengers / (seats * flights)\n",
    "    end\n",
    "end"
   ]
  },
  {
   "cell_type": "markdown",
   "metadata": {},
   "source": [
    "and now we use it to add a new column to our data frame. Additionally we create three new columns:\n",
    "1. `:ost`: state of the origin city\n",
    "2. `:dst`: state of the destination city\n",
    "3. `:year`: year of flight"
   ]
  },
  {
   "cell_type": "code",
   "execution_count": 20,
   "metadata": {
    "scrolled": true
   },
   "outputs": [
    {
     "data": {
      "text/html": [
       "<table class=\"data-frame\"><thead><tr><th></th><th>Origin_airport</th><th>Destination_airport</th><th>Origin_city</th><th>Destination_city</th><th>Passengers</th><th>Seats</th><th>Flights</th><th>Distance</th><th>Fly_date</th><th>Origin_population</th><th>Destination_population</th><th>Org_airport_lat</th><th>Org_airport_long</th><th>Dest_airport_lat</th><th>Dest_airport_long</th><th>occupied</th><th>ost</th><th>dst</th><th>year</th></tr><tr><th></th><th>String</th><th>String</th><th>String</th><th>String</th><th>Int64</th><th>Int64</th><th>Int64</th><th>Int64</th><th>Date</th><th>Int64</th><th>Int64</th><th>String</th><th>String</th><th>String</th><th>String</th><th>Float64?</th><th>String</th><th>String</th><th>Int64</th></tr></thead><tbody><p>3,606,803 rows × 19 columns</p><tr><th>1</th><td>MHK</td><td>AMW</td><td>Manhattan, KS</td><td>Ames, IA</td><td>21</td><td>30</td><td>1</td><td>254</td><td>2008-10-01</td><td>122049</td><td>86219</td><td>39.140998840332</td><td>-96.6707992553711</td><td>NA</td><td>NA</td><td>0.7</td><td>KS</td><td>IA</td><td>2008</td></tr><tr><th>2</th><td>EUG</td><td>RDM</td><td>Eugene, OR</td><td>Bend, OR</td><td>41</td><td>396</td><td>22</td><td>103</td><td>1990-11-01</td><td>284093</td><td>76034</td><td>44.1245994567871</td><td>-123.21199798584</td><td>44.2541008</td><td>-121.1500015</td><td>0.00470615</td><td>OR</td><td>OR</td><td>1990</td></tr><tr><th>3</th><td>EUG</td><td>RDM</td><td>Eugene, OR</td><td>Bend, OR</td><td>88</td><td>342</td><td>19</td><td>103</td><td>1990-12-01</td><td>284093</td><td>76034</td><td>44.1245994567871</td><td>-123.21199798584</td><td>44.2541008</td><td>-121.1500015</td><td>0.0135426</td><td>OR</td><td>OR</td><td>1990</td></tr><tr><th>4</th><td>EUG</td><td>RDM</td><td>Eugene, OR</td><td>Bend, OR</td><td>11</td><td>72</td><td>4</td><td>103</td><td>1990-10-01</td><td>284093</td><td>76034</td><td>44.1245994567871</td><td>-123.21199798584</td><td>44.2541008</td><td>-121.1500015</td><td>0.0381944</td><td>OR</td><td>OR</td><td>1990</td></tr><tr><th>5</th><td>MFR</td><td>RDM</td><td>Medford, OR</td><td>Bend, OR</td><td>0</td><td>18</td><td>1</td><td>156</td><td>1990-02-01</td><td>147300</td><td>76034</td><td>42.3741989135742</td><td>-122.873001098633</td><td>44.2541008</td><td>-121.1500015</td><td>0.0</td><td>OR</td><td>OR</td><td>1990</td></tr><tr><th>6</th><td>MFR</td><td>RDM</td><td>Medford, OR</td><td>Bend, OR</td><td>11</td><td>18</td><td>1</td><td>156</td><td>1990-03-01</td><td>147300</td><td>76034</td><td>42.3741989135742</td><td>-122.873001098633</td><td>44.2541008</td><td>-121.1500015</td><td>0.611111</td><td>OR</td><td>OR</td><td>1990</td></tr><tr><th>7</th><td>MFR</td><td>RDM</td><td>Medford, OR</td><td>Bend, OR</td><td>2</td><td>72</td><td>4</td><td>156</td><td>1990-01-01</td><td>147300</td><td>76034</td><td>42.3741989135742</td><td>-122.873001098633</td><td>44.2541008</td><td>-121.1500015</td><td>0.00694444</td><td>OR</td><td>OR</td><td>1990</td></tr><tr><th>8</th><td>MFR</td><td>RDM</td><td>Medford, OR</td><td>Bend, OR</td><td>7</td><td>18</td><td>1</td><td>156</td><td>1990-09-01</td><td>147300</td><td>76034</td><td>42.3741989135742</td><td>-122.873001098633</td><td>44.2541008</td><td>-121.1500015</td><td>0.388889</td><td>OR</td><td>OR</td><td>1990</td></tr><tr><th>9</th><td>MFR</td><td>RDM</td><td>Medford, OR</td><td>Bend, OR</td><td>7</td><td>36</td><td>2</td><td>156</td><td>1990-11-01</td><td>147300</td><td>76034</td><td>42.3741989135742</td><td>-122.873001098633</td><td>44.2541008</td><td>-121.1500015</td><td>0.0972222</td><td>OR</td><td>OR</td><td>1990</td></tr><tr><th>10</th><td>SEA</td><td>RDM</td><td>Seattle, WA</td><td>Bend, OR</td><td>8</td><td>18</td><td>1</td><td>228</td><td>1990-02-01</td><td>5154164</td><td>76034</td><td>47.4490013122559</td><td>-122.30899810791</td><td>44.2541008</td><td>-121.1500015</td><td>0.444444</td><td>WA</td><td>OR</td><td>1990</td></tr><tr><th>11</th><td>SEA</td><td>RDM</td><td>Seattle, WA</td><td>Bend, OR</td><td>453</td><td>3128</td><td>23</td><td>228</td><td>1990-01-01</td><td>5154164</td><td>76034</td><td>47.4490013122559</td><td>-122.30899810791</td><td>44.2541008</td><td>-121.1500015</td><td>0.00629656</td><td>WA</td><td>OR</td><td>1990</td></tr><tr><th>12</th><td>SEA</td><td>RDM</td><td>Seattle, WA</td><td>Bend, OR</td><td>784</td><td>2720</td><td>20</td><td>228</td><td>1990-02-01</td><td>5154164</td><td>76034</td><td>47.4490013122559</td><td>-122.30899810791</td><td>44.2541008</td><td>-121.1500015</td><td>0.0144118</td><td>WA</td><td>OR</td><td>1990</td></tr><tr><th>13</th><td>SEA</td><td>RDM</td><td>Seattle, WA</td><td>Bend, OR</td><td>749</td><td>2992</td><td>22</td><td>228</td><td>1990-03-01</td><td>5154164</td><td>76034</td><td>47.4490013122559</td><td>-122.30899810791</td><td>44.2541008</td><td>-121.1500015</td><td>0.0113788</td><td>WA</td><td>OR</td><td>1990</td></tr><tr><th>14</th><td>SEA</td><td>RDM</td><td>Seattle, WA</td><td>Bend, OR</td><td>11</td><td>18</td><td>1</td><td>228</td><td>1990-04-01</td><td>5154164</td><td>76034</td><td>47.4490013122559</td><td>-122.30899810791</td><td>44.2541008</td><td>-121.1500015</td><td>0.611111</td><td>WA</td><td>OR</td><td>1990</td></tr><tr><th>15</th><td>PDX</td><td>RDM</td><td>Portland, OR</td><td>Bend, OR</td><td>349</td><td>851</td><td>23</td><td>116</td><td>1990-01-01</td><td>1534762</td><td>76034</td><td>45.58869934</td><td>-122.5979996</td><td>44.2541008</td><td>-121.1500015</td><td>0.0178307</td><td>OR</td><td>OR</td><td>1990</td></tr><tr><th>16</th><td>PDX</td><td>RDM</td><td>Portland, OR</td><td>Bend, OR</td><td>1376</td><td>2898</td><td>161</td><td>116</td><td>1990-01-01</td><td>1534762</td><td>76034</td><td>45.58869934</td><td>-122.5979996</td><td>44.2541008</td><td>-121.1500015</td><td>0.00294913</td><td>OR</td><td>OR</td><td>1990</td></tr><tr><th>17</th><td>PDX</td><td>RDM</td><td>Portland, OR</td><td>Bend, OR</td><td>444</td><td>1110</td><td>30</td><td>116</td><td>1990-10-01</td><td>1534762</td><td>76034</td><td>45.58869934</td><td>-122.5979996</td><td>44.2541008</td><td>-121.1500015</td><td>0.0133333</td><td>OR</td><td>OR</td><td>1990</td></tr><tr><th>18</th><td>PDX</td><td>RDM</td><td>Portland, OR</td><td>Bend, OR</td><td>1949</td><td>3261</td><td>187</td><td>116</td><td>1990-06-01</td><td>1534762</td><td>76034</td><td>45.58869934</td><td>-122.5979996</td><td>44.2541008</td><td>-121.1500015</td><td>0.00319609</td><td>OR</td><td>OR</td><td>1990</td></tr><tr><th>19</th><td>PDX</td><td>RDM</td><td>Portland, OR</td><td>Bend, OR</td><td>381</td><td>814</td><td>22</td><td>116</td><td>1990-02-01</td><td>1534762</td><td>76034</td><td>45.58869934</td><td>-122.5979996</td><td>44.2541008</td><td>-121.1500015</td><td>0.0212754</td><td>OR</td><td>OR</td><td>1990</td></tr><tr><th>20</th><td>PDX</td><td>RDM</td><td>Portland, OR</td><td>Bend, OR</td><td>1559</td><td>2772</td><td>154</td><td>116</td><td>1990-02-01</td><td>1534762</td><td>76034</td><td>45.58869934</td><td>-122.5979996</td><td>44.2541008</td><td>-121.1500015</td><td>0.00365201</td><td>OR</td><td>OR</td><td>1990</td></tr><tr><th>&vellip;</th><td>&vellip;</td><td>&vellip;</td><td>&vellip;</td><td>&vellip;</td><td>&vellip;</td><td>&vellip;</td><td>&vellip;</td><td>&vellip;</td><td>&vellip;</td><td>&vellip;</td><td>&vellip;</td><td>&vellip;</td><td>&vellip;</td><td>&vellip;</td><td>&vellip;</td><td>&vellip;</td><td>&vellip;</td><td>&vellip;</td><td>&vellip;</td></tr></tbody></table>"
      ],
      "text/latex": [
       "\\begin{tabular}{r|ccccccccccccccccccc}\n",
       "\t& Origin\\_airport & Destination\\_airport & Origin\\_city & Destination\\_city & Passengers & Seats & Flights & Distance & Fly\\_date & Origin\\_population & Destination\\_population & Org\\_airport\\_lat & Org\\_airport\\_long & Dest\\_airport\\_lat & Dest\\_airport\\_long & occupied & ost & dst & year\\\\\n",
       "\t\\hline\n",
       "\t& String & String & String & String & Int64 & Int64 & Int64 & Int64 & Date & Int64 & Int64 & String & String & String & String & Float64? & String & String & Int64\\\\\n",
       "\t\\hline\n",
       "\t1 & MHK & AMW & Manhattan, KS & Ames, IA & 21 & 30 & 1 & 254 & 2008-10-01 & 122049 & 86219 & 39.140998840332 & -96.6707992553711 & NA & NA & 0.7 & KS & IA & 2008 \\\\\n",
       "\t2 & EUG & RDM & Eugene, OR & Bend, OR & 41 & 396 & 22 & 103 & 1990-11-01 & 284093 & 76034 & 44.1245994567871 & -123.21199798584 & 44.2541008 & -121.1500015 & 0.00470615 & OR & OR & 1990 \\\\\n",
       "\t3 & EUG & RDM & Eugene, OR & Bend, OR & 88 & 342 & 19 & 103 & 1990-12-01 & 284093 & 76034 & 44.1245994567871 & -123.21199798584 & 44.2541008 & -121.1500015 & 0.0135426 & OR & OR & 1990 \\\\\n",
       "\t4 & EUG & RDM & Eugene, OR & Bend, OR & 11 & 72 & 4 & 103 & 1990-10-01 & 284093 & 76034 & 44.1245994567871 & -123.21199798584 & 44.2541008 & -121.1500015 & 0.0381944 & OR & OR & 1990 \\\\\n",
       "\t5 & MFR & RDM & Medford, OR & Bend, OR & 0 & 18 & 1 & 156 & 1990-02-01 & 147300 & 76034 & 42.3741989135742 & -122.873001098633 & 44.2541008 & -121.1500015 & 0.0 & OR & OR & 1990 \\\\\n",
       "\t6 & MFR & RDM & Medford, OR & Bend, OR & 11 & 18 & 1 & 156 & 1990-03-01 & 147300 & 76034 & 42.3741989135742 & -122.873001098633 & 44.2541008 & -121.1500015 & 0.611111 & OR & OR & 1990 \\\\\n",
       "\t7 & MFR & RDM & Medford, OR & Bend, OR & 2 & 72 & 4 & 156 & 1990-01-01 & 147300 & 76034 & 42.3741989135742 & -122.873001098633 & 44.2541008 & -121.1500015 & 0.00694444 & OR & OR & 1990 \\\\\n",
       "\t8 & MFR & RDM & Medford, OR & Bend, OR & 7 & 18 & 1 & 156 & 1990-09-01 & 147300 & 76034 & 42.3741989135742 & -122.873001098633 & 44.2541008 & -121.1500015 & 0.388889 & OR & OR & 1990 \\\\\n",
       "\t9 & MFR & RDM & Medford, OR & Bend, OR & 7 & 36 & 2 & 156 & 1990-11-01 & 147300 & 76034 & 42.3741989135742 & -122.873001098633 & 44.2541008 & -121.1500015 & 0.0972222 & OR & OR & 1990 \\\\\n",
       "\t10 & SEA & RDM & Seattle, WA & Bend, OR & 8 & 18 & 1 & 228 & 1990-02-01 & 5154164 & 76034 & 47.4490013122559 & -122.30899810791 & 44.2541008 & -121.1500015 & 0.444444 & WA & OR & 1990 \\\\\n",
       "\t11 & SEA & RDM & Seattle, WA & Bend, OR & 453 & 3128 & 23 & 228 & 1990-01-01 & 5154164 & 76034 & 47.4490013122559 & -122.30899810791 & 44.2541008 & -121.1500015 & 0.00629656 & WA & OR & 1990 \\\\\n",
       "\t12 & SEA & RDM & Seattle, WA & Bend, OR & 784 & 2720 & 20 & 228 & 1990-02-01 & 5154164 & 76034 & 47.4490013122559 & -122.30899810791 & 44.2541008 & -121.1500015 & 0.0144118 & WA & OR & 1990 \\\\\n",
       "\t13 & SEA & RDM & Seattle, WA & Bend, OR & 749 & 2992 & 22 & 228 & 1990-03-01 & 5154164 & 76034 & 47.4490013122559 & -122.30899810791 & 44.2541008 & -121.1500015 & 0.0113788 & WA & OR & 1990 \\\\\n",
       "\t14 & SEA & RDM & Seattle, WA & Bend, OR & 11 & 18 & 1 & 228 & 1990-04-01 & 5154164 & 76034 & 47.4490013122559 & -122.30899810791 & 44.2541008 & -121.1500015 & 0.611111 & WA & OR & 1990 \\\\\n",
       "\t15 & PDX & RDM & Portland, OR & Bend, OR & 349 & 851 & 23 & 116 & 1990-01-01 & 1534762 & 76034 & 45.58869934 & -122.5979996 & 44.2541008 & -121.1500015 & 0.0178307 & OR & OR & 1990 \\\\\n",
       "\t16 & PDX & RDM & Portland, OR & Bend, OR & 1376 & 2898 & 161 & 116 & 1990-01-01 & 1534762 & 76034 & 45.58869934 & -122.5979996 & 44.2541008 & -121.1500015 & 0.00294913 & OR & OR & 1990 \\\\\n",
       "\t17 & PDX & RDM & Portland, OR & Bend, OR & 444 & 1110 & 30 & 116 & 1990-10-01 & 1534762 & 76034 & 45.58869934 & -122.5979996 & 44.2541008 & -121.1500015 & 0.0133333 & OR & OR & 1990 \\\\\n",
       "\t18 & PDX & RDM & Portland, OR & Bend, OR & 1949 & 3261 & 187 & 116 & 1990-06-01 & 1534762 & 76034 & 45.58869934 & -122.5979996 & 44.2541008 & -121.1500015 & 0.00319609 & OR & OR & 1990 \\\\\n",
       "\t19 & PDX & RDM & Portland, OR & Bend, OR & 381 & 814 & 22 & 116 & 1990-02-01 & 1534762 & 76034 & 45.58869934 & -122.5979996 & 44.2541008 & -121.1500015 & 0.0212754 & OR & OR & 1990 \\\\\n",
       "\t20 & PDX & RDM & Portland, OR & Bend, OR & 1559 & 2772 & 154 & 116 & 1990-02-01 & 1534762 & 76034 & 45.58869934 & -122.5979996 & 44.2541008 & -121.1500015 & 0.00365201 & OR & OR & 1990 \\\\\n",
       "\t$\\dots$ & $\\dots$ & $\\dots$ & $\\dots$ & $\\dots$ & $\\dots$ & $\\dots$ & $\\dots$ & $\\dots$ & $\\dots$ & $\\dots$ & $\\dots$ & $\\dots$ & $\\dots$ & $\\dots$ & $\\dots$ & $\\dots$ & $\\dots$ & $\\dots$ & $\\dots$ \\\\\n",
       "\\end{tabular}\n"
      ],
      "text/plain": [
       "3606803×19 DataFrame\n",
       "│ Row     │ Origin_airport │ Destination_airport │ Origin_city        │ Destination_city           │ Passengers │ Seats │ Flights │ Distance │ Fly_date   │ Origin_population │ Destination_population │ Org_airport_lat  │ Org_airport_long  │ Dest_airport_lat │ Dest_airport_long │ occupied   │ ost    │ dst    │ year  │\n",
       "│         │ \u001b[90mString\u001b[39m         │ \u001b[90mString\u001b[39m              │ \u001b[90mString\u001b[39m             │ \u001b[90mString\u001b[39m                     │ \u001b[90mInt64\u001b[39m      │ \u001b[90mInt64\u001b[39m │ \u001b[90mInt64\u001b[39m   │ \u001b[90mInt64\u001b[39m    │ \u001b[90mDate\u001b[39m       │ \u001b[90mInt64\u001b[39m             │ \u001b[90mInt64\u001b[39m                  │ \u001b[90mString\u001b[39m           │ \u001b[90mString\u001b[39m            │ \u001b[90mString\u001b[39m           │ \u001b[90mString\u001b[39m            │ \u001b[90mFloat64?\u001b[39m   │ \u001b[90mString\u001b[39m │ \u001b[90mString\u001b[39m │ \u001b[90mInt64\u001b[39m │\n",
       "├─────────┼────────────────┼─────────────────────┼────────────────────┼────────────────────────────┼────────────┼───────┼─────────┼──────────┼────────────┼───────────────────┼────────────────────────┼──────────────────┼───────────────────┼──────────────────┼───────────────────┼────────────┼────────┼────────┼───────┤\n",
       "│ 1       │ MHK            │ AMW                 │ Manhattan, KS      │ Ames, IA                   │ 21         │ 30    │ 1       │ 254      │ 2008-10-01 │ 122049            │ 86219                  │ 39.140998840332  │ -96.6707992553711 │ NA               │ NA                │ 0.7        │ KS     │ IA     │ 2008  │\n",
       "│ 2       │ EUG            │ RDM                 │ Eugene, OR         │ Bend, OR                   │ 41         │ 396   │ 22      │ 103      │ 1990-11-01 │ 284093            │ 76034                  │ 44.1245994567871 │ -123.21199798584  │ 44.2541008       │ -121.1500015      │ 0.00470615 │ OR     │ OR     │ 1990  │\n",
       "│ 3       │ EUG            │ RDM                 │ Eugene, OR         │ Bend, OR                   │ 88         │ 342   │ 19      │ 103      │ 1990-12-01 │ 284093            │ 76034                  │ 44.1245994567871 │ -123.21199798584  │ 44.2541008       │ -121.1500015      │ 0.0135426  │ OR     │ OR     │ 1990  │\n",
       "│ 4       │ EUG            │ RDM                 │ Eugene, OR         │ Bend, OR                   │ 11         │ 72    │ 4       │ 103      │ 1990-10-01 │ 284093            │ 76034                  │ 44.1245994567871 │ -123.21199798584  │ 44.2541008       │ -121.1500015      │ 0.0381944  │ OR     │ OR     │ 1990  │\n",
       "│ 5       │ MFR            │ RDM                 │ Medford, OR        │ Bend, OR                   │ 0          │ 18    │ 1       │ 156      │ 1990-02-01 │ 147300            │ 76034                  │ 42.3741989135742 │ -122.873001098633 │ 44.2541008       │ -121.1500015      │ 0.0        │ OR     │ OR     │ 1990  │\n",
       "⋮\n",
       "│ 3606798 │ STL            │ TBN                 │ St. Louis, MO      │ Fort Leonard Wood, MO      │ 292        │ 1311  │ 69      │ 119      │ 2009-06-01 │ 2828990           │ 46457                  │ 38.7486991882324 │ -90.370002746582  │ 37.74160004      │ -92.14070129      │ 0.00322798 │ MO     │ MO     │ 2009  │\n",
       "│ 3606799 │ STL            │ TBN                 │ St. Louis, MO      │ Fort Leonard Wood, MO      │ 281        │ 969   │ 51      │ 119      │ 2009-02-01 │ 2828990           │ 46457                  │ 38.7486991882324 │ -90.370002746582  │ 37.74160004      │ -92.14070129      │ 0.00568607 │ MO     │ MO     │ 2009  │\n",
       "│ 3606800 │ STL            │ TBN                 │ St. Louis, MO      │ Fort Leonard Wood, MO      │ 245        │ 1026  │ 54      │ 119      │ 2009-11-01 │ 2828990           │ 46457                  │ 38.7486991882324 │ -90.370002746582  │ 37.74160004      │ -92.14070129      │ 0.00442206 │ MO     │ MO     │ 2009  │\n",
       "│ 3606801 │ STL            │ TBN                 │ St. Louis, MO      │ Fort Leonard Wood, MO      │ 363        │ 1273  │ 67      │ 119      │ 2009-08-01 │ 2828990           │ 46457                  │ 38.7486991882324 │ -90.370002746582  │ 37.74160004      │ -92.14070129      │ 0.00425602 │ MO     │ MO     │ 2009  │\n",
       "│ 3606802 │ CGI            │ TBN                 │ Cape Girardeau, MO │ Fort Leonard Wood, MO      │ 2          │ 19    │ 1       │ 146      │ 2009-08-01 │ 93712             │ 46457                  │ 37.2252998352051 │ -89.57080078125   │ 37.74160004      │ -92.14070129      │ 0.105263   │ MO     │ MO     │ 2009  │\n",
       "│ 3606803 │ FWA            │ OH1                 │ Fort Wayne, IN     │ Washington Court House, OH │ 0          │ 0     │ 1       │ 135      │ 2003-09-01 │ 398574            │ 28133                  │ 40.97850037      │ -85.19509888      │ NA               │ NA                │ \u001b[90mmissing\u001b[39m    │ IN     │ OH     │ 2003  │"
      ]
     },
     "execution_count": 20,
     "metadata": {},
     "output_type": "execute_result"
    }
   ],
   "source": [
    "df2 = transform(df,\n",
    "                [:Passengers, :Seats, :Flights] => ByRow(get_occupied) => :occupied,\n",
    "                [:Origin_city, :Destination_city] .=> ByRow(x -> last(x, 2)) .=> [:ost, :dst],\n",
    "                :Fly_date => ByRow(year)=> :year)"
   ]
  },
  {
   "cell_type": "markdown",
   "metadata": {},
   "source": [
    "Note that in the computation we used `ByRow` wrapper that instructs DataFrames.jl to apply the function for each row of the passed data.\n",
    "\n",
    "Here is an alternative way to compute `:occupied` without using `ByRow`, but instead using standard broadcasting:"
   ]
  },
  {
   "cell_type": "code",
   "execution_count": 21,
   "metadata": {},
   "outputs": [
    {
     "data": {
      "text/plain": [
       "get_occupied2 (generic function with 1 method)"
      ]
     },
     "execution_count": 21,
     "metadata": {},
     "output_type": "execute_result"
    }
   ],
   "source": [
    "get_occupied2(passengers, seats, flights) =\n",
    "    @. ifelse((seats == 0) | (flights == 0), missing, passengers / (seats * flights))"
   ]
  },
  {
   "cell_type": "code",
   "execution_count": 22,
   "metadata": {
    "scrolled": true
   },
   "outputs": [
    {
     "data": {
      "text/html": [
       "<table class=\"data-frame\"><thead><tr><th></th><th>occupied</th></tr><tr><th></th><th>Float64?</th></tr></thead><tbody><p>3,606,803 rows × 1 columns</p><tr><th>1</th><td>0.7</td></tr><tr><th>2</th><td>0.00470615</td></tr><tr><th>3</th><td>0.0135426</td></tr><tr><th>4</th><td>0.0381944</td></tr><tr><th>5</th><td>0.0</td></tr><tr><th>6</th><td>0.611111</td></tr><tr><th>7</th><td>0.00694444</td></tr><tr><th>8</th><td>0.388889</td></tr><tr><th>9</th><td>0.0972222</td></tr><tr><th>10</th><td>0.444444</td></tr><tr><th>11</th><td>0.00629656</td></tr><tr><th>12</th><td>0.0144118</td></tr><tr><th>13</th><td>0.0113788</td></tr><tr><th>14</th><td>0.611111</td></tr><tr><th>15</th><td>0.0178307</td></tr><tr><th>16</th><td>0.00294913</td></tr><tr><th>17</th><td>0.0133333</td></tr><tr><th>18</th><td>0.00319609</td></tr><tr><th>19</th><td>0.0212754</td></tr><tr><th>20</th><td>0.00365201</td></tr><tr><th>&vellip;</th><td>&vellip;</td></tr></tbody></table>"
      ],
      "text/latex": [
       "\\begin{tabular}{r|c}\n",
       "\t& occupied\\\\\n",
       "\t\\hline\n",
       "\t& Float64?\\\\\n",
       "\t\\hline\n",
       "\t1 & 0.7 \\\\\n",
       "\t2 & 0.00470615 \\\\\n",
       "\t3 & 0.0135426 \\\\\n",
       "\t4 & 0.0381944 \\\\\n",
       "\t5 & 0.0 \\\\\n",
       "\t6 & 0.611111 \\\\\n",
       "\t7 & 0.00694444 \\\\\n",
       "\t8 & 0.388889 \\\\\n",
       "\t9 & 0.0972222 \\\\\n",
       "\t10 & 0.444444 \\\\\n",
       "\t11 & 0.00629656 \\\\\n",
       "\t12 & 0.0144118 \\\\\n",
       "\t13 & 0.0113788 \\\\\n",
       "\t14 & 0.611111 \\\\\n",
       "\t15 & 0.0178307 \\\\\n",
       "\t16 & 0.00294913 \\\\\n",
       "\t17 & 0.0133333 \\\\\n",
       "\t18 & 0.00319609 \\\\\n",
       "\t19 & 0.0212754 \\\\\n",
       "\t20 & 0.00365201 \\\\\n",
       "\t$\\dots$ & $\\dots$ \\\\\n",
       "\\end{tabular}\n"
      ],
      "text/plain": [
       "3606803×1 DataFrame\n",
       "│ Row     │ occupied   │\n",
       "│         │ \u001b[90mFloat64?\u001b[39m   │\n",
       "├─────────┼────────────┤\n",
       "│ 1       │ 0.7        │\n",
       "│ 2       │ 0.00470615 │\n",
       "│ 3       │ 0.0135426  │\n",
       "│ 4       │ 0.0381944  │\n",
       "│ 5       │ 0.0        │\n",
       "⋮\n",
       "│ 3606798 │ 0.00322798 │\n",
       "│ 3606799 │ 0.00568607 │\n",
       "│ 3606800 │ 0.00442206 │\n",
       "│ 3606801 │ 0.00425602 │\n",
       "│ 3606802 │ 0.105263   │\n",
       "│ 3606803 │ \u001b[90mmissing\u001b[39m    │"
      ]
     },
     "execution_count": 22,
     "metadata": {},
     "output_type": "execute_result"
    }
   ],
   "source": [
    "df2′ = select(df, [:Passengers, :Seats, :Flights] => get_occupied2 => :occupied)"
   ]
  },
  {
   "cell_type": "markdown",
   "metadata": {},
   "source": [
    "First we check if both methods produced the same result:"
   ]
  },
  {
   "cell_type": "code",
   "execution_count": 23,
   "metadata": {},
   "outputs": [
    {
     "data": {
      "text/plain": [
       "true"
      ]
     },
     "execution_count": 23,
     "metadata": {},
     "output_type": "execute_result"
    }
   ],
   "source": [
    "isequal(df2.occupied, df2′.occupied)"
   ]
  },
  {
   "cell_type": "markdown",
   "metadata": {},
   "source": [
    "The second thing we can do is compare the performance of both options:"
   ]
  },
  {
   "cell_type": "code",
   "execution_count": 24,
   "metadata": {},
   "outputs": [
    {
     "data": {
      "text/plain": [
       "BenchmarkTools.Trial: \n",
       "  memory estimate:  58.48 MiB\n",
       "  allocs estimate:  81\n",
       "  --------------\n",
       "  minimum time:     11.262 ms (0.00% GC)\n",
       "  median time:      12.666 ms (0.00% GC)\n",
       "  mean time:        15.014 ms (1.76% GC)\n",
       "  maximum time:     32.466 ms (17.31% GC)\n",
       "  --------------\n",
       "  samples:          333\n",
       "  evals/sample:     1"
      ]
     },
     "execution_count": 24,
     "metadata": {},
     "output_type": "execute_result"
    }
   ],
   "source": [
    "@benchmark select($df, [:Passengers, :Seats, :Flights] => ByRow(get_occupied) => :occupied)"
   ]
  },
  {
   "cell_type": "code",
   "execution_count": 25,
   "metadata": {},
   "outputs": [
    {
     "data": {
      "text/plain": [
       "BenchmarkTools.Trial: \n",
       "  memory estimate:  58.48 MiB\n",
       "  allocs estimate:  87\n",
       "  --------------\n",
       "  minimum time:     11.374 ms (0.00% GC)\n",
       "  median time:      14.031 ms (0.00% GC)\n",
       "  mean time:        16.236 ms (1.98% GC)\n",
       "  maximum time:     28.746 ms (7.27% GC)\n",
       "  --------------\n",
       "  samples:          308\n",
       "  evals/sample:     1"
      ]
     },
     "execution_count": 25,
     "metadata": {},
     "output_type": "execute_result"
    }
   ],
   "source": [
    "@benchmark select($df, [:Passengers, :Seats, :Flights] => get_occupied2 => :occupied)"
   ]
  },
  {
   "cell_type": "markdown",
   "metadata": {},
   "source": [
    "As you can see DataFrames.jl does a decent job in this case - the option with `ByRow` is a tad faster than the broadcasting approach."
   ]
  },
  {
   "cell_type": "markdown",
   "metadata": {},
   "source": [
    "A crucial value of piping with `@pipe` is that it composes also with functions outside of DataFrames.jl package.\n",
    "\n",
    "Here is a simple example in which we will plot the total number of passengers that flew by year:"
   ]
  },
  {
   "cell_type": "code",
   "execution_count": 26,
   "metadata": {
    "scrolled": false
   },
   "outputs": [
    {
     "data": {
      "image/svg+xml": [
       "<?xml version=\"1.0\" encoding=\"utf-8\"?>\n",
       "<svg xmlns=\"http://www.w3.org/2000/svg\" xmlns:xlink=\"http://www.w3.org/1999/xlink\" width=\"600\" height=\"400\" viewBox=\"0 0 2400 1600\">\n",
       "<defs>\n",
       "  <clipPath id=\"clip350\">\n",
       "    <rect x=\"0\" y=\"0\" width=\"2400\" height=\"1600\"/>\n",
       "  </clipPath>\n",
       "</defs>\n",
       "<path clip-path=\"url(#clip350)\" d=\"\n",
       "M0 1600 L2400 1600 L2400 0 L0 0  Z\n",
       "  \" fill=\"#ffffff\" fill-rule=\"evenodd\" fill-opacity=\"1\"/>\n",
       "<defs>\n",
       "  <clipPath id=\"clip351\">\n",
       "    <rect x=\"480\" y=\"0\" width=\"1681\" height=\"1600\"/>\n",
       "  </clipPath>\n",
       "</defs>\n",
       "<path clip-path=\"url(#clip350)\" d=\"\n",
       "M229.473 1423.18 L2352.76 1423.18 L2352.76 47.2441 L229.473 47.2441  Z\n",
       "  \" fill=\"#ffffff\" fill-rule=\"evenodd\" fill-opacity=\"1\"/>\n",
       "<defs>\n",
       "  <clipPath id=\"clip352\">\n",
       "    <rect x=\"229\" y=\"47\" width=\"2124\" height=\"1377\"/>\n",
       "  </clipPath>\n",
       "</defs>\n",
       "<polyline clip-path=\"url(#clip352)\" style=\"stroke:#000000; stroke-width:2; stroke-opacity:0.1; fill:none\" points=\"\n",
       "  289.566,1423.18 289.566,47.2441 \n",
       "  \"/>\n",
       "<polyline clip-path=\"url(#clip352)\" style=\"stroke:#000000; stroke-width:2; stroke-opacity:0.1; fill:none\" points=\"\n",
       "  816.697,1423.18 816.697,47.2441 \n",
       "  \"/>\n",
       "<polyline clip-path=\"url(#clip352)\" style=\"stroke:#000000; stroke-width:2; stroke-opacity:0.1; fill:none\" points=\"\n",
       "  1343.83,1423.18 1343.83,47.2441 \n",
       "  \"/>\n",
       "<polyline clip-path=\"url(#clip352)\" style=\"stroke:#000000; stroke-width:2; stroke-opacity:0.1; fill:none\" points=\"\n",
       "  1870.96,1423.18 1870.96,47.2441 \n",
       "  \"/>\n",
       "<polyline clip-path=\"url(#clip352)\" style=\"stroke:#000000; stroke-width:2; stroke-opacity:0.1; fill:none\" points=\"\n",
       "  229.473,1180.83 2352.76,1180.83 \n",
       "  \"/>\n",
       "<polyline clip-path=\"url(#clip352)\" style=\"stroke:#000000; stroke-width:2; stroke-opacity:0.1; fill:none\" points=\"\n",
       "  229.473,875.502 2352.76,875.502 \n",
       "  \"/>\n",
       "<polyline clip-path=\"url(#clip352)\" style=\"stroke:#000000; stroke-width:2; stroke-opacity:0.1; fill:none\" points=\"\n",
       "  229.473,570.175 2352.76,570.175 \n",
       "  \"/>\n",
       "<polyline clip-path=\"url(#clip352)\" style=\"stroke:#000000; stroke-width:2; stroke-opacity:0.1; fill:none\" points=\"\n",
       "  229.473,264.848 2352.76,264.848 \n",
       "  \"/>\n",
       "<polyline clip-path=\"url(#clip350)\" style=\"stroke:#000000; stroke-width:4; stroke-opacity:1; fill:none\" points=\"\n",
       "  229.473,1423.18 2352.76,1423.18 \n",
       "  \"/>\n",
       "<polyline clip-path=\"url(#clip350)\" style=\"stroke:#000000; stroke-width:4; stroke-opacity:1; fill:none\" points=\"\n",
       "  229.473,1423.18 229.473,47.2441 \n",
       "  \"/>\n",
       "<polyline clip-path=\"url(#clip350)\" style=\"stroke:#000000; stroke-width:4; stroke-opacity:1; fill:none\" points=\"\n",
       "  289.566,1423.18 289.566,1406.67 \n",
       "  \"/>\n",
       "<polyline clip-path=\"url(#clip350)\" style=\"stroke:#000000; stroke-width:4; stroke-opacity:1; fill:none\" points=\"\n",
       "  816.697,1423.18 816.697,1406.67 \n",
       "  \"/>\n",
       "<polyline clip-path=\"url(#clip350)\" style=\"stroke:#000000; stroke-width:4; stroke-opacity:1; fill:none\" points=\"\n",
       "  1343.83,1423.18 1343.83,1406.67 \n",
       "  \"/>\n",
       "<polyline clip-path=\"url(#clip350)\" style=\"stroke:#000000; stroke-width:4; stroke-opacity:1; fill:none\" points=\"\n",
       "  1870.96,1423.18 1870.96,1406.67 \n",
       "  \"/>\n",
       "<polyline clip-path=\"url(#clip350)\" style=\"stroke:#000000; stroke-width:4; stroke-opacity:1; fill:none\" points=\"\n",
       "  229.473,1180.83 254.952,1180.83 \n",
       "  \"/>\n",
       "<polyline clip-path=\"url(#clip350)\" style=\"stroke:#000000; stroke-width:4; stroke-opacity:1; fill:none\" points=\"\n",
       "  229.473,875.502 254.952,875.502 \n",
       "  \"/>\n",
       "<polyline clip-path=\"url(#clip350)\" style=\"stroke:#000000; stroke-width:4; stroke-opacity:1; fill:none\" points=\"\n",
       "  229.473,570.175 254.952,570.175 \n",
       "  \"/>\n",
       "<polyline clip-path=\"url(#clip350)\" style=\"stroke:#000000; stroke-width:4; stroke-opacity:1; fill:none\" points=\"\n",
       "  229.473,264.848 254.952,264.848 \n",
       "  \"/>\n",
       "<path clip-path=\"url(#clip350)\" d=\"M 0 0 M239.612 1472.72 L247.251 1472.72 L247.251 1446.35 L238.941 1448.02 L238.941 1443.76 L247.205 1442.09 L251.881 1442.09 L251.881 1472.72 L259.519 1472.72 L259.519 1476.65 L239.612 1476.65 L239.612 1472.72 Z\" fill=\"#000000\" fill-rule=\"evenodd\" fill-opacity=\"1\" /><path clip-path=\"url(#clip350)\" d=\"M 0 0 M264.728 1475.93 L264.728 1471.68 Q266.487 1472.51 268.293 1472.95 Q270.098 1473.39 271.834 1473.39 Q276.464 1473.39 278.894 1470.29 Q281.348 1467.16 281.695 1460.82 Q280.353 1462.81 278.293 1463.87 Q276.232 1464.94 273.732 1464.94 Q268.547 1464.94 265.515 1461.81 Q262.506 1458.67 262.506 1453.23 Q262.506 1447.9 265.654 1444.68 Q268.802 1441.47 274.033 1441.47 Q280.029 1441.47 283.177 1446.07 Q286.348 1450.66 286.348 1459.41 Q286.348 1467.58 282.459 1472.46 Q278.593 1477.32 272.043 1477.32 Q270.283 1477.32 268.478 1476.98 Q266.672 1476.63 264.728 1475.93 M274.033 1461.28 Q277.181 1461.28 279.01 1459.13 Q280.862 1456.98 280.862 1453.23 Q280.862 1449.5 279.01 1447.35 Q277.181 1445.17 274.033 1445.17 Q270.885 1445.17 269.033 1447.35 Q267.205 1449.5 267.205 1453.23 Q267.205 1456.98 269.033 1459.13 Q270.885 1461.28 274.033 1461.28 Z\" fill=\"#000000\" fill-rule=\"evenodd\" fill-opacity=\"1\" /><path clip-path=\"url(#clip350)\" d=\"M 0 0 M291.556 1475.93 L291.556 1471.68 Q293.316 1472.51 295.121 1472.95 Q296.927 1473.39 298.663 1473.39 Q303.292 1473.39 305.723 1470.29 Q308.177 1467.16 308.524 1460.82 Q307.181 1462.81 305.121 1463.87 Q303.061 1464.94 300.561 1464.94 Q295.376 1464.94 292.343 1461.81 Q289.334 1458.67 289.334 1453.23 Q289.334 1447.9 292.482 1444.68 Q295.63 1441.47 300.862 1441.47 Q306.857 1441.47 310.005 1446.07 Q313.177 1450.66 313.177 1459.41 Q313.177 1467.58 309.288 1472.46 Q305.422 1477.32 298.871 1477.32 Q297.112 1477.32 295.306 1476.98 Q293.501 1476.63 291.556 1475.93 M300.862 1461.28 Q304.01 1461.28 305.839 1459.13 Q307.691 1456.98 307.691 1453.23 Q307.691 1449.5 305.839 1447.35 Q304.01 1445.17 300.862 1445.17 Q297.714 1445.17 295.862 1447.35 Q294.033 1449.5 294.033 1453.23 Q294.033 1456.98 295.862 1459.13 Q297.714 1461.28 300.862 1461.28 Z\" fill=\"#000000\" fill-rule=\"evenodd\" fill-opacity=\"1\" /><path clip-path=\"url(#clip350)\" d=\"M 0 0 M328.246 1445.17 Q324.635 1445.17 322.806 1448.74 Q321.001 1452.28 321.001 1459.41 Q321.001 1466.51 322.806 1470.08 Q324.635 1473.62 328.246 1473.62 Q331.88 1473.62 333.686 1470.08 Q335.514 1466.51 335.514 1459.41 Q335.514 1452.28 333.686 1448.74 Q331.88 1445.17 328.246 1445.17 M328.246 1441.47 Q334.056 1441.47 337.112 1446.07 Q340.19 1450.66 340.19 1459.41 Q340.19 1468.13 337.112 1472.74 Q334.056 1477.32 328.246 1477.32 Q322.436 1477.32 319.357 1472.74 Q316.302 1468.13 316.302 1459.41 Q316.302 1450.66 319.357 1446.07 Q322.436 1441.47 328.246 1441.47 Z\" fill=\"#000000\" fill-rule=\"evenodd\" fill-opacity=\"1\" /><path clip-path=\"url(#clip350)\" d=\"M 0 0 M767.241 1472.72 L774.88 1472.72 L774.88 1446.35 L766.569 1448.02 L766.569 1443.76 L774.833 1442.09 L779.509 1442.09 L779.509 1472.72 L787.148 1472.72 L787.148 1476.65 L767.241 1476.65 L767.241 1472.72 Z\" fill=\"#000000\" fill-rule=\"evenodd\" fill-opacity=\"1\" /><path clip-path=\"url(#clip350)\" d=\"M 0 0 M792.356 1475.93 L792.356 1471.68 Q794.116 1472.51 795.921 1472.95 Q797.727 1473.39 799.463 1473.39 Q804.092 1473.39 806.523 1470.29 Q808.977 1467.16 809.324 1460.82 Q807.981 1462.81 805.921 1463.87 Q803.861 1464.94 801.361 1464.94 Q796.176 1464.94 793.143 1461.81 Q790.134 1458.67 790.134 1453.23 Q790.134 1447.9 793.282 1444.68 Q796.43 1441.47 801.662 1441.47 Q807.657 1441.47 810.805 1446.07 Q813.977 1450.66 813.977 1459.41 Q813.977 1467.58 810.088 1472.46 Q806.222 1477.32 799.671 1477.32 Q797.912 1477.32 796.106 1476.98 Q794.301 1476.63 792.356 1475.93 M801.662 1461.28 Q804.81 1461.28 806.639 1459.13 Q808.491 1456.98 808.491 1453.23 Q808.491 1449.5 806.639 1447.35 Q804.81 1445.17 801.662 1445.17 Q798.514 1445.17 796.662 1447.35 Q794.833 1449.5 794.833 1453.23 Q794.833 1456.98 796.662 1459.13 Q798.514 1461.28 801.662 1461.28 Z\" fill=\"#000000\" fill-rule=\"evenodd\" fill-opacity=\"1\" /><path clip-path=\"url(#clip350)\" d=\"M 0 0 M819.185 1475.93 L819.185 1471.68 Q820.944 1472.51 822.75 1472.95 Q824.555 1473.39 826.291 1473.39 Q830.921 1473.39 833.352 1470.29 Q835.805 1467.16 836.152 1460.82 Q834.81 1462.81 832.75 1463.87 Q830.689 1464.94 828.189 1464.94 Q823.004 1464.94 819.972 1461.81 Q816.963 1458.67 816.963 1453.23 Q816.963 1447.9 820.111 1444.68 Q823.259 1441.47 828.49 1441.47 Q834.486 1441.47 837.634 1446.07 Q840.805 1450.66 840.805 1459.41 Q840.805 1467.58 836.916 1472.46 Q833.051 1477.32 826.5 1477.32 Q824.74 1477.32 822.935 1476.98 Q821.129 1476.63 819.185 1475.93 M828.49 1461.28 Q831.639 1461.28 833.467 1459.13 Q835.319 1456.98 835.319 1453.23 Q835.319 1449.5 833.467 1447.35 Q831.639 1445.17 828.49 1445.17 Q825.342 1445.17 823.49 1447.35 Q821.662 1449.5 821.662 1453.23 Q821.662 1456.98 823.49 1459.13 Q825.342 1461.28 828.49 1461.28 Z\" fill=\"#000000\" fill-rule=\"evenodd\" fill-opacity=\"1\" /><path clip-path=\"url(#clip350)\" d=\"M 0 0 M845.921 1442.09 L864.277 1442.09 L864.277 1446.03 L850.203 1446.03 L850.203 1454.5 Q851.222 1454.15 852.24 1453.99 Q853.259 1453.8 854.277 1453.8 Q860.064 1453.8 863.444 1456.98 Q866.824 1460.15 866.824 1465.56 Q866.824 1471.14 863.351 1474.24 Q859.879 1477.32 853.56 1477.32 Q851.384 1477.32 849.115 1476.95 Q846.87 1476.58 844.463 1475.84 L844.463 1471.14 Q846.546 1472.28 848.768 1472.83 Q850.99 1473.39 853.467 1473.39 Q857.472 1473.39 859.81 1471.28 Q862.148 1469.18 862.148 1465.56 Q862.148 1461.95 859.81 1459.85 Q857.472 1457.74 853.467 1457.74 Q851.592 1457.74 849.717 1458.16 Q847.865 1458.57 845.921 1459.45 L845.921 1442.09 Z\" fill=\"#000000\" fill-rule=\"evenodd\" fill-opacity=\"1\" /><path clip-path=\"url(#clip350)\" d=\"M 0 0 M1297.96 1472.72 L1314.28 1472.72 L1314.28 1476.65 L1292.33 1476.65 L1292.33 1472.72 Q1295 1469.96 1299.58 1465.33 Q1304.19 1460.68 1305.37 1459.34 Q1307.61 1456.81 1308.49 1455.08 Q1309.39 1453.32 1309.39 1451.63 Q1309.39 1448.87 1307.45 1447.14 Q1305.53 1445.4 1302.43 1445.4 Q1300.23 1445.4 1297.77 1446.17 Q1295.34 1446.93 1292.57 1448.48 L1292.57 1443.76 Q1295.39 1442.62 1297.84 1442.05 Q1300.3 1441.47 1302.33 1441.47 Q1307.7 1441.47 1310.9 1444.15 Q1314.09 1446.84 1314.09 1451.33 Q1314.09 1453.46 1313.28 1455.38 Q1312.5 1457.28 1310.39 1459.87 Q1309.81 1460.54 1306.71 1463.76 Q1303.61 1466.95 1297.96 1472.72 Z\" fill=\"#000000\" fill-rule=\"evenodd\" fill-opacity=\"1\" /><path clip-path=\"url(#clip350)\" d=\"M 0 0 M1329.35 1445.17 Q1325.74 1445.17 1323.91 1448.74 Q1322.1 1452.28 1322.1 1459.41 Q1322.1 1466.51 1323.91 1470.08 Q1325.74 1473.62 1329.35 1473.62 Q1332.98 1473.62 1334.79 1470.08 Q1336.62 1466.51 1336.62 1459.41 Q1336.62 1452.28 1334.79 1448.74 Q1332.98 1445.17 1329.35 1445.17 M1329.35 1441.47 Q1335.16 1441.47 1338.21 1446.07 Q1341.29 1450.66 1341.29 1459.41 Q1341.29 1468.13 1338.21 1472.74 Q1335.16 1477.32 1329.35 1477.32 Q1323.54 1477.32 1320.46 1472.74 Q1317.4 1468.13 1317.4 1459.41 Q1317.4 1450.66 1320.46 1446.07 Q1323.54 1441.47 1329.35 1441.47 Z\" fill=\"#000000\" fill-rule=\"evenodd\" fill-opacity=\"1\" /><path clip-path=\"url(#clip350)\" d=\"M 0 0 M1356.36 1445.17 Q1352.75 1445.17 1350.92 1448.74 Q1349.12 1452.28 1349.12 1459.41 Q1349.12 1466.51 1350.92 1470.08 Q1352.75 1473.62 1356.36 1473.62 Q1360 1473.62 1361.8 1470.08 Q1363.63 1466.51 1363.63 1459.41 Q1363.63 1452.28 1361.8 1448.74 Q1360 1445.17 1356.36 1445.17 M1356.36 1441.47 Q1362.17 1441.47 1365.23 1446.07 Q1368.31 1450.66 1368.31 1459.41 Q1368.31 1468.13 1365.23 1472.74 Q1362.17 1477.32 1356.36 1477.32 Q1350.55 1477.32 1347.47 1472.74 Q1344.42 1468.13 1344.42 1459.41 Q1344.42 1450.66 1347.47 1446.07 Q1350.55 1441.47 1356.36 1441.47 Z\" fill=\"#000000\" fill-rule=\"evenodd\" fill-opacity=\"1\" /><path clip-path=\"url(#clip350)\" d=\"M 0 0 M1383.38 1445.17 Q1379.76 1445.17 1377.94 1448.74 Q1376.13 1452.28 1376.13 1459.41 Q1376.13 1466.51 1377.94 1470.08 Q1379.76 1473.62 1383.38 1473.62 Q1387.01 1473.62 1388.82 1470.08 Q1390.64 1466.51 1390.64 1459.41 Q1390.64 1452.28 1388.82 1448.74 Q1387.01 1445.17 1383.38 1445.17 M1383.38 1441.47 Q1389.19 1441.47 1392.24 1446.07 Q1395.32 1450.66 1395.32 1459.41 Q1395.32 1468.13 1392.24 1472.74 Q1389.19 1477.32 1383.38 1477.32 Q1377.57 1477.32 1374.49 1472.74 Q1371.43 1468.13 1371.43 1459.41 Q1371.43 1450.66 1374.49 1446.07 Q1377.57 1441.47 1383.38 1441.47 Z\" fill=\"#000000\" fill-rule=\"evenodd\" fill-opacity=\"1\" /><path clip-path=\"url(#clip350)\" d=\"M 0 0 M1825.59 1472.72 L1841.91 1472.72 L1841.91 1476.65 L1819.96 1476.65 L1819.96 1472.72 Q1822.63 1469.96 1827.21 1465.33 Q1831.81 1460.68 1833 1459.34 Q1835.24 1456.81 1836.12 1455.08 Q1837.02 1453.32 1837.02 1451.63 Q1837.02 1448.87 1835.08 1447.14 Q1833.16 1445.4 1830.06 1445.4 Q1827.86 1445.4 1825.4 1446.17 Q1822.97 1446.93 1820.19 1448.48 L1820.19 1443.76 Q1823.02 1442.62 1825.47 1442.05 Q1827.93 1441.47 1829.96 1441.47 Q1835.33 1441.47 1838.53 1444.15 Q1841.72 1446.84 1841.72 1451.33 Q1841.72 1453.46 1840.91 1455.38 Q1840.13 1457.28 1838.02 1459.87 Q1837.44 1460.54 1834.34 1463.76 Q1831.24 1466.95 1825.59 1472.72 Z\" fill=\"#000000\" fill-rule=\"evenodd\" fill-opacity=\"1\" /><path clip-path=\"url(#clip350)\" d=\"M 0 0 M1856.98 1445.17 Q1853.37 1445.17 1851.54 1448.74 Q1849.73 1452.28 1849.73 1459.41 Q1849.73 1466.51 1851.54 1470.08 Q1853.37 1473.62 1856.98 1473.62 Q1860.61 1473.62 1862.42 1470.08 Q1864.25 1466.51 1864.25 1459.41 Q1864.25 1452.28 1862.42 1448.74 Q1860.61 1445.17 1856.98 1445.17 M1856.98 1441.47 Q1862.79 1441.47 1865.84 1446.07 Q1868.92 1450.66 1868.92 1459.41 Q1868.92 1468.13 1865.84 1472.74 Q1862.79 1477.32 1856.98 1477.32 Q1851.17 1477.32 1848.09 1472.74 Q1845.03 1468.13 1845.03 1459.41 Q1845.03 1450.66 1848.09 1446.07 Q1851.17 1441.47 1856.98 1441.47 Z\" fill=\"#000000\" fill-rule=\"evenodd\" fill-opacity=\"1\" /><path clip-path=\"url(#clip350)\" d=\"M 0 0 M1883.99 1445.17 Q1880.38 1445.17 1878.55 1448.74 Q1876.75 1452.28 1876.75 1459.41 Q1876.75 1466.51 1878.55 1470.08 Q1880.38 1473.62 1883.99 1473.62 Q1887.62 1473.62 1889.43 1470.08 Q1891.26 1466.51 1891.26 1459.41 Q1891.26 1452.28 1889.43 1448.74 Q1887.62 1445.17 1883.99 1445.17 M1883.99 1441.47 Q1889.8 1441.47 1892.86 1446.07 Q1895.93 1450.66 1895.93 1459.41 Q1895.93 1468.13 1892.86 1472.74 Q1889.8 1477.32 1883.99 1477.32 Q1878.18 1477.32 1875.1 1472.74 Q1872.05 1468.13 1872.05 1459.41 Q1872.05 1450.66 1875.1 1446.07 Q1878.18 1441.47 1883.99 1441.47 Z\" fill=\"#000000\" fill-rule=\"evenodd\" fill-opacity=\"1\" /><path clip-path=\"url(#clip350)\" d=\"M 0 0 M1901.05 1442.09 L1919.41 1442.09 L1919.41 1446.03 L1905.33 1446.03 L1905.33 1454.5 Q1906.35 1454.15 1907.37 1453.99 Q1908.39 1453.8 1909.41 1453.8 Q1915.19 1453.8 1918.57 1456.98 Q1921.95 1460.15 1921.95 1465.56 Q1921.95 1471.14 1918.48 1474.24 Q1915.01 1477.32 1908.69 1477.32 Q1906.51 1477.32 1904.25 1476.95 Q1902 1476.58 1899.59 1475.84 L1899.59 1471.14 Q1901.68 1472.28 1903.9 1472.83 Q1906.12 1473.39 1908.6 1473.39 Q1912.6 1473.39 1914.94 1471.28 Q1917.28 1469.18 1917.28 1465.56 Q1917.28 1461.95 1914.94 1459.85 Q1912.6 1457.74 1908.6 1457.74 Q1906.72 1457.74 1904.85 1458.16 Q1903 1458.57 1901.05 1459.45 L1901.05 1442.09 Z\" fill=\"#000000\" fill-rule=\"evenodd\" fill-opacity=\"1\" /><path clip-path=\"url(#clip350)\" d=\"M 0 0 M141.862 1167.62 L130.056 1186.07 L141.862 1186.07 L141.862 1167.62 M140.635 1163.55 L146.515 1163.55 L146.515 1186.07 L151.445 1186.07 L151.445 1189.96 L146.515 1189.96 L146.515 1198.11 L141.862 1198.11 L141.862 1189.96 L126.26 1189.96 L126.26 1185.45 L140.635 1163.55 Z\" fill=\"#000000\" fill-rule=\"evenodd\" fill-opacity=\"1\" /><path clip-path=\"url(#clip350)\" d=\"M 0 0 M166.515 1166.63 Q162.903 1166.63 161.075 1170.19 Q159.269 1173.73 159.269 1180.86 Q159.269 1187.97 161.075 1191.53 Q162.903 1195.08 166.515 1195.08 Q170.149 1195.08 171.954 1191.53 Q173.783 1187.97 173.783 1180.86 Q173.783 1173.73 171.954 1170.19 Q170.149 1166.63 166.515 1166.63 M166.515 1162.92 Q172.325 1162.92 175.38 1167.53 Q178.459 1172.11 178.459 1180.86 Q178.459 1189.59 175.38 1194.2 Q172.325 1198.78 166.515 1198.78 Q160.704 1198.78 157.626 1194.2 Q154.57 1189.59 154.57 1180.86 Q154.57 1172.11 157.626 1167.53 Q160.704 1162.92 166.515 1162.92 Z\" fill=\"#000000\" fill-rule=\"evenodd\" fill-opacity=\"1\" /><path clip-path=\"url(#clip350)\" d=\"M 0 0 M193.528 1166.63 Q189.917 1166.63 188.089 1170.19 Q186.283 1173.73 186.283 1180.86 Q186.283 1187.97 188.089 1191.53 Q189.917 1195.08 193.528 1195.08 Q197.163 1195.08 198.968 1191.53 Q200.797 1187.97 200.797 1180.86 Q200.797 1173.73 198.968 1170.19 Q197.163 1166.63 193.528 1166.63 M193.528 1162.92 Q199.338 1162.92 202.394 1167.53 Q205.473 1172.11 205.473 1180.86 Q205.473 1189.59 202.394 1194.2 Q199.338 1198.78 193.528 1198.78 Q187.718 1198.78 184.639 1194.2 Q181.584 1189.59 181.584 1180.86 Q181.584 1172.11 184.639 1167.53 Q187.718 1162.92 193.528 1162.92 Z\" fill=\"#000000\" fill-rule=\"evenodd\" fill-opacity=\"1\" /><path clip-path=\"url(#clip350)\" d=\"M 0 0 M142.857 862.296 L131.052 880.745 L142.857 880.745 L142.857 862.296 M141.63 858.222 L147.51 858.222 L147.51 880.745 L152.441 880.745 L152.441 884.634 L147.51 884.634 L147.51 892.782 L142.857 892.782 L142.857 884.634 L127.256 884.634 L127.256 880.12 L141.63 858.222 Z\" fill=\"#000000\" fill-rule=\"evenodd\" fill-opacity=\"1\" /><path clip-path=\"url(#clip350)\" d=\"M 0 0 M157.556 858.222 L175.913 858.222 L175.913 862.157 L161.839 862.157 L161.839 870.629 Q162.857 870.282 163.876 870.12 Q164.894 869.935 165.913 869.935 Q171.7 869.935 175.079 873.106 Q178.459 876.277 178.459 881.694 Q178.459 887.273 174.987 890.375 Q171.515 893.453 165.195 893.453 Q163.019 893.453 160.751 893.083 Q158.505 892.712 156.098 891.972 L156.098 887.273 Q158.181 888.407 160.403 888.962 Q162.626 889.518 165.103 889.518 Q169.107 889.518 171.445 887.412 Q173.783 885.305 173.783 881.694 Q173.783 878.083 171.445 875.976 Q169.107 873.87 165.103 873.87 Q163.228 873.87 161.353 874.287 Q159.501 874.703 157.556 875.583 L157.556 858.222 Z\" fill=\"#000000\" fill-rule=\"evenodd\" fill-opacity=\"1\" /><path clip-path=\"url(#clip350)\" d=\"M 0 0 M193.528 861.301 Q189.917 861.301 188.089 864.865 Q186.283 868.407 186.283 875.537 Q186.283 882.643 188.089 886.208 Q189.917 889.75 193.528 889.75 Q197.163 889.75 198.968 886.208 Q200.797 882.643 200.797 875.537 Q200.797 868.407 198.968 864.865 Q197.163 861.301 193.528 861.301 M193.528 857.597 Q199.338 857.597 202.394 862.203 Q205.473 866.787 205.473 875.537 Q205.473 884.263 202.394 888.87 Q199.338 893.453 193.528 893.453 Q187.718 893.453 184.639 888.87 Q181.584 884.263 181.584 875.537 Q181.584 866.787 184.639 862.203 Q187.718 857.597 193.528 857.597 Z\" fill=\"#000000\" fill-rule=\"evenodd\" fill-opacity=\"1\" /><path clip-path=\"url(#clip350)\" d=\"M 0 0 M130.543 552.895 L148.899 552.895 L148.899 556.83 L134.825 556.83 L134.825 565.302 Q135.843 564.955 136.862 564.793 Q137.88 564.608 138.899 564.608 Q144.686 564.608 148.066 567.779 Q151.445 570.95 151.445 576.367 Q151.445 581.946 147.973 585.047 Q144.501 588.126 138.181 588.126 Q136.005 588.126 133.737 587.756 Q131.492 587.385 129.084 586.645 L129.084 581.946 Q131.168 583.08 133.39 583.635 Q135.612 584.191 138.089 584.191 Q142.093 584.191 144.431 582.084 Q146.769 579.978 146.769 576.367 Q146.769 572.756 144.431 570.649 Q142.093 568.543 138.089 568.543 Q136.214 568.543 134.339 568.96 Q132.487 569.376 130.543 570.256 L130.543 552.895 Z\" fill=\"#000000\" fill-rule=\"evenodd\" fill-opacity=\"1\" /><path clip-path=\"url(#clip350)\" d=\"M 0 0 M166.515 555.974 Q162.903 555.974 161.075 559.538 Q159.269 563.08 159.269 570.21 Q159.269 577.316 161.075 580.881 Q162.903 584.422 166.515 584.422 Q170.149 584.422 171.954 580.881 Q173.783 577.316 173.783 570.21 Q173.783 563.08 171.954 559.538 Q170.149 555.974 166.515 555.974 M166.515 552.27 Q172.325 552.27 175.38 556.876 Q178.459 561.46 178.459 570.21 Q178.459 578.936 175.38 583.543 Q172.325 588.126 166.515 588.126 Q160.704 588.126 157.626 583.543 Q154.57 578.936 154.57 570.21 Q154.57 561.46 157.626 556.876 Q160.704 552.27 166.515 552.27 Z\" fill=\"#000000\" fill-rule=\"evenodd\" fill-opacity=\"1\" /><path clip-path=\"url(#clip350)\" d=\"M 0 0 M193.528 555.974 Q189.917 555.974 188.089 559.538 Q186.283 563.08 186.283 570.21 Q186.283 577.316 188.089 580.881 Q189.917 584.422 193.528 584.422 Q197.163 584.422 198.968 580.881 Q200.797 577.316 200.797 570.21 Q200.797 563.08 198.968 559.538 Q197.163 555.974 193.528 555.974 M193.528 552.27 Q199.338 552.27 202.394 556.876 Q205.473 561.46 205.473 570.21 Q205.473 578.936 202.394 583.543 Q199.338 588.126 193.528 588.126 Q187.718 588.126 184.639 583.543 Q181.584 578.936 181.584 570.21 Q181.584 561.46 184.639 556.876 Q187.718 552.27 193.528 552.27 Z\" fill=\"#000000\" fill-rule=\"evenodd\" fill-opacity=\"1\" /><path clip-path=\"url(#clip350)\" d=\"M 0 0 M131.538 247.568 L149.894 247.568 L149.894 251.503 L135.82 251.503 L135.82 259.975 Q136.839 259.628 137.857 259.466 Q138.876 259.281 139.894 259.281 Q145.681 259.281 149.061 262.452 Q152.441 265.623 152.441 271.04 Q152.441 276.618 148.968 279.72 Q145.496 282.799 139.177 282.799 Q137.001 282.799 134.732 282.429 Q132.487 282.058 130.08 281.318 L130.08 276.618 Q132.163 277.753 134.385 278.308 Q136.607 278.864 139.084 278.864 Q143.089 278.864 145.427 276.757 Q147.765 274.651 147.765 271.04 Q147.765 267.429 145.427 265.322 Q143.089 263.216 139.084 263.216 Q137.209 263.216 135.334 263.632 Q133.482 264.049 131.538 264.929 L131.538 247.568 Z\" fill=\"#000000\" fill-rule=\"evenodd\" fill-opacity=\"1\" /><path clip-path=\"url(#clip350)\" d=\"M 0 0 M157.556 247.568 L175.913 247.568 L175.913 251.503 L161.839 251.503 L161.839 259.975 Q162.857 259.628 163.876 259.466 Q164.894 259.281 165.913 259.281 Q171.7 259.281 175.079 262.452 Q178.459 265.623 178.459 271.04 Q178.459 276.618 174.987 279.72 Q171.515 282.799 165.195 282.799 Q163.019 282.799 160.751 282.429 Q158.505 282.058 156.098 281.318 L156.098 276.618 Q158.181 277.753 160.403 278.308 Q162.626 278.864 165.103 278.864 Q169.107 278.864 171.445 276.757 Q173.783 274.651 173.783 271.04 Q173.783 267.429 171.445 265.322 Q169.107 263.216 165.103 263.216 Q163.228 263.216 161.353 263.632 Q159.501 264.049 157.556 264.929 L157.556 247.568 Z\" fill=\"#000000\" fill-rule=\"evenodd\" fill-opacity=\"1\" /><path clip-path=\"url(#clip350)\" d=\"M 0 0 M193.528 250.646 Q189.917 250.646 188.089 254.211 Q186.283 257.753 186.283 264.882 Q186.283 271.989 188.089 275.554 Q189.917 279.095 193.528 279.095 Q197.163 279.095 198.968 275.554 Q200.797 271.989 200.797 264.882 Q200.797 257.753 198.968 254.211 Q197.163 250.646 193.528 250.646 M193.528 246.943 Q199.338 246.943 202.394 251.549 Q205.473 256.132 205.473 264.882 Q205.473 273.609 202.394 278.216 Q199.338 282.799 193.528 282.799 Q187.718 282.799 184.639 278.216 Q181.584 273.609 181.584 264.882 Q181.584 256.132 184.639 251.549 Q187.718 246.943 193.528 246.943 Z\" fill=\"#000000\" fill-rule=\"evenodd\" fill-opacity=\"1\" /><path clip-path=\"url(#clip350)\" d=\"M 0 0 M1244.07 1559.35 Q1241.59 1565.72 1239.23 1567.66 Q1236.88 1569.6 1232.93 1569.6 L1228.25 1569.6 L1228.25 1564.7 L1231.69 1564.7 Q1234.11 1564.7 1235.45 1563.56 Q1236.78 1562.41 1238.41 1558.14 L1239.46 1555.47 L1225.04 1520.4 L1231.24 1520.4 L1242.38 1548.28 L1253.52 1520.4 L1259.73 1520.4 L1244.07 1559.35 Z\" fill=\"#000000\" fill-rule=\"evenodd\" fill-opacity=\"1\" /><path clip-path=\"url(#clip350)\" d=\"M 0 0 M1296.37 1536.76 L1296.37 1539.62 L1269.44 1539.62 Q1269.82 1545.67 1273.07 1548.85 Q1276.35 1552 1282.17 1552 Q1285.54 1552 1288.7 1551.17 Q1291.88 1550.35 1295 1548.69 L1295 1554.23 Q1291.85 1555.57 1288.54 1556.27 Q1285.23 1556.97 1281.82 1556.97 Q1273.29 1556.97 1268.29 1552 Q1263.33 1547.04 1263.33 1538.57 Q1263.33 1529.82 1268.04 1524.69 Q1272.78 1519.54 1280.8 1519.54 Q1288 1519.54 1292.16 1524.18 Q1296.37 1528.8 1296.37 1536.76 M1290.51 1535.04 Q1290.45 1530.23 1287.8 1527.37 Q1285.19 1524.5 1280.87 1524.5 Q1275.96 1524.5 1273 1527.27 Q1270.08 1530.04 1269.63 1535.07 L1290.51 1535.04 Z\" fill=\"#000000\" fill-rule=\"evenodd\" fill-opacity=\"1\" /><path clip-path=\"url(#clip350)\" d=\"M 0 0 M1318.71 1538.12 Q1311.61 1538.12 1308.87 1539.75 Q1306.14 1541.37 1306.14 1545.29 Q1306.14 1548.4 1308.17 1550.25 Q1310.24 1552.07 1313.78 1552.07 Q1318.65 1552.07 1321.57 1548.63 Q1324.53 1545.16 1324.53 1539.43 L1324.53 1538.12 L1318.71 1538.12 M1330.39 1535.71 L1330.39 1556.04 L1324.53 1556.04 L1324.53 1550.63 Q1322.53 1553.88 1319.54 1555.44 Q1316.55 1556.97 1312.22 1556.97 Q1306.74 1556.97 1303.5 1553.91 Q1300.28 1550.82 1300.28 1545.67 Q1300.28 1539.65 1304.29 1536.6 Q1308.33 1533.54 1316.32 1533.54 L1324.53 1533.54 L1324.53 1532.97 Q1324.53 1528.93 1321.86 1526.73 Q1319.22 1524.5 1314.41 1524.5 Q1311.36 1524.5 1308.46 1525.23 Q1305.56 1525.97 1302.89 1527.43 L1302.89 1522.02 Q1306.11 1520.78 1309.13 1520.17 Q1312.15 1519.54 1315.02 1519.54 Q1322.75 1519.54 1326.57 1523.55 Q1330.39 1527.56 1330.39 1535.71 Z\" fill=\"#000000\" fill-rule=\"evenodd\" fill-opacity=\"1\" /><path clip-path=\"url(#clip350)\" d=\"M 0 0 M1357.19 1525.87 Q1356.2 1525.3 1355.03 1525.04 Q1353.88 1524.76 1352.48 1524.76 Q1347.51 1524.76 1344.84 1528 Q1342.2 1531.22 1342.2 1537.27 L1342.2 1556.04 L1336.31 1556.04 L1336.31 1520.4 L1342.2 1520.4 L1342.2 1525.93 Q1344.05 1522.69 1347.01 1521.13 Q1349.97 1519.54 1354.2 1519.54 Q1354.8 1519.54 1355.54 1519.63 Q1356.27 1519.7 1357.16 1519.85 L1357.19 1525.87 Z\" fill=\"#000000\" fill-rule=\"evenodd\" fill-opacity=\"1\" /><path clip-path=\"url(#clip350)\" d=\"M 0 0 M82.657 1063.14 L101.563 1063.14 L101.563 1069.03 L52.3562 1069.03 L52.3562 1063.14 L57.7671 1063.14 Q54.5842 1061.3 53.0564 1058.49 Q51.4968 1055.66 51.4968 1051.75 Q51.4968 1045.25 56.6531 1041.21 Q61.8093 1037.14 70.212 1037.14 Q78.6147 1037.14 83.771 1041.21 Q88.9272 1045.25 88.9272 1051.75 Q88.9272 1055.66 87.3994 1058.49 Q85.8398 1061.3 82.657 1063.14 M70.212 1043.22 Q63.7508 1043.22 60.0905 1045.89 Q56.3984 1048.53 56.3984 1053.18 Q56.3984 1057.83 60.0905 1060.5 Q63.7508 1063.14 70.212 1063.14 Q76.6732 1063.14 80.3653 1060.5 Q84.0256 1057.83 84.0256 1053.18 Q84.0256 1048.53 80.3653 1045.89 Q76.6732 1043.22 70.212 1043.22 Z\" fill=\"#000000\" fill-rule=\"evenodd\" fill-opacity=\"1\" /><path clip-path=\"url(#clip350)\" d=\"M 0 0 M70.0847 1014.79 Q70.0847 1021.89 71.7079 1024.63 Q73.3312 1027.37 77.2461 1027.37 Q80.3653 1027.37 82.2114 1025.33 Q84.0256 1023.26 84.0256 1019.73 Q84.0256 1014.86 80.5881 1011.93 Q77.1188 1008.97 71.3897 1008.97 L70.0847 1008.97 L70.0847 1014.79 M67.6657 1003.11 L88.0042 1003.11 L88.0042 1008.97 L82.5933 1008.97 Q85.8398 1010.97 87.3994 1013.97 Q88.9272 1016.96 88.9272 1021.29 Q88.9272 1026.76 85.8716 1030.01 Q82.7843 1033.22 77.6281 1033.22 Q71.6125 1033.22 68.5569 1029.21 Q65.5014 1025.17 65.5014 1017.18 L65.5014 1008.97 L64.9285 1008.97 Q60.8862 1008.97 58.6901 1011.64 Q56.4621 1014.28 56.4621 1019.09 Q56.4621 1022.15 57.1941 1025.04 Q57.9262 1027.94 59.3903 1030.61 L53.9795 1030.61 Q52.7381 1027.4 52.1334 1024.37 Q51.4968 1021.35 51.4968 1018.49 Q51.4968 1010.75 55.5072 1006.93 Q59.5176 1003.11 67.6657 1003.11 Z\" fill=\"#000000\" fill-rule=\"evenodd\" fill-opacity=\"1\" /><path clip-path=\"url(#clip350)\" d=\"M 0 0 M53.4065 974.244 L58.9447 974.244 Q57.6716 976.727 57.035 979.4 Q56.3984 982.074 56.3984 984.939 Q56.3984 989.299 57.7352 991.495 Q59.072 993.66 61.7456 993.66 Q63.7826 993.66 64.9603 992.1 Q66.1061 990.54 67.1565 985.83 L67.6021 983.825 Q68.9389 977.586 71.3897 974.976 Q73.8086 972.335 78.1691 972.335 Q83.1344 972.335 86.0308 976.281 Q88.9272 980.196 88.9272 987.071 Q88.9272 989.936 88.3543 993.055 Q87.8132 996.142 86.6992 999.58 L80.6518 999.58 Q82.3387 996.333 83.198 993.182 Q84.0256 990.031 84.0256 986.944 Q84.0256 982.806 82.6251 980.578 Q81.1929 978.35 78.6147 978.35 Q76.2276 978.35 74.9545 979.973 Q73.6813 981.565 72.5037 987.007 L72.0262 989.045 Q70.8804 994.487 68.5251 996.906 Q66.138 999.325 62.0002 999.325 Q56.9713 999.325 54.2341 995.76 Q51.4968 992.196 51.4968 985.639 Q51.4968 982.392 51.9743 979.528 Q52.4517 976.663 53.4065 974.244 Z\" fill=\"#000000\" fill-rule=\"evenodd\" fill-opacity=\"1\" /><path clip-path=\"url(#clip350)\" d=\"M 0 0 M53.4065 943.466 L58.9447 943.466 Q57.6716 945.949 57.035 948.622 Q56.3984 951.296 56.3984 954.16 Q56.3984 958.521 57.7352 960.717 Q59.072 962.881 61.7456 962.881 Q63.7826 962.881 64.9603 961.322 Q66.1061 959.762 67.1565 955.052 L67.6021 953.046 Q68.9389 946.808 71.3897 944.198 Q73.8086 941.556 78.1691 941.556 Q83.1344 941.556 86.0308 945.503 Q88.9272 949.418 88.9272 956.293 Q88.9272 959.158 88.3543 962.277 Q87.8132 965.364 86.6992 968.802 L80.6518 968.802 Q82.3387 965.555 83.198 962.404 Q84.0256 959.253 84.0256 956.166 Q84.0256 952.028 82.6251 949.8 Q81.1929 947.572 78.6147 947.572 Q76.2276 947.572 74.9545 949.195 Q73.6813 950.787 72.5037 956.229 L72.0262 958.266 Q70.8804 963.709 68.5251 966.128 Q66.138 968.547 62.0002 968.547 Q56.9713 968.547 54.2341 964.982 Q51.4968 961.417 51.4968 954.861 Q51.4968 951.614 51.9743 948.75 Q52.4517 945.885 53.4065 943.466 Z\" fill=\"#000000\" fill-rule=\"evenodd\" fill-opacity=\"1\" /><path clip-path=\"url(#clip350)\" d=\"M 0 0 M68.7161 904.922 L71.5806 904.922 L71.5806 931.849 Q77.6281 931.467 80.8109 928.22 Q83.9619 924.942 83.9619 919.117 Q83.9619 915.743 83.1344 912.592 Q82.3069 909.41 80.6518 906.29 L86.1899 906.29 Q87.5267 909.441 88.227 912.752 Q88.9272 916.062 88.9272 919.467 Q88.9272 927.997 83.9619 932.994 Q78.9967 937.96 70.5303 937.96 Q61.7774 937.96 56.6531 933.249 Q51.4968 928.507 51.4968 920.486 Q51.4968 913.293 56.1438 909.123 Q60.7589 904.922 68.7161 904.922 M66.9973 910.778 Q62.1912 910.842 59.3266 913.484 Q56.4621 916.094 56.4621 920.422 Q56.4621 925.324 59.2312 928.284 Q62.0002 931.212 67.0292 931.658 L66.9973 910.778 Z\" fill=\"#000000\" fill-rule=\"evenodd\" fill-opacity=\"1\" /><path clip-path=\"url(#clip350)\" d=\"M 0 0 M66.4881 869.146 L88.0042 869.146 L88.0042 875.003 L66.679 875.003 Q61.6183 875.003 59.1038 876.976 Q56.5894 878.95 56.5894 882.896 Q56.5894 887.639 59.6131 890.376 Q62.6368 893.113 67.8567 893.113 L88.0042 893.113 L88.0042 899.002 L52.3562 899.002 L52.3562 893.113 L57.8944 893.113 Q54.6797 891.013 53.0883 888.18 Q51.4968 885.315 51.4968 881.591 Q51.4968 875.448 55.3163 872.297 Q59.1038 869.146 66.4881 869.146 Z\" fill=\"#000000\" fill-rule=\"evenodd\" fill-opacity=\"1\" /><path clip-path=\"url(#clip350)\" d=\"M 0 0 M69.7664 839.546 Q63.4007 839.546 59.8996 842.188 Q56.3984 844.798 56.3984 849.54 Q56.3984 854.251 59.8996 856.892 Q63.4007 859.502 69.7664 859.502 Q76.1003 859.502 79.6014 856.892 Q83.1026 854.251 83.1026 849.54 Q83.1026 844.798 79.6014 842.188 Q76.1003 839.546 69.7664 839.546 M83.58 833.689 Q92.683 833.689 97.1071 837.732 Q101.563 841.774 101.563 850.113 Q101.563 853.2 101.086 855.938 Q100.64 858.675 99.6852 861.253 L93.9879 861.253 Q95.3884 858.675 96.0568 856.16 Q96.7252 853.646 96.7252 851.036 Q96.7252 845.275 93.7015 842.41 Q90.7096 839.546 84.6303 839.546 L81.7339 839.546 Q84.885 841.36 86.4446 844.193 Q88.0042 847.026 88.0042 850.972 Q88.0042 857.529 83.0071 861.539 Q78.01 865.55 69.7664 865.55 Q61.491 865.55 56.4939 861.539 Q51.4968 857.529 51.4968 850.972 Q51.4968 847.026 53.0564 844.193 Q54.616 841.36 57.7671 839.546 L52.3562 839.546 L52.3562 833.689 L83.58 833.689 Z\" fill=\"#000000\" fill-rule=\"evenodd\" fill-opacity=\"1\" /><path clip-path=\"url(#clip350)\" d=\"M 0 0 M68.7161 797.055 L71.5806 797.055 L71.5806 823.982 Q77.6281 823.6 80.8109 820.353 Q83.9619 817.075 83.9619 811.25 Q83.9619 807.877 83.1344 804.725 Q82.3069 801.543 80.6518 798.423 L86.1899 798.423 Q87.5267 801.574 88.227 804.885 Q88.9272 808.195 88.9272 811.6 Q88.9272 820.13 83.9619 825.128 Q78.9967 830.093 70.5303 830.093 Q61.7774 830.093 56.6531 825.382 Q51.4968 820.64 51.4968 812.619 Q51.4968 805.426 56.1438 801.256 Q60.7589 797.055 68.7161 797.055 M66.9973 802.911 Q62.1912 802.975 59.3266 805.617 Q56.4621 808.227 56.4621 812.555 Q56.4621 817.457 59.2312 820.417 Q62.0002 823.345 67.0292 823.791 L66.9973 802.911 Z\" fill=\"#000000\" fill-rule=\"evenodd\" fill-opacity=\"1\" /><path clip-path=\"url(#clip350)\" d=\"M 0 0 M57.8307 770.255 Q57.2578 771.242 57.0032 772.42 Q56.7167 773.565 56.7167 774.966 Q56.7167 779.931 59.9632 782.605 Q63.1779 785.246 69.2253 785.246 L88.0042 785.246 L88.0042 791.135 L52.3562 791.135 L52.3562 785.246 L57.8944 785.246 Q54.6479 783.4 53.0883 780.44 Q51.4968 777.48 51.4968 773.247 Q51.4968 772.642 51.5923 771.91 Q51.656 771.178 51.8151 770.287 L57.8307 770.255 Z\" fill=\"#000000\" fill-rule=\"evenodd\" fill-opacity=\"1\" /><path clip-path=\"url(#clip350)\" d=\"M 0 0 M53.4065 741.387 L58.9447 741.387 Q57.6716 743.869 57.035 746.543 Q56.3984 749.217 56.3984 752.081 Q56.3984 756.442 57.7352 758.638 Q59.072 760.802 61.7456 760.802 Q63.7826 760.802 64.9603 759.243 Q66.1061 757.683 67.1565 752.972 L67.6021 750.967 Q68.9389 744.729 71.3897 742.119 Q73.8086 739.477 78.1691 739.477 Q83.1344 739.477 86.0308 743.424 Q88.9272 747.339 88.9272 754.214 Q88.9272 757.078 88.3543 760.197 Q87.8132 763.285 86.6992 766.722 L80.6518 766.722 Q82.3387 763.476 83.198 760.325 Q84.0256 757.174 84.0256 754.086 Q84.0256 749.949 82.6251 747.721 Q81.1929 745.493 78.6147 745.493 Q76.2276 745.493 74.9545 747.116 Q73.6813 748.707 72.5037 754.15 L72.0262 756.187 Q70.8804 761.63 68.5251 764.049 Q66.138 766.468 62.0002 766.468 Q56.9713 766.468 54.2341 762.903 Q51.4968 759.338 51.4968 752.781 Q51.4968 749.535 51.9743 746.67 Q52.4517 743.806 53.4065 741.387 Z\" fill=\"#000000\" fill-rule=\"evenodd\" fill-opacity=\"1\" /><path clip-path=\"url(#clip350)\" d=\"M 0 0 M38.5426 698.545 Q45.8632 702.811 53.0246 704.879 Q60.186 706.948 67.5384 706.948 Q74.8908 706.948 82.1159 704.879 Q89.3091 702.779 96.5979 698.545 L96.5979 703.638 Q89.1182 708.412 81.8931 710.799 Q74.668 713.155 67.5384 713.155 Q60.4406 713.155 53.2474 710.799 Q46.0542 708.444 38.5426 703.638 L38.5426 698.545 Z\" fill=\"#000000\" fill-rule=\"evenodd\" fill-opacity=\"1\" /><path clip-path=\"url(#clip350)\" d=\"M 0 0 M52.3562 692.403 L52.3562 686.546 L88.0042 686.546 L88.0042 692.403 L52.3562 692.403 M38.479 692.403 L38.479 686.546 L45.895 686.546 L45.895 692.403 L38.479 692.403 Z\" fill=\"#000000\" fill-rule=\"evenodd\" fill-opacity=\"1\" /><path clip-path=\"url(#clip350)\" d=\"M 0 0 M66.4881 650.771 L88.0042 650.771 L88.0042 656.627 L66.679 656.627 Q61.6183 656.627 59.1038 658.601 Q56.5894 660.574 56.5894 664.521 Q56.5894 669.263 59.6131 672.001 Q62.6368 674.738 67.8567 674.738 L88.0042 674.738 L88.0042 680.626 L52.3562 680.626 L52.3562 674.738 L57.8944 674.738 Q54.6797 672.637 53.0883 669.804 Q51.4968 666.94 51.4968 663.216 Q51.4968 657.073 55.3163 653.922 Q59.1038 650.771 66.4881 650.771 Z\" fill=\"#000000\" fill-rule=\"evenodd\" fill-opacity=\"1\" /><path clip-path=\"url(#clip350)\" d=\"M 0 0 M59.1993 596.153 Q55.2526 593.957 53.3747 590.901 Q51.4968 587.846 51.4968 583.708 Q51.4968 578.138 55.4117 575.114 Q59.2948 572.091 66.4881 572.091 L88.0042 572.091 L88.0042 577.979 L66.679 577.979 Q61.5546 577.979 59.072 579.793 Q56.5894 581.607 56.5894 585.331 Q56.5894 589.883 59.6131 592.525 Q62.6368 595.166 67.8567 595.166 L88.0042 595.166 L88.0042 601.055 L66.679 601.055 Q61.5228 601.055 59.072 602.869 Q56.5894 604.683 56.5894 608.471 Q56.5894 612.959 59.6449 615.6 Q62.6686 618.242 67.8567 618.242 L88.0042 618.242 L88.0042 624.13 L52.3562 624.13 L52.3562 618.242 L57.8944 618.242 Q54.616 616.237 53.0564 613.436 Q51.4968 610.635 51.4968 606.784 Q51.4968 602.901 53.4702 600.195 Q55.4436 597.458 59.1993 596.153 Z\" fill=\"#000000\" fill-rule=\"evenodd\" fill-opacity=\"1\" /><path clip-path=\"url(#clip350)\" d=\"M 0 0 M52.3562 565.948 L52.3562 560.091 L88.0042 560.091 L88.0042 565.948 L52.3562 565.948 M38.479 565.948 L38.479 560.091 L45.895 560.091 L45.895 565.948 L38.479 565.948 Z\" fill=\"#000000\" fill-rule=\"evenodd\" fill-opacity=\"1\" /><path clip-path=\"url(#clip350)\" d=\"M 0 0 M38.479 553.948 L38.479 548.092 L88.0042 548.092 L88.0042 553.948 L38.479 553.948 Z\" fill=\"#000000\" fill-rule=\"evenodd\" fill-opacity=\"1\" /><path clip-path=\"url(#clip350)\" d=\"M 0 0 M38.479 541.949 L38.479 536.093 L88.0042 536.093 L88.0042 541.949 L38.479 541.949 Z\" fill=\"#000000\" fill-rule=\"evenodd\" fill-opacity=\"1\" /><path clip-path=\"url(#clip350)\" d=\"M 0 0 M52.3562 529.95 L52.3562 524.093 L88.0042 524.093 L88.0042 529.95 L52.3562 529.95 M38.479 529.95 L38.479 524.093 L45.895 524.093 L45.895 529.95 L38.479 529.95 Z\" fill=\"#000000\" fill-rule=\"evenodd\" fill-opacity=\"1\" /><path clip-path=\"url(#clip350)\" d=\"M 0 0 M56.4621 504.137 Q56.4621 508.847 60.1542 511.585 Q63.8145 514.322 70.212 514.322 Q76.6095 514.322 80.3017 511.617 Q83.9619 508.879 83.9619 504.137 Q83.9619 499.458 80.2698 496.721 Q76.5777 493.984 70.212 493.984 Q63.8781 493.984 60.186 496.721 Q56.4621 499.458 56.4621 504.137 M51.4968 504.137 Q51.4968 496.498 56.4621 492.137 Q61.4273 487.777 70.212 487.777 Q78.9649 487.777 83.9619 492.137 Q88.9272 496.498 88.9272 504.137 Q88.9272 511.807 83.9619 516.168 Q78.9649 520.497 70.212 520.497 Q61.4273 520.497 56.4621 516.168 Q51.4968 511.807 51.4968 504.137 Z\" fill=\"#000000\" fill-rule=\"evenodd\" fill-opacity=\"1\" /><path clip-path=\"url(#clip350)\" d=\"M 0 0 M66.4881 452.002 L88.0042 452.002 L88.0042 457.858 L66.679 457.858 Q61.6183 457.858 59.1038 459.831 Q56.5894 461.805 56.5894 465.752 Q56.5894 470.494 59.6131 473.231 Q62.6368 475.969 67.8567 475.969 L88.0042 475.969 L88.0042 481.857 L52.3562 481.857 L52.3562 475.969 L57.8944 475.969 Q54.6797 473.868 53.0883 471.035 Q51.4968 468.171 51.4968 464.447 Q51.4968 458.304 55.3163 455.153 Q59.1038 452.002 66.4881 452.002 Z\" fill=\"#000000\" fill-rule=\"evenodd\" fill-opacity=\"1\" /><path clip-path=\"url(#clip350)\" d=\"M 0 0 M53.4065 423.133 L58.9447 423.133 Q57.6716 425.616 57.035 428.289 Q56.3984 430.963 56.3984 433.828 Q56.3984 438.188 57.7352 440.384 Q59.072 442.549 61.7456 442.549 Q63.7826 442.549 64.9603 440.989 Q66.1061 439.429 67.1565 434.719 L67.6021 432.714 Q68.9389 426.475 71.3897 423.865 Q73.8086 421.223 78.1691 421.223 Q83.1344 421.223 86.0308 425.17 Q88.9272 429.085 88.9272 435.96 Q88.9272 438.825 88.3543 441.944 Q87.8132 445.031 86.6992 448.469 L80.6518 448.469 Q82.3387 445.222 83.198 442.071 Q84.0256 438.92 84.0256 435.833 Q84.0256 431.695 82.6251 429.467 Q81.1929 427.239 78.6147 427.239 Q76.2276 427.239 74.9545 428.862 Q73.6813 430.454 72.5037 435.896 L72.0262 437.933 Q70.8804 443.376 68.5251 445.795 Q66.138 448.214 62.0002 448.214 Q56.9713 448.214 54.2341 444.649 Q51.4968 441.084 51.4968 434.528 Q51.4968 431.281 51.9743 428.417 Q52.4517 425.552 53.4065 423.133 Z\" fill=\"#000000\" fill-rule=\"evenodd\" fill-opacity=\"1\" /><path clip-path=\"url(#clip350)\" d=\"M 0 0 M38.5426 416.004 L38.5426 410.911 Q46.0542 406.137 53.2474 403.781 Q60.4406 401.394 67.5384 401.394 Q74.668 401.394 81.8931 403.781 Q89.1182 406.137 96.5979 410.911 L96.5979 416.004 Q89.3091 411.77 82.1159 409.702 Q74.8908 407.601 67.5384 407.601 Q60.186 407.601 53.0246 409.702 Q45.8632 411.77 38.5426 416.004 Z\" fill=\"#000000\" fill-rule=\"evenodd\" fill-opacity=\"1\" /><polyline clip-path=\"url(#clip352)\" style=\"stroke:#009af9; stroke-width:4; stroke-opacity:1; fill:none\" points=\"\n",
       "  289.566,1361.56 394.992,1384.24 500.418,1282.67 605.844,1235.2 711.27,1021.26 816.697,926.145 922.123,766.281 1027.55,680.523 1132.98,619.531 1238.4,500.933 \n",
       "  1343.83,362.815 1449.25,588.435 1554.68,655.492 1660.11,515.283 1765.53,286.407 1870.96,153.664 1976.38,174.914 2081.81,86.1857 2187.24,234.323 2292.66,409.561 \n",
       "  \n",
       "  \"/>\n",
       "</svg>\n"
      ]
     },
     "execution_count": 26,
     "metadata": {},
     "output_type": "execute_result"
    }
   ],
   "source": [
    "@pipe df2 |>\n",
    "      groupby(_, :year, sort=true) |>\n",
    "      combine(_, :Passengers => sum) |>\n",
    "      plot(_.year, _.Passengers_sum ./ 10^6, legend=nothing,\n",
    "           xlab=\"year\", ylab=\"passengers (in millions)\")"
   ]
  },
  {
   "cell_type": "markdown",
   "metadata": {},
   "source": [
    "I particular note that `_` notation from Pipe.jl package allows you to write any valid code you could use on the passed value. In our case `plot` is passed a `DataFrame`, so we e.g. write `_.year` to get a `:year` column from it."
   ]
  },
  {
   "cell_type": "markdown",
   "metadata": {},
   "source": [
    "In the following example we will want to find pairs of origin-destination states that have the highest occupancy:"
   ]
  },
  {
   "cell_type": "code",
   "execution_count": 27,
   "metadata": {
    "scrolled": true
   },
   "outputs": [
    {
     "data": {
      "text/html": [
       "<table class=\"data-frame\"><thead><tr><th></th><th>ost</th><th>dst</th><th>occupied</th><th>Passengers_sum</th></tr><tr><th></th><th>String</th><th>String</th><th>Float64</th><th>Int64</th></tr></thead><tbody><p>2,369 rows × 4 columns</p><tr><th>1</th><td>NE</td><td>AK</td><td>1.0</td><td>180</td></tr><tr><th>2</th><td>MD</td><td>ID</td><td>1.0</td><td>150</td></tr><tr><th>3</th><td>ID</td><td>AR</td><td>1.0</td><td>124</td></tr><tr><th>4</th><td>ID</td><td>MS</td><td>1.0</td><td>181</td></tr><tr><th>5</th><td>ND</td><td>RI</td><td>1.0</td><td>50</td></tr><tr><th>6</th><td>WY</td><td>NY</td><td>0.991935</td><td>123</td></tr><tr><th>7</th><td>OR</td><td>RI</td><td>0.991935</td><td>123</td></tr><tr><th>8</th><td>WV</td><td>NE</td><td>0.984615</td><td>176</td></tr><tr><th>9</th><td>KS</td><td>ID</td><td>0.983871</td><td>122</td></tr><tr><th>10</th><td>AK</td><td>TN</td><td>0.981723</td><td>376</td></tr><tr><th>11</th><td>NM</td><td>KY</td><td>0.979204</td><td>285</td></tr><tr><th>12</th><td>HI</td><td>NE</td><td>0.977472</td><td>1327</td></tr><tr><th>13</th><td>PA</td><td>HI</td><td>0.974296</td><td>699</td></tr><tr><th>14</th><td>SD</td><td>MS</td><td>0.971098</td><td>168</td></tr><tr><th>15</th><td>WV</td><td>NV</td><td>0.970803</td><td>133</td></tr><tr><th>16</th><td>MI</td><td>ID</td><td>0.966667</td><td>145</td></tr><tr><th>17</th><td>MS</td><td>SD</td><td>0.965318</td><td>167</td></tr><tr><th>18</th><td>MD</td><td>HI</td><td>0.963899</td><td>267</td></tr><tr><th>19</th><td>MT</td><td>OK</td><td>0.959677</td><td>164</td></tr><tr><th>20</th><td>OR</td><td>VA</td><td>0.955169</td><td>653</td></tr><tr><th>&vellip;</th><td>&vellip;</td><td>&vellip;</td><td>&vellip;</td><td>&vellip;</td></tr></tbody></table>"
      ],
      "text/latex": [
       "\\begin{tabular}{r|cccc}\n",
       "\t& ost & dst & occupied & Passengers\\_sum\\\\\n",
       "\t\\hline\n",
       "\t& String & String & Float64 & Int64\\\\\n",
       "\t\\hline\n",
       "\t1 & NE & AK & 1.0 & 180 \\\\\n",
       "\t2 & MD & ID & 1.0 & 150 \\\\\n",
       "\t3 & ID & AR & 1.0 & 124 \\\\\n",
       "\t4 & ID & MS & 1.0 & 181 \\\\\n",
       "\t5 & ND & RI & 1.0 & 50 \\\\\n",
       "\t6 & WY & NY & 0.991935 & 123 \\\\\n",
       "\t7 & OR & RI & 0.991935 & 123 \\\\\n",
       "\t8 & WV & NE & 0.984615 & 176 \\\\\n",
       "\t9 & KS & ID & 0.983871 & 122 \\\\\n",
       "\t10 & AK & TN & 0.981723 & 376 \\\\\n",
       "\t11 & NM & KY & 0.979204 & 285 \\\\\n",
       "\t12 & HI & NE & 0.977472 & 1327 \\\\\n",
       "\t13 & PA & HI & 0.974296 & 699 \\\\\n",
       "\t14 & SD & MS & 0.971098 & 168 \\\\\n",
       "\t15 & WV & NV & 0.970803 & 133 \\\\\n",
       "\t16 & MI & ID & 0.966667 & 145 \\\\\n",
       "\t17 & MS & SD & 0.965318 & 167 \\\\\n",
       "\t18 & MD & HI & 0.963899 & 267 \\\\\n",
       "\t19 & MT & OK & 0.959677 & 164 \\\\\n",
       "\t20 & OR & VA & 0.955169 & 653 \\\\\n",
       "\t$\\dots$ & $\\dots$ & $\\dots$ & $\\dots$ & $\\dots$ \\\\\n",
       "\\end{tabular}\n"
      ],
      "text/plain": [
       "2369×4 DataFrame\n",
       "│ Row  │ ost    │ dst    │ occupied │ Passengers_sum │\n",
       "│      │ \u001b[90mString\u001b[39m │ \u001b[90mString\u001b[39m │ \u001b[90mFloat64\u001b[39m  │ \u001b[90mInt64\u001b[39m          │\n",
       "├──────┼────────┼────────┼──────────┼────────────────┤\n",
       "│ 1    │ NE     │ AK     │ 1.0      │ 180            │\n",
       "│ 2    │ MD     │ ID     │ 1.0      │ 150            │\n",
       "│ 3    │ ID     │ AR     │ 1.0      │ 124            │\n",
       "│ 4    │ ID     │ MS     │ 1.0      │ 181            │\n",
       "│ 5    │ ND     │ RI     │ 1.0      │ 50             │\n",
       "⋮\n",
       "│ 2364 │ MN     │ DE     │ 0.0      │ 0              │\n",
       "│ 2365 │ AK     │ AR     │ 0.0      │ 0              │\n",
       "│ 2366 │ DE     │ MN     │ 0.0      │ 0              │\n",
       "│ 2367 │ AL     │ SD     │ 0.0      │ 0              │\n",
       "│ 2368 │ SC     │ SD     │ 0.0      │ 0              │\n",
       "│ 2369 │ AK     │ VA     │ 0.0      │ 0              │"
      ]
     },
     "execution_count": 27,
     "metadata": {},
     "output_type": "execute_result"
    }
   ],
   "source": [
    "df3 = @pipe df2 |>\n",
    "            groupby(_, [:ost, :dst]) |>\n",
    "            combine(_, :occupied => mean∘skipmissing => :occupied, :Passengers => sum) |>\n",
    "            filter!(:occupied => isfinite, _) |>\n",
    "            sort!(_, :occupied, rev=true)"
   ]
  },
  {
   "cell_type": "markdown",
   "metadata": {},
   "source": [
    "In the above code note two things: we use `filter!` and `sort!` functions to process the data frame returned by `combine` in place (which reduces the number of allocations we make).\n",
    "\n",
    "Additionally note that when we aggregate `:occupied` column in `combine` using `mean∘skipmissing` then for some origin-destination state combinations we get zero observations, which produce `NaN`, so we filter them out using `isfinite` predicate."
   ]
  },
  {
   "cell_type": "markdown",
   "metadata": {},
   "source": [
    "Just to make sure what happens when we apply `mean∘skipmissing` to a vector containing only missing values consider the following simple example:"
   ]
  },
  {
   "cell_type": "code",
   "execution_count": 28,
   "metadata": {},
   "outputs": [
    {
     "data": {
      "text/html": [
       "<table class=\"data-frame\"><thead><tr><th></th><th>g</th><th>v_function</th></tr><tr><th></th><th>Int64</th><th>Float64</th></tr></thead><tbody><p>2 rows × 2 columns</p><tr><th>1</th><td>1</td><td>1.5</td></tr><tr><th>2</th><td>2</td><td>NaN</td></tr></tbody></table>"
      ],
      "text/latex": [
       "\\begin{tabular}{r|cc}\n",
       "\t& g & v\\_function\\\\\n",
       "\t\\hline\n",
       "\t& Int64 & Float64\\\\\n",
       "\t\\hline\n",
       "\t1 & 1 & 1.5 \\\\\n",
       "\t2 & 2 & NaN \\\\\n",
       "\\end{tabular}\n"
      ],
      "text/plain": [
       "2×2 DataFrame\n",
       "│ Row │ g     │ v_function │\n",
       "│     │ \u001b[90mInt64\u001b[39m │ \u001b[90mFloat64\u001b[39m    │\n",
       "├─────┼───────┼────────────┤\n",
       "│ 1   │ 1     │ 1.5        │\n",
       "│ 2   │ 2     │ NaN        │"
      ]
     },
     "execution_count": 28,
     "metadata": {},
     "output_type": "execute_result"
    }
   ],
   "source": [
    "@pipe DataFrame(g=[1,1,2,2], v=[1,2,missing, missing]) |>\n",
    "      groupby(_, :g) |>\n",
    "      combine(_, :v => mean∘skipmissing)"
   ]
  },
  {
   "cell_type": "markdown",
   "metadata": {},
   "source": [
    "As a final example let us consider the following case. Assume that you want to query `df3` data frame by `:ost` and `:dst` columns very often.\n",
    "\n",
    "The simplest way to do it is to use `filter` as we have already discussed:"
   ]
  },
  {
   "cell_type": "code",
   "execution_count": 29,
   "metadata": {},
   "outputs": [
    {
     "data": {
      "text/html": [
       "<table class=\"data-frame\"><thead><tr><th></th><th>ost</th><th>dst</th><th>occupied</th><th>Passengers_sum</th></tr><tr><th></th><th>String</th><th>String</th><th>Float64</th><th>Int64</th></tr></thead><tbody><p>1 rows × 4 columns</p><tr><th>1</th><td>NE</td><td>AK</td><td>1.0</td><td>180</td></tr></tbody></table>"
      ],
      "text/latex": [
       "\\begin{tabular}{r|cccc}\n",
       "\t& ost & dst & occupied & Passengers\\_sum\\\\\n",
       "\t\\hline\n",
       "\t& String & String & Float64 & Int64\\\\\n",
       "\t\\hline\n",
       "\t1 & NE & AK & 1.0 & 180 \\\\\n",
       "\\end{tabular}\n"
      ],
      "text/plain": [
       "1×4 DataFrame\n",
       "│ Row │ ost    │ dst    │ occupied │ Passengers_sum │\n",
       "│     │ \u001b[90mString\u001b[39m │ \u001b[90mString\u001b[39m │ \u001b[90mFloat64\u001b[39m  │ \u001b[90mInt64\u001b[39m          │\n",
       "├─────┼────────┼────────┼──────────┼────────────────┤\n",
       "│ 1   │ NE     │ AK     │ 1.0      │ 180            │"
      ]
     },
     "execution_count": 29,
     "metadata": {},
     "output_type": "execute_result"
    }
   ],
   "source": [
    "filter([:ost, :dst] => (ost, dst) -> ost == \"NE\" && dst == \"AK\", df3)"
   ]
  },
  {
   "cell_type": "markdown",
   "metadata": {},
   "source": [
    "However this method is expensive. Consider e.g. the timing of this operation done for all combinations of `:ost` and `:dst`. We just want to calculate the total number of passengers in a fancy way:"
   ]
  },
  {
   "cell_type": "code",
   "execution_count": 30,
   "metadata": {},
   "outputs": [
    {
     "name": "stdout",
     "output_type": "stream",
     "text": [
      "  0.298142 seconds (559.29 k allocations: 38.428 MiB)\n"
     ]
    }
   ],
   "source": [
    "total1 = 0\n",
    "@time for o in unique(df3.ost), d in unique(df3.dst)\n",
    "    res = filter([:ost, :dst] => (ost, dst) -> ost == o && dst == d, df3)\n",
    "    global total1 += sum(res.Passengers_sum)\n",
    "end"
   ]
  },
  {
   "cell_type": "code",
   "execution_count": 31,
   "metadata": {},
   "outputs": [
    {
     "name": "stdout",
     "output_type": "stream",
     "text": [
      "  0.279141 seconds (559.03 k allocations: 38.284 MiB)\n"
     ]
    }
   ],
   "source": [
    "total1 = 0\n",
    "@time for o in unique(df3.ost), d in unique(df3.dst)\n",
    "    res = filter([:ost, :dst] => (ost, dst) -> ost == o && dst == d, df3)\n",
    "    global total1 += sum(res.Passengers_sum)\n",
    "end"
   ]
  },
  {
   "cell_type": "markdown",
   "metadata": {},
   "source": [
    "Note that we have run the operation twice to make sure we correctly handle compilation overhead."
   ]
  },
  {
   "cell_type": "markdown",
   "metadata": {},
   "source": [
    "Now let us use a bit different technique. We `groupby` the `df3` data frame first:"
   ]
  },
  {
   "cell_type": "code",
   "execution_count": 32,
   "metadata": {},
   "outputs": [
    {
     "data": {
      "text/html": [
       "<p><b>GroupedDataFrame with 2369 groups based on keys: ost, dst</b></p><p><i>First Group (1 row): ost = \"NE\", dst = \"AK\"</i></p><table class=\"data-frame\"><thead><tr><th></th><th>ost</th><th>dst</th><th>occupied</th><th>Passengers_sum</th></tr><tr><th></th><th>String</th><th>String</th><th>Float64</th><th>Int64</th></tr></thead><tbody><tr><th>1</th><td>NE</td><td>AK</td><td>1.0</td><td>180</td></tr></tbody></table><p>&vellip;</p><p><i>Last Group (1 row): ost = \"AK\", dst = \"VA\"</i></p><table class=\"data-frame\"><thead><tr><th></th><th>ost</th><th>dst</th><th>occupied</th><th>Passengers_sum</th></tr><tr><th></th><th>String</th><th>String</th><th>Float64</th><th>Int64</th></tr></thead><tbody><tr><th>1</th><td>AK</td><td>VA</td><td>0.0</td><td>0</td></tr></tbody></table>"
      ],
      "text/latex": [
       "GroupedDataFrame with 2369 groups based on keys: ost, dst\n",
       "\n",
       "First Group (1 row): ost = \"NE\", dst = \"AK\"\n",
       "\n",
       "\\begin{tabular}{r|cccc}\n",
       "\t& ost & dst & occupied & Passengers\\_sum\\\\\n",
       "\t\\hline\n",
       "\t& String & String & Float64 & Int64\\\\\n",
       "\t\\hline\n",
       "\t1 & NE & AK & 1.0 & 180 \\\\\n",
       "\\end{tabular}\n",
       "\n",
       "$\\dots$\n",
       "\n",
       "Last Group (1 row): ost = \"AK\", dst = \"VA\"\n",
       "\n",
       "\\begin{tabular}{r|cccc}\n",
       "\t& ost & dst & occupied & Passengers\\_sum\\\\\n",
       "\t\\hline\n",
       "\t& String & String & Float64 & Int64\\\\\n",
       "\t\\hline\n",
       "\t1 & AK & VA & 0.0 & 0 \\\\\n",
       "\\end{tabular}\n"
      ],
      "text/plain": [
       "GroupedDataFrame with 2369 groups based on keys: ost, dst\n",
       "First Group (1 row): ost = \"NE\", dst = \"AK\"\n",
       "│ Row │ ost    │ dst    │ occupied │ Passengers_sum │\n",
       "│     │ \u001b[90mString\u001b[39m │ \u001b[90mString\u001b[39m │ \u001b[90mFloat64\u001b[39m  │ \u001b[90mInt64\u001b[39m          │\n",
       "├─────┼────────┼────────┼──────────┼────────────────┤\n",
       "│ 1   │ NE     │ AK     │ 1.0      │ 180            │\n",
       "⋮\n",
       "Last Group (1 row): ost = \"AK\", dst = \"VA\"\n",
       "│ Row │ ost    │ dst    │ occupied │ Passengers_sum │\n",
       "│     │ \u001b[90mString\u001b[39m │ \u001b[90mString\u001b[39m │ \u001b[90mFloat64\u001b[39m  │ \u001b[90mInt64\u001b[39m          │\n",
       "├─────┼────────┼────────┼──────────┼────────────────┤\n",
       "│ 1   │ AK     │ VA     │ 0.0      │ 0              │"
      ]
     },
     "execution_count": 32,
     "metadata": {},
     "output_type": "execute_result"
    }
   ],
   "source": [
    "gdf3 = groupby(df3, [:ost, :dst])"
   ]
  },
  {
   "cell_type": "markdown",
   "metadata": {},
   "source": [
    "Now we can easiliy query it by group values (here we show such indexing by `Tuple` or `NamedTuple`):"
   ]
  },
  {
   "cell_type": "code",
   "execution_count": 33,
   "metadata": {},
   "outputs": [
    {
     "data": {
      "text/html": [
       "<table class=\"data-frame\"><thead><tr><th></th><th>ost</th><th>dst</th><th>occupied</th><th>Passengers_sum</th></tr><tr><th></th><th>String</th><th>String</th><th>Float64</th><th>Int64</th></tr></thead><tbody><p>1 rows × 4 columns</p><tr><th>1</th><td>NE</td><td>AK</td><td>1.0</td><td>180</td></tr></tbody></table>"
      ],
      "text/latex": [
       "\\begin{tabular}{r|cccc}\n",
       "\t& ost & dst & occupied & Passengers\\_sum\\\\\n",
       "\t\\hline\n",
       "\t& String & String & Float64 & Int64\\\\\n",
       "\t\\hline\n",
       "\t1 & NE & AK & 1.0 & 180 \\\\\n",
       "\\end{tabular}\n"
      ],
      "text/plain": [
       "1×4 SubDataFrame\n",
       "│ Row │ ost    │ dst    │ occupied │ Passengers_sum │\n",
       "│     │ \u001b[90mString\u001b[39m │ \u001b[90mString\u001b[39m │ \u001b[90mFloat64\u001b[39m  │ \u001b[90mInt64\u001b[39m          │\n",
       "├─────┼────────┼────────┼──────────┼────────────────┤\n",
       "│ 1   │ NE     │ AK     │ 1.0      │ 180            │"
      ]
     },
     "execution_count": 33,
     "metadata": {},
     "output_type": "execute_result"
    }
   ],
   "source": [
    "gdf3[(\"NE\", \"AK\")]"
   ]
  },
  {
   "cell_type": "code",
   "execution_count": 34,
   "metadata": {},
   "outputs": [
    {
     "data": {
      "text/html": [
       "<table class=\"data-frame\"><thead><tr><th></th><th>ost</th><th>dst</th><th>occupied</th><th>Passengers_sum</th></tr><tr><th></th><th>String</th><th>String</th><th>Float64</th><th>Int64</th></tr></thead><tbody><p>1 rows × 4 columns</p><tr><th>1</th><td>NE</td><td>AK</td><td>1.0</td><td>180</td></tr></tbody></table>"
      ],
      "text/latex": [
       "\\begin{tabular}{r|cccc}\n",
       "\t& ost & dst & occupied & Passengers\\_sum\\\\\n",
       "\t\\hline\n",
       "\t& String & String & Float64 & Int64\\\\\n",
       "\t\\hline\n",
       "\t1 & NE & AK & 1.0 & 180 \\\\\n",
       "\\end{tabular}\n"
      ],
      "text/plain": [
       "1×4 SubDataFrame\n",
       "│ Row │ ost    │ dst    │ occupied │ Passengers_sum │\n",
       "│     │ \u001b[90mString\u001b[39m │ \u001b[90mString\u001b[39m │ \u001b[90mFloat64\u001b[39m  │ \u001b[90mInt64\u001b[39m          │\n",
       "├─────┼────────┼────────┼──────────┼────────────────┤\n",
       "│ 1   │ NE     │ AK     │ 1.0      │ 180            │"
      ]
     },
     "execution_count": 34,
     "metadata": {},
     "output_type": "execute_result"
    }
   ],
   "source": [
    "gdf3[(ost=\"NE\", dst=\"AK\")]"
   ]
  },
  {
   "cell_type": "markdown",
   "metadata": {},
   "source": [
    "In the code below we will actually use a third way of querying the `GroupedDataFrame`:"
   ]
  },
  {
   "cell_type": "code",
   "execution_count": 35,
   "metadata": {},
   "outputs": [
    {
     "name": "stdout",
     "output_type": "stream",
     "text": [
      "  0.106752 seconds (300.65 k allocations: 13.305 MiB)\n"
     ]
    }
   ],
   "source": [
    "total2 = 0\n",
    "@time for k in keys(gdf3)\n",
    "    res = gdf3[k]\n",
    "    global total2 += sum(res.Passengers_sum)\n",
    "end"
   ]
  },
  {
   "cell_type": "code",
   "execution_count": 36,
   "metadata": {},
   "outputs": [
    {
     "name": "stdout",
     "output_type": "stream",
     "text": [
      "  0.001250 seconds (25.63 k allocations: 807.594 KiB)\n"
     ]
    }
   ],
   "source": [
    "total2 = 0\n",
    "@time for k in keys(gdf3)\n",
    "    res = gdf3[k]\n",
    "    global total2 += sum(res.Passengers_sum)\n",
    "end"
   ]
  },
  {
   "cell_type": "markdown",
   "metadata": {},
   "source": [
    "We can see that the speed is of two orders of magnitude better now."
   ]
  },
  {
   "cell_type": "markdown",
   "metadata": {},
   "source": [
    "Note that what we addidionally did is we used `keys` on `GroupedDataFrame`:"
   ]
  },
  {
   "cell_type": "code",
   "execution_count": 37,
   "metadata": {},
   "outputs": [
    {
     "data": {
      "text/plain": [
       "2369-element DataFrames.GroupKeys{GroupedDataFrame{DataFrame}}:\n",
       " GroupKey: (ost = \"NE\", dst = \"AK\")\n",
       " GroupKey: (ost = \"MD\", dst = \"ID\")\n",
       " GroupKey: (ost = \"ID\", dst = \"AR\")\n",
       " GroupKey: (ost = \"ID\", dst = \"MS\")\n",
       " GroupKey: (ost = \"ND\", dst = \"RI\")\n",
       " GroupKey: (ost = \"WY\", dst = \"NY\")\n",
       " GroupKey: (ost = \"OR\", dst = \"RI\")\n",
       " GroupKey: (ost = \"WV\", dst = \"NE\")\n",
       " ⋮\n",
       " GroupKey: (ost = \"RI\", dst = \"RI\")\n",
       " GroupKey: (ost = \"MN\", dst = \"DE\")\n",
       " GroupKey: (ost = \"AK\", dst = \"AR\")\n",
       " GroupKey: (ost = \"DE\", dst = \"MN\")\n",
       " GroupKey: (ost = \"AL\", dst = \"SD\")\n",
       " GroupKey: (ost = \"SC\", dst = \"SD\")\n",
       " GroupKey: (ost = \"AK\", dst = \"VA\")"
      ]
     },
     "execution_count": 37,
     "metadata": {},
     "output_type": "execute_result"
    }
   ],
   "source": [
    "keys(gdf3)"
   ]
  },
  {
   "cell_type": "markdown",
   "metadata": {},
   "source": [
    "In this way we got only the origin-destination state combinations that are actually present in our `GroupedDataFrame`."
   ]
  },
  {
   "cell_type": "markdown",
   "metadata": {},
   "source": [
    "The ability to query a `GroupedDataFrame` by grouping columns fast makes it a very useful way to add an index to a data frame."
   ]
  },
  {
   "cell_type": "markdown",
   "metadata": {},
   "source": [
    "Finally let us check that the results in both cases are correct."
   ]
  },
  {
   "cell_type": "code",
   "execution_count": 38,
   "metadata": {},
   "outputs": [
    {
     "data": {
      "text/plain": [
       "(9698370217, 9698370217, 9698370217)"
      ]
     },
     "execution_count": 38,
     "metadata": {},
     "output_type": "execute_result"
    }
   ],
   "source": [
    "total1, total2, sum(df3.Passengers_sum)"
   ]
  }
 ],
 "metadata": {
  "kernelspec": {
   "display_name": "Julia 1.4.1",
   "language": "julia",
   "name": "julia-1.4"
  },
  "language_info": {
   "file_extension": ".jl",
   "mimetype": "application/julia",
   "name": "julia",
   "version": "1.4.1"
  }
 },
 "nbformat": 4,
 "nbformat_minor": 4
}
