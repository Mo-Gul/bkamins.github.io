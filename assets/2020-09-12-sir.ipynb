{
 "cells": [
  {
   "cell_type": "markdown",
   "metadata": {},
   "source": [
    "2020-09-12, Bogumił Kamiński\n",
    "\n",
    "A companion notebook to the blog post:\n",
    "https://bkamins.github.io/julialang/2020/08/22/sir.html"
   ]
  },
  {
   "cell_type": "markdown",
   "metadata": {},
   "source": [
    "Load required packages"
   ]
  },
  {
   "cell_type": "code",
   "execution_count": 1,
   "metadata": {},
   "outputs": [],
   "source": [
    "using PyPlot\n",
    "using StatsBase"
   ]
  },
  {
   "cell_type": "markdown",
   "metadata": {},
   "source": [
    "Define agent type"
   ]
  },
  {
   "cell_type": "code",
   "execution_count": 2,
   "metadata": {},
   "outputs": [],
   "source": [
    "@enum AgentType agentS agentI agentR agentD"
   ]
  },
  {
   "cell_type": "code",
   "execution_count": 3,
   "metadata": {},
   "outputs": [],
   "source": [
    "struct Agent\n",
    "    x::Int # location of an agent in x-dimension\n",
    "    y::Int # location of an agent in y-dimension\n",
    "    type::AgentType # type of an agent\n",
    "    tick::Int # moment in time when agent entered type `type`\n",
    "end"
   ]
  },
  {
   "cell_type": "markdown",
   "metadata": {},
   "source": [
    "Define type holding information about simulation environment"
   ]
  },
  {
   "cell_type": "code",
   "execution_count": 4,
   "metadata": {},
   "outputs": [],
   "source": [
    "mutable struct Environment\n",
    "    grid::Matrix{Vector{Int}} # for each cell of a grid a vector of numbers\n",
    "                              # of agents currently occupying a given cell\n",
    "    agents::Vector{Agent}     # a vector of all agents\n",
    "    duration::Int             # metadata: how long agent stays in infected state\n",
    "    pdeath::Float64           # metadata: probability of death of an agent after\n",
    "                              # being infected\n",
    "    stats::Dict{AgentType, Vector{Int}} # a dictionary storing number of agents\n",
    "                                        # of each type in consecutive ticks\n",
    "                                        # of the simulation\n",
    "    tick::Int                 # counter of the current tick of the simulation\n",
    "end"
   ]
  },
  {
   "cell_type": "markdown",
   "metadata": {},
   "source": [
    "Routine initializing the simulation"
   ]
  },
  {
   "cell_type": "code",
   "execution_count": 5,
   "metadata": {},
   "outputs": [
    {
     "data": {
      "text/plain": [
       "init (generic function with 1 method)"
      ]
     },
     "execution_count": 5,
     "metadata": {},
     "output_type": "execute_result"
    }
   ],
   "source": [
    "function init(n::Int, infected::Int,\n",
    "              duration::Int, pdeath::Float64, xdim::Int, ydim::Int)\n",
    "    grid = [Int[] for _ in 1:xdim, _ in 1:ydim]\n",
    "    agents = [Agent(rand(1:xdim), rand(1:ydim),\n",
    "                    i <= infected ? agentI : agentS, 0) for i in 1:n]\n",
    "    for (i, a) in enumerate(agents)\n",
    "        push!(grid[a.x, a.y], i)\n",
    "    end\n",
    "    stats = Dict(agentS => [n - infected],\n",
    "                 agentI => [infected],\n",
    "                 agentR => [0],\n",
    "                 agentD => [0])\n",
    "    return Environment(grid, agents, duration, pdeath, stats, 0)\n",
    "end"
   ]
  },
  {
   "cell_type": "markdown",
   "metadata": {},
   "source": [
    "Definitions of actions that agent can make"
   ]
  },
  {
   "cell_type": "code",
   "execution_count": 6,
   "metadata": {},
   "outputs": [
    {
     "data": {
      "text/plain": [
       "die (generic function with 1 method)"
      ]
     },
     "execution_count": 6,
     "metadata": {},
     "output_type": "execute_result"
    }
   ],
   "source": [
    "die(a::Agent, tick::Int) = Agent(a.x, a.y, agentD, tick)"
   ]
  },
  {
   "cell_type": "code",
   "execution_count": 7,
   "metadata": {},
   "outputs": [
    {
     "data": {
      "text/plain": [
       "recover (generic function with 1 method)"
      ]
     },
     "execution_count": 7,
     "metadata": {},
     "output_type": "execute_result"
    }
   ],
   "source": [
    "recover(a::Agent, tick::Int) = Agent(a.x, a.y, agentR, tick)"
   ]
  },
  {
   "cell_type": "code",
   "execution_count": 8,
   "metadata": {},
   "outputs": [
    {
     "data": {
      "text/plain": [
       "infect (generic function with 1 method)"
      ]
     },
     "execution_count": 8,
     "metadata": {},
     "output_type": "execute_result"
    }
   ],
   "source": [
    "infect(a::Agent, tick::Int) = Agent(a.x, a.y, agentI, tick)"
   ]
  },
  {
   "cell_type": "code",
   "execution_count": 9,
   "metadata": {},
   "outputs": [
    {
     "data": {
      "text/plain": [
       "move (generic function with 1 method)"
      ]
     },
     "execution_count": 9,
     "metadata": {},
     "output_type": "execute_result"
    }
   ],
   "source": [
    "move(a::Agent, dims::Tuple{Int, Int}) =\n",
    "    if a.type == agentD\n",
    "        a\n",
    "    else\n",
    "        Agent(mod1(a.x + rand(-1:1), dims[1]),\n",
    "              mod1(a.y + rand(-1:1), dims[2]),\n",
    "              a.type, a.tick)\n",
    "    end"
   ]
  },
  {
   "cell_type": "markdown",
   "metadata": {},
   "source": [
    "A global routine that updates types of agents in a single tick"
   ]
  },
  {
   "cell_type": "code",
   "execution_count": 10,
   "metadata": {},
   "outputs": [
    {
     "data": {
      "text/plain": [
       "update_type! (generic function with 1 method)"
      ]
     },
     "execution_count": 10,
     "metadata": {},
     "output_type": "execute_result"
    }
   ],
   "source": [
    "function update_type!(env::Environment)\n",
    "    tick = env.tick\n",
    "    for (i, a) in enumerate(env.agents)\n",
    "        if a.type == agentI\n",
    "            if tick - a.tick > env.duration\n",
    "                env.agents[i] = if rand() < env.pdeath\n",
    "                    die(a, tick)\n",
    "                else\n",
    "                    recover(a, tick)\n",
    "                end\n",
    "            else\n",
    "                a.tick == tick && continue\n",
    "                for j in env.grid[a.x, a.y]\n",
    "                    a2 = env.agents[j]\n",
    "                    if a2.type == agentS\n",
    "                        env.agents[j] = infect(a2, tick)\n",
    "                    end\n",
    "                end\n",
    "            end\n",
    "        end\n",
    "    end\n",
    "end"
   ]
  },
  {
   "cell_type": "markdown",
   "metadata": {},
   "source": [
    "Routine handling of movement of all agents"
   ]
  },
  {
   "cell_type": "code",
   "execution_count": 11,
   "metadata": {},
   "outputs": [
    {
     "data": {
      "text/plain": [
       "move_all! (generic function with 1 method)"
      ]
     },
     "execution_count": 11,
     "metadata": {},
     "output_type": "execute_result"
    }
   ],
   "source": [
    "function move_all!(grid::Matrix{Vector{Int}}, agents::Vector{Agent})\n",
    "    foreach(empty!, grid)\n",
    "    for (i, agent) in enumerate(agents)\n",
    "        a = move(agent, size(grid))\n",
    "        agents[i] = a\n",
    "        push!(grid[a.x, a.y], i)\n",
    "    end\n",
    "end"
   ]
  },
  {
   "cell_type": "markdown",
   "metadata": {},
   "source": [
    "Helper function for collection of simulation statistics"
   ]
  },
  {
   "cell_type": "code",
   "execution_count": 12,
   "metadata": {},
   "outputs": [
    {
     "data": {
      "text/plain": [
       "get_statistics! (generic function with 1 method)"
      ]
     },
     "execution_count": 12,
     "metadata": {},
     "output_type": "execute_result"
    }
   ],
   "source": [
    "function get_statistics!(env::Environment)\n",
    "    status = countmap([a.type for a in env.agents])\n",
    "    for (k, v) in env.stats\n",
    "        push!(v, get(status, k, 0))\n",
    "    end\n",
    "end"
   ]
  },
  {
   "cell_type": "markdown",
   "metadata": {},
   "source": [
    "Main routine for running simulations"
   ]
  },
  {
   "cell_type": "code",
   "execution_count": 13,
   "metadata": {},
   "outputs": [
    {
     "data": {
      "text/plain": [
       "run! (generic function with 1 method)"
      ]
     },
     "execution_count": 13,
     "metadata": {},
     "output_type": "execute_result"
    }
   ],
   "source": [
    "function run!(env::Environment)\n",
    "    while env.stats[agentI][end] > 0\n",
    "        env.tick += 1\n",
    "        update_type!(env)\n",
    "        move_all!(env.grid, env.agents)\n",
    "        get_statistics!(env)\n",
    "    end\n",
    "end"
   ]
  },
  {
   "cell_type": "markdown",
   "metadata": {},
   "source": [
    "Perform a single run of our simulation"
   ]
  },
  {
   "cell_type": "code",
   "execution_count": 14,
   "metadata": {},
   "outputs": [
    {
     "data": {
      "text/plain": [
       "Environment([Int64[] Int64[] … [1135] Int64[]; Int64[] Int64[] … Int64[] Int64[]; … ; Int64[] Int64[] … Int64[] [1274]; Int64[] Int64[] … Int64[] Int64[]], Agent[Agent(65, 81, agentI, 0), Agent(51, 46, agentI, 0), Agent(5, 94, agentI, 0), Agent(27, 99, agentI, 0), Agent(74, 34, agentI, 0), Agent(12, 4, agentI, 0), Agent(94, 49, agentI, 0), Agent(94, 83, agentI, 0), Agent(21, 86, agentI, 0), Agent(89, 11, agentI, 0)  …  Agent(32, 52, agentS, 0), Agent(3, 23, agentS, 0), Agent(87, 11, agentS, 0), Agent(11, 22, agentS, 0), Agent(50, 14, agentS, 0), Agent(87, 93, agentS, 0), Agent(45, 13, agentS, 0), Agent(99, 71, agentS, 0), Agent(49, 12, agentS, 0), Agent(66, 69, agentS, 0)], 21, 0.05, Dict{AgentType,Array{Int64,1}}(agentD => [0],agentS => [1990],agentI => [10],agentR => [0]), 0)"
      ]
     },
     "execution_count": 14,
     "metadata": {},
     "output_type": "execute_result"
    }
   ],
   "source": [
    "e = init(2000, 10, 21, 0.05, 100, 100)"
   ]
  },
  {
   "cell_type": "code",
   "execution_count": 15,
   "metadata": {},
   "outputs": [],
   "source": [
    "run!(e)"
   ]
  },
  {
   "cell_type": "markdown",
   "metadata": {},
   "source": [
    "Plot the results"
   ]
  },
  {
   "cell_type": "code",
   "execution_count": 16,
   "metadata": {},
   "outputs": [
    {
     "data": {
      "image/png": "[encoded data removed]",
      "text/plain": [
       "Figure(PyObject <Figure size 640x480 with 1 Axes>)"
      ]
     },
     "metadata": {},
     "output_type": "display_data"
    },
    {
     "data": {
      "text/plain": [
       "PyObject <matplotlib.legend.Legend object at 0x7f5e7e676bd0>"
      ]
     },
     "execution_count": 16,
     "metadata": {},
     "output_type": "execute_result"
    }
   ],
   "source": [
    "foreach(plot, values(e.stats))\n",
    "legend(string.(keys(e.stats)))"
   ]
  },
  {
   "cell_type": "markdown",
   "metadata": {},
   "source": [
    "Define a helper function counting a fraction of infected agents at the end of the simulation"
   ]
  },
  {
   "cell_type": "code",
   "execution_count": 17,
   "metadata": {},
   "outputs": [
    {
     "data": {
      "text/plain": [
       "fraction_infected (generic function with 1 method)"
      ]
     },
     "execution_count": 17,
     "metadata": {},
     "output_type": "execute_result"
    }
   ],
   "source": [
    "function fraction_infected(l)\n",
    "    e = init(2000, 10, l, 0.05, 100, 100)\n",
    "    run!(e)\n",
    "    return 1 - e.stats[agentS][end] / 2000\n",
    "end"
   ]
  },
  {
   "cell_type": "markdown",
   "metadata": {},
   "source": [
    "Now run a simulation for different values of `duration` (16 times for each value)"
   ]
  },
  {
   "cell_type": "code",
   "execution_count": 18,
   "metadata": {},
   "outputs": [
    {
     "data": {
      "text/plain": [
       "26-element Array{Float64,1}:\n",
       " 0.018124999999999974\n",
       " 0.02193749999999999\n",
       " 0.03040624999999999\n",
       " 0.04293750000000001\n",
       " 0.06146875000000001\n",
       " 0.09006249999999999\n",
       " 0.13025\n",
       " 0.18446875000000001\n",
       " 0.2669375\n",
       " 0.3621875\n",
       " 0.40771874999999996\n",
       " 0.5521875\n",
       " 0.6359375\n",
       " 0.6985312499999998\n",
       " 0.7406562499999998\n",
       " 0.8148750000000001\n",
       " 0.8330625\n",
       " 0.8565625000000001\n",
       " 0.874\n",
       " 0.9031562500000001\n",
       " 0.91071875\n",
       " 0.9226249999999998\n",
       " 0.9350312500000002\n",
       " 0.9441249999999998\n",
       " 0.9506562499999999\n",
       " 0.9595000000000001"
      ]
     },
     "execution_count": 18,
     "metadata": {},
     "output_type": "execute_result"
    }
   ],
   "source": [
    "len = 5:30\n",
    "runs = 16\n",
    "inf = [sum(fraction_infected(l) for r in 1:runs) / runs for l in len]"
   ]
  },
  {
   "cell_type": "markdown",
   "metadata": {},
   "source": [
    "and show the results"
   ]
  },
  {
   "cell_type": "code",
   "execution_count": 19,
   "metadata": {},
   "outputs": [
    {
     "data": {
      "image/png": "[encoded data removed]",
      "text/plain": [
       "Figure(PyObject <Figure size 640x480 with 1 Axes>)"
      ]
     },
     "metadata": {},
     "output_type": "display_data"
    },
    {
     "data": {
      "text/plain": [
       "1-element Array{PyCall.PyObject,1}:\n",
       " PyObject <matplotlib.lines.Line2D object at 0x7f5e62fca510>"
      ]
     },
     "execution_count": 19,
     "metadata": {},
     "output_type": "execute_result"
    }
   ],
   "source": [
    "plot(len, inf)"
   ]
  }
 ],
 "metadata": {
  "kernelspec": {
   "display_name": "Julia 1.5.0",
   "language": "julia",
   "name": "julia-1.5"
  },
  "language_info": {
   "file_extension": ".jl",
   "mimetype": "application/julia",
   "name": "julia",
   "version": "1.5.0"
  }
 },
 "nbformat": 4,
 "nbformat_minor": 4
}
